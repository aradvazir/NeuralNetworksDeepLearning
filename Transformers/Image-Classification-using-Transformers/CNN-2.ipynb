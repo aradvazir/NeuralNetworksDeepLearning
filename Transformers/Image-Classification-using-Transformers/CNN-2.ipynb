{
 "cells": [
  {
   "cell_type": "code",
   "execution_count": 1,
   "id": "1dfd48d7",
   "metadata": {
    "execution": {
     "iopub.execute_input": "2024-06-12T15:31:01.237535Z",
     "iopub.status.busy": "2024-06-12T15:31:01.236706Z",
     "iopub.status.idle": "2024-06-12T15:31:05.538125Z",
     "shell.execute_reply": "2024-06-12T15:31:05.537008Z"
    },
    "papermill": {
     "duration": 4.326356,
     "end_time": "2024-06-12T15:31:05.540316",
     "exception": false,
     "start_time": "2024-06-12T15:31:01.213960",
     "status": "completed"
    },
    "tags": []
   },
   "outputs": [
    {
     "name": "stdout",
     "output_type": "stream",
     "text": [
      "2.1.2\n"
     ]
    }
   ],
   "source": [
    "import torch\n",
    "print(torch.__version__)"
   ]
  },
  {
   "cell_type": "code",
   "execution_count": 2,
   "id": "4c142648",
   "metadata": {
    "execution": {
     "iopub.execute_input": "2024-06-12T15:31:05.629510Z",
     "iopub.status.busy": "2024-06-12T15:31:05.629130Z",
     "iopub.status.idle": "2024-06-12T15:31:09.861413Z",
     "shell.execute_reply": "2024-06-12T15:31:09.860635Z"
    },
    "papermill": {
     "duration": 4.257177,
     "end_time": "2024-06-12T15:31:09.863664",
     "exception": false,
     "start_time": "2024-06-12T15:31:05.606487",
     "status": "completed"
    },
    "tags": []
   },
   "outputs": [],
   "source": [
    "import torch         \n",
    "import time          \n",
    "import torch.nn as nn \n",
    "import torch.optim as optim \n",
    "import torchvision   \n",
    "from tqdm import tqdm \n",
    "import numpy as np\n",
    "import torchvision.transforms as transforms \n",
    "from torchvision.models import vgg19  \n",
    "import timm \n",
    "import matplotlib.pyplot as plt\n",
    "from transformers import DeiTForImageClassificationWithTeacher"
   ]
  },
  {
   "cell_type": "markdown",
   "id": "d8ef74f2",
   "metadata": {
    "papermill": {
     "duration": 0.021692,
     "end_time": "2024-06-12T15:31:09.907665",
     "exception": false,
     "start_time": "2024-06-12T15:31:09.885973",
     "status": "completed"
    },
    "tags": []
   },
   "source": [
    "Check if a CUDA-capable GPU is available. If available, set the device to \"cuda\" for GPU processing. Otherwise, set the device to \"cpu\" for CPU processing."
   ]
  },
  {
   "cell_type": "code",
   "execution_count": 3,
   "id": "3b69323e",
   "metadata": {
    "execution": {
     "iopub.execute_input": "2024-06-12T15:31:09.953107Z",
     "iopub.status.busy": "2024-06-12T15:31:09.952273Z",
     "iopub.status.idle": "2024-06-12T15:31:10.037449Z",
     "shell.execute_reply": "2024-06-12T15:31:10.036497Z"
    },
    "papermill": {
     "duration": 0.110341,
     "end_time": "2024-06-12T15:31:10.039509",
     "exception": false,
     "start_time": "2024-06-12T15:31:09.929168",
     "status": "completed"
    },
    "tags": []
   },
   "outputs": [
    {
     "name": "stdout",
     "output_type": "stream",
     "text": [
      "cuda\n"
     ]
    }
   ],
   "source": [
    "device = torch.device(\"cuda\" if torch.cuda.is_available() else \"cpu\")\n",
    "print(device)"
   ]
  },
  {
   "cell_type": "markdown",
   "id": "854ac22a",
   "metadata": {
    "papermill": {
     "duration": 0.022181,
     "end_time": "2024-06-12T15:31:10.085351",
     "exception": false,
     "start_time": "2024-06-12T15:31:10.063170",
     "status": "completed"
    },
    "tags": []
   },
   "source": [
    "To ensure the data is preprocessed consistently and efficiently for training and evaluating a neural network model in PyTorch, we have to follow the below process:\n",
    "1. Transformation\n",
    "2. Load Dataset\n",
    "3. Build DataLoader"
   ]
  },
  {
   "cell_type": "markdown",
   "id": "c834e6d9",
   "metadata": {
    "papermill": {
     "duration": 0.021931,
     "end_time": "2024-06-12T15:31:10.129402",
     "exception": false,
     "start_time": "2024-06-12T15:31:10.107471",
     "status": "completed"
    },
    "tags": []
   },
   "source": [
    "Before building the models, we define some useful functions here for future use."
   ]
  },
  {
   "cell_type": "markdown",
   "id": "cd9f7534",
   "metadata": {
    "papermill": {
     "duration": 0.021656,
     "end_time": "2024-06-12T15:31:10.172962",
     "exception": false,
     "start_time": "2024-06-12T15:31:10.151306",
     "status": "completed"
    },
    "tags": []
   },
   "source": [
    "Define a function for counting model's parameters."
   ]
  },
  {
   "cell_type": "code",
   "execution_count": 4,
   "id": "24799cf4",
   "metadata": {
    "execution": {
     "iopub.execute_input": "2024-06-12T15:31:10.217605Z",
     "iopub.status.busy": "2024-06-12T15:31:10.217290Z",
     "iopub.status.idle": "2024-06-12T15:31:10.221624Z",
     "shell.execute_reply": "2024-06-12T15:31:10.220807Z"
    },
    "papermill": {
     "duration": 0.028721,
     "end_time": "2024-06-12T15:31:10.223445",
     "exception": false,
     "start_time": "2024-06-12T15:31:10.194724",
     "status": "completed"
    },
    "tags": []
   },
   "outputs": [],
   "source": [
    "def count_parameters(model):\n",
    "    return sum(p.numel() for p in model.parameters() if p.requires_grad)"
   ]
  },
  {
   "cell_type": "markdown",
   "id": "facdbf89",
   "metadata": {
    "papermill": {
     "duration": 0.021612,
     "end_time": "2024-06-12T15:31:10.266949",
     "exception": false,
     "start_time": "2024-06-12T15:31:10.245337",
     "status": "completed"
    },
    "tags": []
   },
   "source": [
    "Define a function which plots accuracy and loss during trainnig."
   ]
  },
  {
   "cell_type": "code",
   "execution_count": 5,
   "id": "83660207",
   "metadata": {
    "execution": {
     "iopub.execute_input": "2024-06-12T15:31:10.312052Z",
     "iopub.status.busy": "2024-06-12T15:31:10.311751Z",
     "iopub.status.idle": "2024-06-12T15:31:10.318742Z",
     "shell.execute_reply": "2024-06-12T15:31:10.317894Z"
    },
    "papermill": {
     "duration": 0.032081,
     "end_time": "2024-06-12T15:31:10.320713",
     "exception": false,
     "start_time": "2024-06-12T15:31:10.288632",
     "status": "completed"
    },
    "tags": []
   },
   "outputs": [],
   "source": [
    "def plot_acc_loss_cnn(train_losses, val_losses, train_accs, val_accs):\n",
    "    plt.figure(figsize=(12, 5))\n",
    "\n",
    "    # Plot loss curves\n",
    "    plt.subplot(1, 2, 1)\n",
    "    plt.plot(train_losses, label='Train Loss')\n",
    "    plt.plot(val_losses, label='Val Loss')\n",
    "    plt.xlabel('Epoch')\n",
    "    plt.ylabel('Loss')\n",
    "    plt.title('Loss Curves')\n",
    "    plt.legend()\n",
    "\n",
    "    # Plot accuracy curves\n",
    "    plt.subplot(1, 2, 2)\n",
    "    plt.plot(train_accs, label='Train Acc')\n",
    "    plt.plot(val_accs, label='Val Acc')\n",
    "    plt.xlabel('Epoch')\n",
    "    plt.ylabel('Accuracy (%)')\n",
    "    plt.title('Accuracy Curves')\n",
    "    plt.legend()\n",
    "\n",
    "    plt.show()"
   ]
  },
  {
   "cell_type": "code",
   "execution_count": 6,
   "id": "e2dca953",
   "metadata": {
    "execution": {
     "iopub.execute_input": "2024-06-12T15:31:10.366531Z",
     "iopub.status.busy": "2024-06-12T15:31:10.366272Z",
     "iopub.status.idle": "2024-06-12T15:31:10.373220Z",
     "shell.execute_reply": "2024-06-12T15:31:10.372390Z"
    },
    "papermill": {
     "duration": 0.032572,
     "end_time": "2024-06-12T15:31:10.375269",
     "exception": false,
     "start_time": "2024-06-12T15:31:10.342697",
     "status": "completed"
    },
    "tags": []
   },
   "outputs": [],
   "source": [
    "def plot_acc_loss_transformer(train_losses, val_losses, train_accs, val_accs):\n",
    "    plt.figure(figsize=(12, 5))\n",
    "\n",
    "    plt.subplot(1, 2, 1)\n",
    "    plt.plot(train_losses, label='Training Loss')\n",
    "    plt.plot(val_losses, label='Validation Loss')\n",
    "    plt.xlabel('Epoch')\n",
    "    plt.ylabel('Loss')\n",
    "    plt.title('Training and Validation Loss')\n",
    "    plt.legend()\n",
    "\n",
    "    # Plot training and validation accuracy\n",
    "    plt.subplot(1, 2, 2)\n",
    "    plt.plot(train_accs, label='Training Accuracy')\n",
    "    plt.plot(val_accs, label='Validation Accuracy')\n",
    "    plt.xlabel('Epoch')\n",
    "    plt.ylabel('Accuracy')\n",
    "    plt.title('Training and Validation Accuracy')\n",
    "    plt.legend()\n",
    "\n",
    "    plt.tight_layout()\n",
    "    plt.show()"
   ]
  },
  {
   "cell_type": "markdown",
   "id": "c1feb86d",
   "metadata": {
    "papermill": {
     "duration": 0.021445,
     "end_time": "2024-06-12T15:31:10.418932",
     "exception": false,
     "start_time": "2024-06-12T15:31:10.397487",
     "status": "completed"
    },
    "tags": []
   },
   "source": [
    "Define a function which prints the mean train and validation time."
   ]
  },
  {
   "cell_type": "code",
   "execution_count": 7,
   "id": "2938c0c2",
   "metadata": {
    "execution": {
     "iopub.execute_input": "2024-06-12T15:31:10.501796Z",
     "iopub.status.busy": "2024-06-12T15:31:10.501470Z",
     "iopub.status.idle": "2024-06-12T15:31:10.506254Z",
     "shell.execute_reply": "2024-06-12T15:31:10.505393Z"
    },
    "papermill": {
     "duration": 0.067268,
     "end_time": "2024-06-12T15:31:10.508086",
     "exception": false,
     "start_time": "2024-06-12T15:31:10.440818",
     "status": "completed"
    },
    "tags": []
   },
   "outputs": [],
   "source": [
    "def report_mean_train_val_time(train_times, val_times):\n",
    "    mean_train_time = sum(train_times) / len(train_times)\n",
    "    mean_val_time = sum(val_times) / len(val_times)\n",
    "    print(f\"Mean Train Time: {mean_train_time:.3f} seconds\")\n",
    "    print(f\"Mean Validation Time: {mean_val_time:.3f} seconds\")"
   ]
  },
  {
   "cell_type": "markdown",
   "id": "5667e2ec",
   "metadata": {
    "papermill": {
     "duration": 0.022557,
     "end_time": "2024-06-12T15:31:10.552973",
     "exception": false,
     "start_time": "2024-06-12T15:31:10.530416",
     "status": "completed"
    },
    "tags": []
   },
   "source": [
    "Define a function which gives the model as an input and evaluates it on trainset."
   ]
  },
  {
   "cell_type": "code",
   "execution_count": 8,
   "id": "7e84b9a9",
   "metadata": {
    "execution": {
     "iopub.execute_input": "2024-06-12T15:31:10.601631Z",
     "iopub.status.busy": "2024-06-12T15:31:10.601333Z",
     "iopub.status.idle": "2024-06-12T15:31:10.608048Z",
     "shell.execute_reply": "2024-06-12T15:31:10.607221Z"
    },
    "papermill": {
     "duration": 0.033006,
     "end_time": "2024-06-12T15:31:10.609967",
     "exception": false,
     "start_time": "2024-06-12T15:31:10.576961",
     "status": "completed"
    },
    "tags": []
   },
   "outputs": [],
   "source": [
    "def evaluate_model(model, testloader, base):\n",
    "    model.eval()\n",
    "    correct_test, total_test = 0, 0\n",
    "    with torch.no_grad():\n",
    "        for data in testloader:\n",
    "            images, labels = data[0].to(device), data[1].to(device)\n",
    "            outputs = model(images)\n",
    "            if base == \"cnn\":\n",
    "                _, predicted = torch.max(outputs.data, 1)\n",
    "            else:\n",
    "                logits = outputs.logits\n",
    "                _, predicted = torch.max(logits, 1)\n",
    "            total_test += labels.size(0)\n",
    "            correct_test += (predicted == labels).sum().item()\n",
    "\n",
    "    test_accuracy = 100 * correct_test / total_test\n",
    "    print(f\"Test Accuracy: {test_accuracy}%\")"
   ]
  },
  {
   "cell_type": "markdown",
   "id": "0580d632",
   "metadata": {
    "papermill": {
     "duration": 0.02149,
     "end_time": "2024-06-12T15:31:10.653831",
     "exception": false,
     "start_time": "2024-06-12T15:31:10.632341",
     "status": "completed"
    },
    "tags": []
   },
   "source": [
    "## 1. <a id=\"Dataset\">Load and preprocess the dataset</a>"
   ]
  },
  {
   "cell_type": "markdown",
   "id": "6a71e6e3",
   "metadata": {
    "papermill": {
     "duration": 0.021399,
     "end_time": "2024-06-12T15:31:10.697146",
     "exception": false,
     "start_time": "2024-06-12T15:31:10.675747",
     "status": "completed"
    },
    "tags": []
   },
   "source": [
    "**Transformation**:\n",
    "* Resize: Resize images to $224 \\times 224$ pixels.\n",
    "* Randomly flips the images horizontally (only in the training set).\n",
    "* Converts images to PyTorch tensors and scales pixel values to [0, 1].\n",
    "* Normalizes the images with the given mean and standard deviation for each channel.\n",
    "\n",
    "**Note**: For normalizing the CIFAR-10 dataset, we concidered mean and standard deviation for channels RGB as $(0.4914, 0.4822, 0.4465)$ and $(0.2470, 0.2435, 0.2616)$ respectively."
   ]
  },
  {
   "cell_type": "markdown",
   "id": "6209acce",
   "metadata": {
    "papermill": {
     "duration": 0.021724,
     "end_time": "2024-06-12T15:31:10.740702",
     "exception": false,
     "start_time": "2024-06-12T15:31:10.718978",
     "status": "completed"
    },
    "tags": []
   },
   "source": [
    "### 1.1. <a id=\"DataTransforms\">Data Transforms</a>\n",
    "\n",
    "Define the data transformations for training and testing sets."
   ]
  },
  {
   "cell_type": "code",
   "execution_count": 9,
   "id": "1364ee66",
   "metadata": {
    "execution": {
     "iopub.execute_input": "2024-06-12T15:31:10.785619Z",
     "iopub.status.busy": "2024-06-12T15:31:10.785297Z",
     "iopub.status.idle": "2024-06-12T15:31:10.789514Z",
     "shell.execute_reply": "2024-06-12T15:31:10.788705Z"
    },
    "papermill": {
     "duration": 0.029087,
     "end_time": "2024-06-12T15:31:10.791488",
     "exception": false,
     "start_time": "2024-06-12T15:31:10.762401",
     "status": "completed"
    },
    "tags": []
   },
   "outputs": [],
   "source": [
    "INPUT_SIZE = (224, 224)\n",
    "MEAN = (0.4914, 0.4822, 0.4465)\n",
    "STD  = (0.2470, 0.2435, 0.2616)"
   ]
  },
  {
   "cell_type": "markdown",
   "id": "74cd49c2",
   "metadata": {
    "papermill": {
     "duration": 0.021815,
     "end_time": "2024-06-12T15:31:10.835354",
     "exception": false,
     "start_time": "2024-06-12T15:31:10.813539",
     "status": "completed"
    },
    "tags": []
   },
   "source": [
    "Define batch size for both models."
   ]
  },
  {
   "cell_type": "code",
   "execution_count": 10,
   "id": "c372c3e0",
   "metadata": {
    "execution": {
     "iopub.execute_input": "2024-06-12T15:31:10.880176Z",
     "iopub.status.busy": "2024-06-12T15:31:10.879914Z",
     "iopub.status.idle": "2024-06-12T15:31:10.884479Z",
     "shell.execute_reply": "2024-06-12T15:31:10.883793Z"
    },
    "papermill": {
     "duration": 0.028873,
     "end_time": "2024-06-12T15:31:10.886399",
     "exception": false,
     "start_time": "2024-06-12T15:31:10.857526",
     "status": "completed"
    },
    "tags": []
   },
   "outputs": [],
   "source": [
    "batch_size = 256"
   ]
  },
  {
   "cell_type": "code",
   "execution_count": 11,
   "id": "beb920b5",
   "metadata": {
    "execution": {
     "iopub.execute_input": "2024-06-12T15:31:10.931924Z",
     "iopub.status.busy": "2024-06-12T15:31:10.931622Z",
     "iopub.status.idle": "2024-06-12T15:31:10.936723Z",
     "shell.execute_reply": "2024-06-12T15:31:10.935909Z"
    },
    "papermill": {
     "duration": 0.029844,
     "end_time": "2024-06-12T15:31:10.938613",
     "exception": false,
     "start_time": "2024-06-12T15:31:10.908769",
     "status": "completed"
    },
    "tags": []
   },
   "outputs": [],
   "source": [
    "train_transform = transforms.Compose(\n",
    "    [\n",
    "        transforms.Resize(INPUT_SIZE),\n",
    "        transforms.RandomHorizontalFlip(),\n",
    "        transforms.ToTensor(),\n",
    "        transforms.Normalize(MEAN, STD)\n",
    "    ]\n",
    ")\n",
    "\n",
    "test_transform = transforms.Compose(\n",
    "    [\n",
    "        transforms.Resize(INPUT_SIZE),\n",
    "        transforms.ToTensor(),\n",
    "        transforms.Normalize(MEAN, STD)\n",
    "    ]\n",
    ")"
   ]
  },
  {
   "cell_type": "markdown",
   "id": "50d73491",
   "metadata": {
    "papermill": {
     "duration": 0.021631,
     "end_time": "2024-06-12T15:31:10.982612",
     "exception": false,
     "start_time": "2024-06-12T15:31:10.960981",
     "status": "completed"
    },
    "tags": []
   },
   "source": [
    "### 1.2. <a id=\"DatasetDataloader\">Dataset and DataLoader Creation</a>\n",
    "\n",
    "Load the CIFAR-10 dataset, split train set into training and validation sets, and create data loaders.(80% train, 20% validation)"
   ]
  },
  {
   "cell_type": "code",
   "execution_count": 12,
   "id": "e61c452f",
   "metadata": {
    "execution": {
     "iopub.execute_input": "2024-06-12T15:31:11.027744Z",
     "iopub.status.busy": "2024-06-12T15:31:11.027467Z",
     "iopub.status.idle": "2024-06-12T15:31:16.559260Z",
     "shell.execute_reply": "2024-06-12T15:31:16.558473Z"
    },
    "papermill": {
     "duration": 5.557475,
     "end_time": "2024-06-12T15:31:16.561916",
     "exception": false,
     "start_time": "2024-06-12T15:31:11.004441",
     "status": "completed"
    },
    "tags": []
   },
   "outputs": [
    {
     "name": "stdout",
     "output_type": "stream",
     "text": [
      "Downloading https://www.cs.toronto.edu/~kriz/cifar-10-python.tar.gz to ./data/cifar-10-python.tar.gz\n"
     ]
    },
    {
     "name": "stderr",
     "output_type": "stream",
     "text": [
      "100%|██████████| 170498071/170498071 [00:02<00:00, 78944309.85it/s]\n"
     ]
    },
    {
     "name": "stdout",
     "output_type": "stream",
     "text": [
      "Extracting ./data/cifar-10-python.tar.gz to ./data\n",
      "Files already downloaded and verified\n"
     ]
    }
   ],
   "source": [
    "train_set = torchvision.datasets.CIFAR10(root='./data', train=True, \n",
    "                                        download=True, transform=train_transform)\n",
    "\n",
    "train_size = int(0.8 * len(train_set))\n",
    "val_size = len(train_set) - train_size\n",
    "\n",
    "train_set, val_set = torch.utils.data.random_split(train_set, [train_size, val_size])\n",
    "\n",
    "test_set = torchvision.datasets.CIFAR10(root='./data', train=False, \n",
    "                                        download=True, transform=test_transform)\n"
   ]
  },
  {
   "cell_type": "markdown",
   "id": "be45c087",
   "metadata": {
    "papermill": {
     "duration": 0.025785,
     "end_time": "2024-06-12T15:31:16.613397",
     "exception": false,
     "start_time": "2024-06-12T15:31:16.587612",
     "status": "completed"
    },
    "tags": []
   },
   "source": [
    "### 1.3. <a id=\"DataLoader\">DataLoader</a>\n",
    "\n",
    "Iterate over the dataset with batching, shuffling, and parallel data loading."
   ]
  },
  {
   "cell_type": "code",
   "execution_count": 13,
   "id": "b374548b",
   "metadata": {
    "execution": {
     "iopub.execute_input": "2024-06-12T15:31:16.669342Z",
     "iopub.status.busy": "2024-06-12T15:31:16.668993Z",
     "iopub.status.idle": "2024-06-12T15:31:16.674959Z",
     "shell.execute_reply": "2024-06-12T15:31:16.674005Z"
    },
    "papermill": {
     "duration": 0.037772,
     "end_time": "2024-06-12T15:31:16.677202",
     "exception": false,
     "start_time": "2024-06-12T15:31:16.639430",
     "status": "completed"
    },
    "tags": []
   },
   "outputs": [],
   "source": [
    "trainloader = torch.utils.data.DataLoader(train_set, batch_size=batch_size, shuffle=True, num_workers=2)\n",
    "valloader = torch.utils.data.DataLoader(val_set, batch_size=batch_size, shuffle=False, num_workers=2)\n",
    "testloader = torch.utils.data.DataLoader(test_set, batch_size=batch_size, shuffle=False, num_workers=2)"
   ]
  },
  {
   "cell_type": "markdown",
   "id": "6f33b0e9",
   "metadata": {
    "papermill": {
     "duration": 0.027759,
     "end_time": "2024-06-12T15:31:16.732895",
     "exception": false,
     "start_time": "2024-06-12T15:31:16.705136",
     "status": "completed"
    },
    "tags": []
   },
   "source": [
    "Let's look what the y_train batchs look like."
   ]
  },
  {
   "cell_type": "code",
   "execution_count": 14,
   "id": "ac42e3f9",
   "metadata": {
    "execution": {
     "iopub.execute_input": "2024-06-12T15:31:16.781953Z",
     "iopub.status.busy": "2024-06-12T15:31:16.781648Z",
     "iopub.status.idle": "2024-06-12T15:31:18.187229Z",
     "shell.execute_reply": "2024-06-12T15:31:18.186136Z"
    },
    "papermill": {
     "duration": 1.432906,
     "end_time": "2024-06-12T15:31:18.189587",
     "exception": false,
     "start_time": "2024-06-12T15:31:16.756681",
     "status": "completed"
    },
    "tags": []
   },
   "outputs": [
    {
     "name": "stdout",
     "output_type": "stream",
     "text": [
      "Shape of y_train: tensor([9, 0, 2, 8, 3, 7, 6, 5, 9, 5, 2, 4, 5, 0, 8, 0, 6, 0, 6, 5, 1, 2, 5, 8,\n",
      "        8, 3, 5, 6, 1, 3, 9, 1, 8, 3, 1, 3, 4, 7, 7, 6, 9, 8, 7, 2, 2, 6, 0, 2,\n",
      "        2, 2, 8, 3, 1, 2, 9, 2, 6, 8, 6, 0, 6, 3, 6, 9, 7, 8, 1, 0, 4, 7, 6, 6,\n",
      "        8, 5, 6, 0, 7, 5, 5, 5, 2, 8, 2, 2, 4, 9, 5, 1, 6, 4, 4, 3, 8, 6, 7, 1,\n",
      "        6, 6, 6, 4, 7, 4, 1, 2, 5, 7, 6, 7, 0, 0, 3, 7, 0, 8, 9, 7, 0, 5, 8, 8,\n",
      "        1, 6, 7, 6, 7, 5, 5, 6, 1, 0, 2, 2, 8, 7, 9, 7, 9, 5, 8, 8, 2, 1, 7, 9,\n",
      "        9, 8, 5, 0, 1, 9, 7, 6, 5, 1, 6, 2, 6, 1, 6, 1, 2, 9, 5, 3, 9, 2, 0, 1,\n",
      "        7, 7, 6, 8, 9, 1, 6, 4, 4, 6, 9, 1, 8, 8, 3, 5, 3, 7, 5, 9, 3, 8, 0, 2,\n",
      "        4, 2, 8, 7, 9, 1, 7, 1, 7, 1, 4, 7, 9, 9, 7, 8, 6, 6, 5, 7, 0, 1, 5, 2,\n",
      "        4, 1, 7, 3, 8, 8, 2, 8, 5, 9, 0, 8, 1, 2, 8, 4, 2, 1, 1, 9, 0, 4, 7, 1,\n",
      "        6, 6, 4, 4, 1, 1, 3, 7, 4, 1, 7, 7, 1, 6, 0, 7])\n"
     ]
    }
   ],
   "source": [
    "for images, labels in trainloader:\n",
    "    print('Shape of y_train:', labels)\n",
    "    break "
   ]
  },
  {
   "cell_type": "markdown",
   "id": "f507de7e",
   "metadata": {
    "papermill": {
     "duration": 0.024407,
     "end_time": "2024-06-12T15:31:18.238956",
     "exception": false,
     "start_time": "2024-06-12T15:31:18.214549",
     "status": "completed"
    },
    "tags": []
   },
   "source": [
    "As you can see, labels are decimal. But we are going to use ```CrossEntropy``` as the loss function. So, there is no need to convert labels to their one-hot encodings."
   ]
  },
  {
   "cell_type": "markdown",
   "id": "91b1df01",
   "metadata": {
    "papermill": {
     "duration": 0.023644,
     "end_time": "2024-06-12T15:31:18.286547",
     "exception": false,
     "start_time": "2024-06-12T15:31:18.262903",
     "status": "completed"
    },
    "tags": []
   },
   "source": [
    "## 2. <a id=\"CNN\">CNN model fine-tuning</a>"
   ]
  },
  {
   "cell_type": "markdown",
   "id": "c758e455",
   "metadata": {
    "papermill": {
     "duration": 0.023996,
     "end_time": "2024-06-12T15:31:18.334439",
     "exception": false,
     "start_time": "2024-06-12T15:31:18.310443",
     "status": "completed"
    },
    "tags": []
   },
   "source": [
    "First of all, the pretrained ```vgg19``` model with ```ImageNet1K``` is loaded. For fine-tuning this model, its last convolution block is unfrozen.\n"
   ]
  },
  {
   "cell_type": "markdown",
   "id": "30727655",
   "metadata": {
    "papermill": {
     "duration": 0.024127,
     "end_time": "2024-06-12T15:31:18.383082",
     "exception": false,
     "start_time": "2024-06-12T15:31:18.358955",
     "status": "completed"
    },
    "tags": []
   },
   "source": [
    "### 2.1. <a id=\"VGG19\">Bulid the VGG19-based model</a>"
   ]
  },
  {
   "cell_type": "code",
   "execution_count": 15,
   "id": "f40600e5",
   "metadata": {
    "execution": {
     "iopub.execute_input": "2024-06-12T15:31:18.432695Z",
     "iopub.status.busy": "2024-06-12T15:31:18.432356Z",
     "iopub.status.idle": "2024-06-12T15:31:23.826156Z",
     "shell.execute_reply": "2024-06-12T15:31:23.824997Z"
    },
    "papermill": {
     "duration": 5.421341,
     "end_time": "2024-06-12T15:31:23.828464",
     "exception": false,
     "start_time": "2024-06-12T15:31:18.407123",
     "status": "completed"
    },
    "tags": []
   },
   "outputs": [
    {
     "name": "stderr",
     "output_type": "stream",
     "text": [
      "/opt/conda/lib/python3.10/site-packages/torchvision/models/_utils.py:208: UserWarning: The parameter 'pretrained' is deprecated since 0.13 and may be removed in the future, please use 'weights' instead.\n",
      "  warnings.warn(\n",
      "/opt/conda/lib/python3.10/site-packages/torchvision/models/_utils.py:223: UserWarning: Arguments other than a weight enum or `None` for 'weights' are deprecated since 0.13 and may be removed in the future. The current behavior is equivalent to passing `weights=VGG19_Weights.IMAGENET1K_V1`. You can also use `weights=VGG19_Weights.DEFAULT` to get the most up-to-date weights.\n",
      "  warnings.warn(msg)\n",
      "Downloading: \"https://download.pytorch.org/models/vgg19-dcbb9e9d.pth\" to /root/.cache/torch/hub/checkpoints/vgg19-dcbb9e9d.pth\n",
      "100%|██████████| 548M/548M [00:03<00:00, 162MB/s]\n"
     ]
    },
    {
     "name": "stdout",
     "output_type": "stream",
     "text": [
      "VGG(\n",
      "  (features): Sequential(\n",
      "    (0): Conv2d(3, 64, kernel_size=(3, 3), stride=(1, 1), padding=(1, 1))\n",
      "    (1): ReLU(inplace=True)\n",
      "    (2): Conv2d(64, 64, kernel_size=(3, 3), stride=(1, 1), padding=(1, 1))\n",
      "    (3): ReLU(inplace=True)\n",
      "    (4): MaxPool2d(kernel_size=2, stride=2, padding=0, dilation=1, ceil_mode=False)\n",
      "    (5): Conv2d(64, 128, kernel_size=(3, 3), stride=(1, 1), padding=(1, 1))\n",
      "    (6): ReLU(inplace=True)\n",
      "    (7): Conv2d(128, 128, kernel_size=(3, 3), stride=(1, 1), padding=(1, 1))\n",
      "    (8): ReLU(inplace=True)\n",
      "    (9): MaxPool2d(kernel_size=2, stride=2, padding=0, dilation=1, ceil_mode=False)\n",
      "    (10): Conv2d(128, 256, kernel_size=(3, 3), stride=(1, 1), padding=(1, 1))\n",
      "    (11): ReLU(inplace=True)\n",
      "    (12): Conv2d(256, 256, kernel_size=(3, 3), stride=(1, 1), padding=(1, 1))\n",
      "    (13): ReLU(inplace=True)\n",
      "    (14): Conv2d(256, 256, kernel_size=(3, 3), stride=(1, 1), padding=(1, 1))\n",
      "    (15): ReLU(inplace=True)\n",
      "    (16): Conv2d(256, 256, kernel_size=(3, 3), stride=(1, 1), padding=(1, 1))\n",
      "    (17): ReLU(inplace=True)\n",
      "    (18): MaxPool2d(kernel_size=2, stride=2, padding=0, dilation=1, ceil_mode=False)\n",
      "    (19): Conv2d(256, 512, kernel_size=(3, 3), stride=(1, 1), padding=(1, 1))\n",
      "    (20): ReLU(inplace=True)\n",
      "    (21): Conv2d(512, 512, kernel_size=(3, 3), stride=(1, 1), padding=(1, 1))\n",
      "    (22): ReLU(inplace=True)\n",
      "    (23): Conv2d(512, 512, kernel_size=(3, 3), stride=(1, 1), padding=(1, 1))\n",
      "    (24): ReLU(inplace=True)\n",
      "    (25): Conv2d(512, 512, kernel_size=(3, 3), stride=(1, 1), padding=(1, 1))\n",
      "    (26): ReLU(inplace=True)\n",
      "    (27): MaxPool2d(kernel_size=2, stride=2, padding=0, dilation=1, ceil_mode=False)\n",
      "    (28): Conv2d(512, 512, kernel_size=(3, 3), stride=(1, 1), padding=(1, 1))\n",
      "    (29): ReLU(inplace=True)\n",
      "    (30): Conv2d(512, 512, kernel_size=(3, 3), stride=(1, 1), padding=(1, 1))\n",
      "    (31): ReLU(inplace=True)\n",
      "    (32): Conv2d(512, 512, kernel_size=(3, 3), stride=(1, 1), padding=(1, 1))\n",
      "    (33): ReLU(inplace=True)\n",
      "    (34): Conv2d(512, 512, kernel_size=(3, 3), stride=(1, 1), padding=(1, 1))\n",
      "    (35): ReLU(inplace=True)\n",
      "    (36): MaxPool2d(kernel_size=2, stride=2, padding=0, dilation=1, ceil_mode=False)\n",
      "  )\n",
      "  (avgpool): AdaptiveAvgPool2d(output_size=(7, 7))\n",
      "  (classifier): Sequential(\n",
      "    (0): Linear(in_features=25088, out_features=4096, bias=True)\n",
      "    (1): ReLU(inplace=True)\n",
      "    (2): Dropout(p=0.5, inplace=False)\n",
      "    (3): Linear(in_features=4096, out_features=4096, bias=True)\n",
      "    (4): ReLU(inplace=True)\n",
      "    (5): Dropout(p=0.5, inplace=False)\n",
      "    (6): Linear(in_features=4096, out_features=1000, bias=True)\n",
      "  )\n",
      ")\n"
     ]
    }
   ],
   "source": [
    "vgg19_base_model = torchvision.models.vgg19(pretrained=True)\n",
    "\n",
    "print(vgg19_base_model)"
   ]
  },
  {
   "cell_type": "markdown",
   "id": "df7c8ee9",
   "metadata": {},
   "source": [
    "### 2.2. <a id=\"CNNFineTune\">Fine-tuning</a>"
   ]
  },
  {
   "cell_type": "markdown",
   "id": "e04861f8",
   "metadata": {
    "papermill": {
     "duration": 0.028057,
     "end_time": "2024-06-12T15:31:23.953188",
     "exception": false,
     "start_time": "2024-06-12T15:31:23.925131",
     "status": "completed"
    },
    "tags": []
   },
   "source": [
    "As you can see, the last convolution block of this model includes layers 28 to 36. Thus, layers from 28 to the end should be unfrozen which is done like the following:\n",
    "\n",
    "1. Freeze all layers\n",
    "2. Unfreeze the last Conv block and the classifier"
   ]
  },
  {
   "cell_type": "code",
   "execution_count": 16,
   "id": "fa51c913",
   "metadata": {
    "execution": {
     "iopub.execute_input": "2024-06-12T15:31:24.021702Z",
     "iopub.status.busy": "2024-06-12T15:31:24.020723Z",
     "iopub.status.idle": "2024-06-12T15:31:24.026924Z",
     "shell.execute_reply": "2024-06-12T15:31:24.026032Z"
    },
    "papermill": {
     "duration": 0.044158,
     "end_time": "2024-06-12T15:31:24.029700",
     "exception": false,
     "start_time": "2024-06-12T15:31:23.985542",
     "status": "completed"
    },
    "tags": []
   },
   "outputs": [],
   "source": [
    "for param in vgg19_base_model.parameters():\n",
    "    param.requires_grad = False\n",
    "\n",
    "for param in vgg19_base_model.features[28:].parameters():\n",
    "    param.requires_grad = True"
   ]
  },
  {
   "cell_type": "markdown",
   "id": "7117fd8f",
   "metadata": {
    "papermill": {
     "duration": 0.026953,
     "end_time": "2024-06-12T15:31:24.093998",
     "exception": false,
     "start_time": "2024-06-12T15:31:24.067045",
     "status": "completed"
    },
    "tags": []
   },
   "source": [
    "Now, for fine-tuning this model, we need to modify its classifier. The paper's recommended structure is given below:\n",
    "\n",
    "- **Flatten**: Flatten the output of the convolutional layers and transforming the multi-dimensional tensor into a 1D tensor to connect the convolutional part of the model to the fully connected layers.\n",
    "- **Linear**: A fully connected layer that takes the flattened input from the previous layer. The input size is **512 * 7 * 7**, which corresponds to the number of features output by the convolutional layers. It reduces this to **256*** features.\n",
    "- **ELU**: An activation function layer that applies the Exponential Linear Unit (ELU) activation function. It is used to introduce non-linearity into the model, which helps it learn complex patterns. It is known for *reducing the vanishing gradient problem* compared to traditional activation functions like ReLU.\n",
    "- **Dropout**: Prevent overfitting by randomly setting a fraction (50%) of the input units to 0 at each update during training time. This helps in regularizing the model.\n",
    "- **Linear**: Another fully connected layer that takes the **256** features from the previous layer and maps them to **10** output features. Since we are dealing with CIFAR-10, which has 10 classes, this layer outputs the class scores.\n",
    "\n",
    "\n",
    "In this structure, there is no need to add ```softmax``` to the model because ```CrossEntropyLoss``` combines LogSoftmax and NLLLoss (Negative Log-Likelihood Loss) in one single class and applying Softmax before CrossEntropyLoss would lead to redundant operations and potentially numerical instability."
   ]
  },
  {
   "cell_type": "code",
   "execution_count": 17,
   "id": "4a2bc72f",
   "metadata": {
    "execution": {
     "iopub.execute_input": "2024-06-12T15:31:24.165423Z",
     "iopub.status.busy": "2024-06-12T15:31:24.164513Z",
     "iopub.status.idle": "2024-06-12T15:31:24.174863Z",
     "shell.execute_reply": "2024-06-12T15:31:24.173959Z"
    },
    "papermill": {
     "duration": 0.049476,
     "end_time": "2024-06-12T15:31:24.177455",
     "exception": false,
     "start_time": "2024-06-12T15:31:24.127979",
     "status": "completed"
    },
    "tags": []
   },
   "outputs": [],
   "source": [
    "class VGG19_CIFAR10(nn.Module):\n",
    "    def __init__(self, base_model):\n",
    "        super(VGG19_CIFAR10, self).__init__()\n",
    "        self.features = nn.Sequential(*list(base_model.features.children()))\n",
    "        self.avgpool = nn.AdaptiveAvgPool2d((1, 1))\n",
    "        self.head = nn.Sequential(\n",
    "            nn.Flatten(),\n",
    "            nn.Linear(512, 256),\n",
    "            nn.ELU(),\n",
    "            nn.Dropout(0.5),\n",
    "            nn.Linear(256, 10),\n",
    "            nn.Softmax(dim=1)\n",
    "        )\n",
    "\n",
    "    def forward(self, x):\n",
    "        x = self.features(x)\n",
    "        x = self.avgpool(x)\n",
    "        x = self.head(x.squeeze())\n",
    "        return x\n",
    "    \n",
    "cnn_model = VGG19_CIFAR10(vgg19_base_model)"
   ]
  },
  {
   "cell_type": "markdown",
   "id": "67cf649a",
   "metadata": {
    "papermill": {
     "duration": 0.032533,
     "end_time": "2024-06-12T15:31:24.247598",
     "exception": false,
     "start_time": "2024-06-12T15:31:24.215065",
     "status": "completed"
    },
    "tags": []
   },
   "source": [
    "After modifying the model, let's count its number of trainable parameters and print its new structure."
   ]
  },
  {
   "cell_type": "code",
   "execution_count": 18,
   "id": "27a26a7d",
   "metadata": {
    "execution": {
     "iopub.execute_input": "2024-06-12T15:31:24.307863Z",
     "iopub.status.busy": "2024-06-12T15:31:24.306749Z",
     "iopub.status.idle": "2024-06-12T15:31:38.833383Z",
     "shell.execute_reply": "2024-06-12T15:31:38.832131Z"
    },
    "papermill": {
     "duration": 14.561308,
     "end_time": "2024-06-12T15:31:38.836040",
     "exception": false,
     "start_time": "2024-06-12T15:31:24.274732",
     "status": "completed"
    },
    "tags": []
   },
   "outputs": [
    {
     "name": "stdout",
     "output_type": "stream",
     "text": [
      "Collecting torchsummary\r\n",
      "  Downloading torchsummary-1.5.1-py3-none-any.whl.metadata (296 bytes)\r\n",
      "Downloading torchsummary-1.5.1-py3-none-any.whl (2.8 kB)\r\n",
      "Installing collected packages: torchsummary\r\n",
      "Successfully installed torchsummary-1.5.1\r\n"
     ]
    }
   ],
   "source": [
    "! pip install torchsummary"
   ]
  },
  {
   "cell_type": "code",
   "execution_count": 19,
   "id": "0d9d9a0c",
   "metadata": {
    "execution": {
     "iopub.execute_input": "2024-06-12T15:31:38.895325Z",
     "iopub.status.busy": "2024-06-12T15:31:38.894733Z",
     "iopub.status.idle": "2024-06-12T15:31:39.909982Z",
     "shell.execute_reply": "2024-06-12T15:31:39.909131Z"
    },
    "papermill": {
     "duration": 1.046311,
     "end_time": "2024-06-12T15:31:39.912360",
     "exception": false,
     "start_time": "2024-06-12T15:31:38.866049",
     "status": "completed"
    },
    "tags": []
   },
   "outputs": [
    {
     "name": "stdout",
     "output_type": "stream",
     "text": [
      "----------------------------------------------------------------\n",
      "        Layer (type)               Output Shape         Param #\n",
      "================================================================\n",
      "            Conv2d-1         [-1, 64, 224, 224]           1,792\n",
      "              ReLU-2         [-1, 64, 224, 224]               0\n",
      "            Conv2d-3         [-1, 64, 224, 224]          36,928\n",
      "              ReLU-4         [-1, 64, 224, 224]               0\n",
      "         MaxPool2d-5         [-1, 64, 112, 112]               0\n",
      "            Conv2d-6        [-1, 128, 112, 112]          73,856\n",
      "              ReLU-7        [-1, 128, 112, 112]               0\n",
      "            Conv2d-8        [-1, 128, 112, 112]         147,584\n",
      "              ReLU-9        [-1, 128, 112, 112]               0\n",
      "        MaxPool2d-10          [-1, 128, 56, 56]               0\n",
      "           Conv2d-11          [-1, 256, 56, 56]         295,168\n",
      "             ReLU-12          [-1, 256, 56, 56]               0\n",
      "           Conv2d-13          [-1, 256, 56, 56]         590,080\n",
      "             ReLU-14          [-1, 256, 56, 56]               0\n",
      "           Conv2d-15          [-1, 256, 56, 56]         590,080\n",
      "             ReLU-16          [-1, 256, 56, 56]               0\n",
      "           Conv2d-17          [-1, 256, 56, 56]         590,080\n",
      "             ReLU-18          [-1, 256, 56, 56]               0\n",
      "        MaxPool2d-19          [-1, 256, 28, 28]               0\n",
      "           Conv2d-20          [-1, 512, 28, 28]       1,180,160\n",
      "             ReLU-21          [-1, 512, 28, 28]               0\n",
      "           Conv2d-22          [-1, 512, 28, 28]       2,359,808\n",
      "             ReLU-23          [-1, 512, 28, 28]               0\n",
      "           Conv2d-24          [-1, 512, 28, 28]       2,359,808\n",
      "             ReLU-25          [-1, 512, 28, 28]               0\n",
      "           Conv2d-26          [-1, 512, 28, 28]       2,359,808\n",
      "             ReLU-27          [-1, 512, 28, 28]               0\n",
      "        MaxPool2d-28          [-1, 512, 14, 14]               0\n",
      "           Conv2d-29          [-1, 512, 14, 14]       2,359,808\n",
      "             ReLU-30          [-1, 512, 14, 14]               0\n",
      "           Conv2d-31          [-1, 512, 14, 14]       2,359,808\n",
      "             ReLU-32          [-1, 512, 14, 14]               0\n",
      "           Conv2d-33          [-1, 512, 14, 14]       2,359,808\n",
      "             ReLU-34          [-1, 512, 14, 14]               0\n",
      "           Conv2d-35          [-1, 512, 14, 14]       2,359,808\n",
      "             ReLU-36          [-1, 512, 14, 14]               0\n",
      "        MaxPool2d-37            [-1, 512, 7, 7]               0\n",
      "AdaptiveAvgPool2d-38            [-1, 512, 1, 1]               0\n",
      "          Flatten-39                  [-1, 512]               0\n",
      "           Linear-40                  [-1, 256]         131,328\n",
      "              ELU-41                  [-1, 256]               0\n",
      "          Dropout-42                  [-1, 256]               0\n",
      "           Linear-43                   [-1, 10]           2,570\n",
      "          Softmax-44                   [-1, 10]               0\n",
      "================================================================\n",
      "Total params: 20,158,282\n",
      "Trainable params: 9,573,130\n",
      "Non-trainable params: 10,585,152\n",
      "----------------------------------------------------------------\n",
      "Input size (MB): 0.57\n",
      "Forward/backward pass size (MB): 238.31\n",
      "Params size (MB): 76.90\n",
      "Estimated Total Size (MB): 315.79\n",
      "----------------------------------------------------------------\n"
     ]
    }
   ],
   "source": [
    "from torchsummary import summary\n",
    "\n",
    "device = torch.device(\"cuda\" if torch.cuda.is_available() else \"cpu\")\n",
    "cnn_model.to(device)\n",
    "\n",
    "summary(cnn_model, (3, 224, 224))"
   ]
  },
  {
   "cell_type": "markdown",
   "id": "bac47f74",
   "metadata": {
    "papermill": {
     "duration": 0.027754,
     "end_time": "2024-06-12T15:31:40.030012",
     "exception": false,
     "start_time": "2024-06-12T15:31:40.002258",
     "status": "completed"
    },
    "tags": []
   },
   "source": [
    "Before trainnig the model, let's check if the GPU is available and pass the model to the currect device."
   ]
  },
  {
   "cell_type": "code",
   "execution_count": 21,
   "id": "24110afb",
   "metadata": {
    "execution": {
     "iopub.execute_input": "2024-06-12T15:31:40.086275Z",
     "iopub.status.busy": "2024-06-12T15:31:40.085955Z",
     "iopub.status.idle": "2024-06-12T15:31:40.093231Z",
     "shell.execute_reply": "2024-06-12T15:31:40.092371Z"
    },
    "papermill": {
     "duration": 0.037575,
     "end_time": "2024-06-12T15:31:40.095040",
     "exception": false,
     "start_time": "2024-06-12T15:31:40.057465",
     "status": "completed"
    },
    "tags": []
   },
   "outputs": [
    {
     "name": "stdout",
     "output_type": "stream",
     "text": [
      "CUDA is available! Using GPU.\n",
      "Model is running on: cuda:0\n"
     ]
    }
   ],
   "source": [
    "if torch.cuda.is_available():\n",
    "    device = torch.device(\"cuda\")\n",
    "    print(\"CUDA is available! Using GPU.\")\n",
    "else:\n",
    "    device = torch.device(\"cpu\")\n",
    "    print(\"CUDA is not available. Using CPU.\")\n",
    "    \n",
    "cnn_model.to(device)\n",
    "\n",
    "\n",
    "print(\"Model is running on:\", next(cnn_model.parameters()).device)"
   ]
  },
  {
   "cell_type": "markdown",
   "id": "5e00966a",
   "metadata": {
    "papermill": {
     "duration": 0.027483,
     "end_time": "2024-06-12T15:31:40.150211",
     "exception": false,
     "start_time": "2024-06-12T15:31:40.122728",
     "status": "completed"
    },
    "tags": []
   },
   "source": [
    "### 2.3. <a id=\"TrainCNN\">Train the VGG19-based Model</a>"
   ]
  },
  {
   "cell_type": "markdown",
   "id": "c35b9b76",
   "metadata": {
    "papermill": {
     "duration": 0.028507,
     "end_time": "2024-06-12T15:31:40.206189",
     "exception": false,
     "start_time": "2024-06-12T15:31:40.177682",
     "status": "completed"
    },
    "tags": []
   },
   "source": [
    "Set common hyperparameters for both models."
   ]
  },
  {
   "cell_type": "code",
   "execution_count": 22,
   "id": "236721ed",
   "metadata": {
    "execution": {
     "iopub.execute_input": "2024-06-12T15:31:40.262055Z",
     "iopub.status.busy": "2024-06-12T15:31:40.261763Z",
     "iopub.status.idle": "2024-06-12T15:31:40.266128Z",
     "shell.execute_reply": "2024-06-12T15:31:40.265349Z"
    },
    "papermill": {
     "duration": 0.034568,
     "end_time": "2024-06-12T15:31:40.268024",
     "exception": false,
     "start_time": "2024-06-12T15:31:40.233456",
     "status": "completed"
    },
    "tags": []
   },
   "outputs": [],
   "source": [
    "num_epochs = 20     # max number on epochs\n",
    "initial_lr = 0.0001\n",
    "min_lr = 0.0000001\n",
    "loss_function = nn.CrossEntropyLoss()"
   ]
  },
  {
   "cell_type": "markdown",
   "id": "f69a251f",
   "metadata": {
    "papermill": {
     "duration": 0.027196,
     "end_time": "2024-06-12T15:31:40.322840",
     "exception": false,
     "start_time": "2024-06-12T15:31:40.295644",
     "status": "completed"
    },
    "tags": []
   },
   "source": [
    "Consider the optimizer as ```Adam``` and define a scheduler for the VGG19-based model.\n"
   ]
  },
  {
   "cell_type": "code",
   "execution_count": 23,
   "id": "47f8fae5",
   "metadata": {
    "execution": {
     "iopub.execute_input": "2024-06-12T15:31:40.380725Z",
     "iopub.status.busy": "2024-06-12T15:31:40.380057Z",
     "iopub.status.idle": "2024-06-12T15:31:40.386171Z",
     "shell.execute_reply": "2024-06-12T15:31:40.385356Z"
    },
    "papermill": {
     "duration": 0.037683,
     "end_time": "2024-06-12T15:31:40.387955",
     "exception": false,
     "start_time": "2024-06-12T15:31:40.350272",
     "status": "completed"
    },
    "tags": []
   },
   "outputs": [],
   "source": [
    "# Optimizer\n",
    "cnn_optimizer = optim.Adam(cnn_model.parameters(), lr=initial_lr)\n",
    "\n",
    "# scheduler\n",
    "lr_lambda = lambda epoch: max(min_lr / initial_lr, (1 - epoch / num_epochs))\n",
    "scheduler = torch.optim.lr_scheduler.LambdaLR(cnn_optimizer, lr_lambda=lr_lambda)"
   ]
  },
  {
   "cell_type": "markdown",
   "id": "8648f5b2",
   "metadata": {
    "papermill": {
     "duration": 0.028059,
     "end_time": "2024-06-12T15:31:40.443628",
     "exception": false,
     "start_time": "2024-06-12T15:31:40.415569",
     "status": "completed"
    },
    "tags": []
   },
   "source": [
    "Now, let's train the CNN model with the above structure and hyperparameters."
   ]
  },
  {
   "cell_type": "code",
   "execution_count": 24,
   "id": "45e883bc",
   "metadata": {
    "execution": {
     "iopub.execute_input": "2024-06-12T15:31:40.500192Z",
     "iopub.status.busy": "2024-06-12T15:31:40.499937Z",
     "iopub.status.idle": "2024-06-12T17:22:06.330782Z",
     "shell.execute_reply": "2024-06-12T17:22:06.329770Z"
    },
    "papermill": {
     "duration": 6626.418375,
     "end_time": "2024-06-12T17:22:06.889829",
     "exception": false,
     "start_time": "2024-06-12T15:31:40.471454",
     "status": "completed"
    },
    "tags": []
   },
   "outputs": [
    {
     "name": "stderr",
     "output_type": "stream",
     "text": [
      "Epoch 1/20, Loss: 1.7995: 100%|██████████| 157/157 [04:21<00:00,  1.66s/it]\n"
     ]
    },
    {
     "name": "stdout",
     "output_type": "stream",
     "text": [
      "Epoch 1/20, Train Loss: 1.7995, Val Loss: 1.6645,         Train Acc: 67.56, Val Acc: 80.31\n"
     ]
    },
    {
     "name": "stderr",
     "output_type": "stream",
     "text": [
      "Epoch 2/20, Loss: 1.6415: 100%|██████████| 157/157 [04:30<00:00,  1.72s/it]\n"
     ]
    },
    {
     "name": "stdout",
     "output_type": "stream",
     "text": [
      "Epoch 2/20, Train Loss: 1.6415, Val Loss: 1.6155,         Train Acc: 82.66, Val Acc: 85.02\n"
     ]
    },
    {
     "name": "stderr",
     "output_type": "stream",
     "text": [
      "Epoch 3/20, Loss: 1.6053: 100%|██████████| 157/157 [04:30<00:00,  1.72s/it]\n"
     ]
    },
    {
     "name": "stdout",
     "output_type": "stream",
     "text": [
      "Epoch 3/20, Train Loss: 1.6053, Val Loss: 1.6121,         Train Acc: 86.25, Val Acc: 85.55\n"
     ]
    },
    {
     "name": "stderr",
     "output_type": "stream",
     "text": [
      "Epoch 4/20, Loss: 1.5856: 100%|██████████| 157/157 [04:30<00:00,  1.72s/it]\n"
     ]
    },
    {
     "name": "stdout",
     "output_type": "stream",
     "text": [
      "Epoch 4/20, Train Loss: 1.5856, Val Loss: 1.5891,         Train Acc: 87.97, Val Acc: 87.67\n"
     ]
    },
    {
     "name": "stderr",
     "output_type": "stream",
     "text": [
      "Epoch 5/20, Loss: 1.5730: 100%|██████████| 157/157 [04:30<00:00,  1.72s/it]\n"
     ]
    },
    {
     "name": "stdout",
     "output_type": "stream",
     "text": [
      "Epoch 5/20, Train Loss: 1.5730, Val Loss: 1.5726,         Train Acc: 89.20, Val Acc: 88.98\n"
     ]
    },
    {
     "name": "stderr",
     "output_type": "stream",
     "text": [
      "Epoch 6/20, Loss: 1.5610: 100%|██████████| 157/157 [04:30<00:00,  1.72s/it]\n"
     ]
    },
    {
     "name": "stdout",
     "output_type": "stream",
     "text": [
      "Epoch 6/20, Train Loss: 1.5610, Val Loss: 1.5721,         Train Acc: 90.46, Val Acc: 89.24\n"
     ]
    },
    {
     "name": "stderr",
     "output_type": "stream",
     "text": [
      "Epoch 7/20, Loss: 1.5522: 100%|██████████| 157/157 [04:30<00:00,  1.72s/it]\n"
     ]
    },
    {
     "name": "stdout",
     "output_type": "stream",
     "text": [
      "Epoch 7/20, Train Loss: 1.5522, Val Loss: 1.5676,         Train Acc: 91.33, Val Acc: 89.63\n"
     ]
    },
    {
     "name": "stderr",
     "output_type": "stream",
     "text": [
      "Epoch 8/20, Loss: 1.5437: 100%|██████████| 157/157 [04:30<00:00,  1.72s/it]\n"
     ]
    },
    {
     "name": "stdout",
     "output_type": "stream",
     "text": [
      "Epoch 8/20, Train Loss: 1.5437, Val Loss: 1.5715,         Train Acc: 92.13, Val Acc: 89.17\n"
     ]
    },
    {
     "name": "stderr",
     "output_type": "stream",
     "text": [
      "Epoch 9/20, Loss: 1.5404: 100%|██████████| 157/157 [04:30<00:00,  1.72s/it]\n"
     ]
    },
    {
     "name": "stdout",
     "output_type": "stream",
     "text": [
      "Epoch 9/20, Train Loss: 1.5404, Val Loss: 1.5567,         Train Acc: 92.47, Val Acc: 90.76\n"
     ]
    },
    {
     "name": "stderr",
     "output_type": "stream",
     "text": [
      "Epoch 10/20, Loss: 1.5322: 100%|██████████| 157/157 [04:30<00:00,  1.72s/it]\n"
     ]
    },
    {
     "name": "stdout",
     "output_type": "stream",
     "text": [
      "Epoch 10/20, Train Loss: 1.5322, Val Loss: 1.5581,         Train Acc: 93.29, Val Acc: 90.46\n"
     ]
    },
    {
     "name": "stderr",
     "output_type": "stream",
     "text": [
      "Epoch 11/20, Loss: 1.5276: 100%|██████████| 157/157 [04:30<00:00,  1.72s/it]\n"
     ]
    },
    {
     "name": "stdout",
     "output_type": "stream",
     "text": [
      "Epoch 11/20, Train Loss: 1.5276, Val Loss: 1.5563,         Train Acc: 93.65, Val Acc: 90.71\n"
     ]
    },
    {
     "name": "stderr",
     "output_type": "stream",
     "text": [
      "Epoch 12/20, Loss: 1.5216: 100%|██████████| 157/157 [04:30<00:00,  1.72s/it]\n"
     ]
    },
    {
     "name": "stdout",
     "output_type": "stream",
     "text": [
      "Epoch 12/20, Train Loss: 1.5216, Val Loss: 1.5526,         Train Acc: 94.34, Val Acc: 90.95\n"
     ]
    },
    {
     "name": "stderr",
     "output_type": "stream",
     "text": [
      "Epoch 13/20, Loss: 1.5172: 100%|██████████| 157/157 [04:30<00:00,  1.72s/it]\n"
     ]
    },
    {
     "name": "stdout",
     "output_type": "stream",
     "text": [
      "Epoch 13/20, Train Loss: 1.5172, Val Loss: 1.5521,         Train Acc: 94.78, Val Acc: 90.94\n"
     ]
    },
    {
     "name": "stderr",
     "output_type": "stream",
     "text": [
      "Epoch 14/20, Loss: 1.5143: 100%|██████████| 157/157 [04:30<00:00,  1.72s/it]\n"
     ]
    },
    {
     "name": "stdout",
     "output_type": "stream",
     "text": [
      "Epoch 14/20, Train Loss: 1.5143, Val Loss: 1.5488,         Train Acc: 95.02, Val Acc: 91.35\n"
     ]
    },
    {
     "name": "stderr",
     "output_type": "stream",
     "text": [
      "Epoch 15/20, Loss: 1.5108: 100%|██████████| 157/157 [04:30<00:00,  1.72s/it]\n"
     ]
    },
    {
     "name": "stdout",
     "output_type": "stream",
     "text": [
      "Epoch 15/20, Train Loss: 1.5108, Val Loss: 1.5438,         Train Acc: 95.36, Val Acc: 91.74\n"
     ]
    },
    {
     "name": "stderr",
     "output_type": "stream",
     "text": [
      "Epoch 16/20, Loss: 1.5075: 100%|██████████| 157/157 [04:30<00:00,  1.72s/it]\n"
     ]
    },
    {
     "name": "stdout",
     "output_type": "stream",
     "text": [
      "Epoch 16/20, Train Loss: 1.5075, Val Loss: 1.5476,         Train Acc: 95.64, Val Acc: 91.52\n"
     ]
    },
    {
     "name": "stderr",
     "output_type": "stream",
     "text": [
      "Epoch 17/20, Loss: 1.5052: 100%|██████████| 157/157 [04:30<00:00,  1.72s/it]\n"
     ]
    },
    {
     "name": "stdout",
     "output_type": "stream",
     "text": [
      "Epoch 17/20, Train Loss: 1.5052, Val Loss: 1.5473,         Train Acc: 95.89, Val Acc: 91.49\n"
     ]
    },
    {
     "name": "stderr",
     "output_type": "stream",
     "text": [
      "Epoch 18/20, Loss: 1.5033: 100%|██████████| 157/157 [04:30<00:00,  1.72s/it]\n"
     ]
    },
    {
     "name": "stdout",
     "output_type": "stream",
     "text": [
      "Epoch 18/20, Train Loss: 1.5033, Val Loss: 1.5447,         Train Acc: 96.02, Val Acc: 91.82\n"
     ]
    },
    {
     "name": "stderr",
     "output_type": "stream",
     "text": [
      "Epoch 19/20, Loss: 1.5012: 100%|██████████| 157/157 [04:30<00:00,  1.72s/it]\n"
     ]
    },
    {
     "name": "stdout",
     "output_type": "stream",
     "text": [
      "Epoch 19/20, Train Loss: 1.5012, Val Loss: 1.5464,         Train Acc: 96.23, Val Acc: 91.62\n"
     ]
    },
    {
     "name": "stderr",
     "output_type": "stream",
     "text": [
      "Epoch 20/20, Loss: 1.5002: 100%|██████████| 157/157 [04:30<00:00,  1.72s/it]\n"
     ]
    },
    {
     "name": "stdout",
     "output_type": "stream",
     "text": [
      "Epoch 20/20, Train Loss: 1.5002, Val Loss: 1.5439,         Train Acc: 96.38, Val Acc: 91.77\n",
      "Early stopping triggered after 20 epochs.\n"
     ]
    }
   ],
   "source": [
    "def train_cnn_model(model, num_epochs, trainloader, valloader, patience=5):\n",
    "    \n",
    "    train_losses, val_losses = [], []\n",
    "    train_accuracies, val_accuracies = [], []\n",
    "    train_times, val_times = [], []\n",
    "\n",
    "    best_val_loss = float('inf')\n",
    "    epochs_no_improve = 0\n",
    "    \n",
    "    for epoch in range(num_epochs):\n",
    "        ''' Start of Training Process for an Epoch '''\n",
    "        start_train_time = time.time()\n",
    "        model.train()\n",
    "        running_loss = 0.0\n",
    "        correct_train, total_train = 0, 0\n",
    "\n",
    "        pbar = tqdm(enumerate(trainloader), total=len(trainloader), desc=f\"Epoch {epoch+1}/{num_epochs} (Train)\")\n",
    "        for i, data in pbar:\n",
    "            inputs, labels = data[0].to(device), data[1].to(device)\n",
    "\n",
    "            cnn_optimizer.zero_grad()\n",
    "\n",
    "            outputs = model(inputs)\n",
    "            loss = loss_function(outputs, labels)\n",
    "            loss.backward()\n",
    "            cnn_optimizer.step()\n",
    "\n",
    "            running_loss += loss.item()\n",
    "            _, predicted = torch.max(outputs.data, 1)\n",
    "            total_train += labels.size(0)\n",
    "            correct_train += (predicted == labels).sum().item()\n",
    "\n",
    "            pbar.set_description(f'Epoch {epoch+1}/{num_epochs}, Loss: {running_loss / (i+1):.4f}')\n",
    "\n",
    "        train_time = time.time() - start_train_time\n",
    "        train_times.append(train_time)\n",
    "        ''' End of Training Process for an Epoch '''\n",
    "\n",
    "        train_accuracy = 100 * correct_train / total_train\n",
    "        train_losses.append(running_loss / len(trainloader))\n",
    "        train_accuracies.append(train_accuracy)\n",
    "\n",
    "        ''' Start of Validation Process for an Epoch '''\n",
    "        start_val_time = time.time()\n",
    "        model.eval()\n",
    "        val_loss = 0.0\n",
    "        correct_val, total_val = 0, 0\n",
    "        with torch.no_grad():\n",
    "            for data in valloader:\n",
    "                images, labels = data[0].to(device), data[1].to(device)\n",
    "                outputs = model(images)\n",
    "                loss = loss_function(outputs, labels)\n",
    "                val_loss += loss.item()\n",
    "                _, predicted = torch.max(outputs.data, 1)\n",
    "                total_val += labels.size(0)\n",
    "                correct_val += (predicted == labels).sum().item()\n",
    "\n",
    "        val_time = time.time() - start_val_time\n",
    "        val_times.append(val_time)\n",
    "        ''' End of Validation Process for an Epoch '''\n",
    "\n",
    "        val_accuracy = 100 * correct_val / total_val\n",
    "        val_losses.append(val_loss / len(valloader))\n",
    "        val_accuracies.append(val_accuracy)\n",
    "\n",
    "        print(f\"Epoch {epoch+1}/{num_epochs}, Train Loss: {train_losses[-1]:.4f}, Val Loss: {val_losses[-1]:.4f}, \\\n",
    "        Train Acc: {train_accuracies[-1]:.2f}, Val Acc: {val_accuracies[-1]:.2f}\")\n",
    "\n",
    "        # Update learning rate scheduler and early stopping\n",
    "        if val_loss < best_val_loss:\n",
    "            best_val_loss = val_loss\n",
    "            epochs_no_improve = 0\n",
    "        else:\n",
    "            epochs_no_improve += 1\n",
    "\n",
    "        if cnn_optimizer.param_groups[0]['lr'] > min_lr:\n",
    "            scheduler.step()\n",
    "\n",
    "        # Check for early stopping\n",
    "        if epochs_no_improve == patience:\n",
    "            print(f'Early stopping triggered after {epoch+1} epochs.')\n",
    "            break\n",
    "\n",
    "    return train_losses, val_losses, train_accuracies, val_accuracies, train_times, val_times\n",
    "\n",
    "train_losses, val_losses, train_accuracies, val_accuracies, train_times, val_times = train_cnn_model(cnn_model, num_epochs, trainloader, valloader)"
   ]
  },
  {
   "cell_type": "markdown",
   "id": "19040e04",
   "metadata": {
    "papermill": {
     "duration": 0.519633,
     "end_time": "2024-06-12T17:22:07.986797",
     "exception": false,
     "start_time": "2024-06-12T17:22:07.467164",
     "status": "completed"
    },
    "tags": []
   },
   "source": [
    "### 2.4. <a id=\"PlotCNNRes\">Evaluate the VGG19-based Model</a>"
   ]
  },
  {
   "cell_type": "markdown",
   "id": "c97d616b",
   "metadata": {
    "papermill": {
     "duration": 0.516566,
     "end_time": "2024-06-12T17:22:09.033440",
     "exception": false,
     "start_time": "2024-06-12T17:22:08.516874",
     "status": "completed"
    },
    "tags": []
   },
   "source": [
    "Plot loss and accuracy during trainnig time fo the CNN model."
   ]
  },
  {
   "cell_type": "code",
   "execution_count": 25,
   "id": "61bd8c78",
   "metadata": {
    "execution": {
     "iopub.execute_input": "2024-06-12T17:22:10.136963Z",
     "iopub.status.busy": "2024-06-12T17:22:10.136593Z",
     "iopub.status.idle": "2024-06-12T17:22:10.703315Z",
     "shell.execute_reply": "2024-06-12T17:22:10.702415Z"
    },
    "papermill": {
     "duration": 1.154247,
     "end_time": "2024-06-12T17:22:10.705702",
     "exception": false,
     "start_time": "2024-06-12T17:22:09.551455",
     "status": "completed"
    },
    "tags": []
   },
   "outputs": [
    {
     "data": {
      "image/png": "[encoded data removed]",
      "text/plain": [
       "<Figure size 1200x500 with 2 Axes>"
      ]
     },
     "metadata": {},
     "output_type": "display_data"
    },
    {
     "name": "stdout",
     "output_type": "stream",
     "text": [
      "Mean Train Time: 270.012 seconds\n",
      "Mean Validation Time: 61.278 seconds\n",
      "VGG19 based model: Finished Training.\n"
     ]
    }
   ],
   "source": [
    "plot_acc_loss_cnn(train_losses, val_losses, train_accuracies, val_accuracies)\n",
    "report_mean_train_val_time(train_times, val_times)\n",
    "\n",
    "print('VGG19 based model: Finished Training.')"
   ]
  },
  {
   "cell_type": "code",
   "execution_count": 26,
   "id": "8792d07c",
   "metadata": {
    "execution": {
     "iopub.execute_input": "2024-06-12T17:22:11.749636Z",
     "iopub.status.busy": "2024-06-12T17:22:11.749301Z",
     "iopub.status.idle": "2024-06-12T17:23:13.114803Z",
     "shell.execute_reply": "2024-06-12T17:23:13.113624Z"
    },
    "papermill": {
     "duration": 62.404489,
     "end_time": "2024-06-12T17:23:13.634805",
     "exception": false,
     "start_time": "2024-06-12T17:22:11.230316",
     "status": "completed"
    },
    "tags": []
   },
   "outputs": [
    {
     "name": "stdout",
     "output_type": "stream",
     "text": [
      "Test Accuracy: 91.86%\n"
     ]
    }
   ],
   "source": [
    "evaluate_model(cnn_model, testloader, \"cnn\")"
   ]
  }
 ],
 "metadata": {
  "kaggle": {
   "accelerator": "nvidiaTeslaT4",
   "dataSources": [],
   "dockerImageVersionId": 30733,
   "isGpuEnabled": true,
   "isInternetEnabled": true,
   "language": "python",
   "sourceType": "notebook"
  },
  "kernelspec": {
   "display_name": "Python 3",
   "language": "python",
   "name": "python3"
  },
  "language_info": {
   "codemirror_mode": {
    "name": "ipython",
    "version": 3
   },
   "file_extension": ".py",
   "mimetype": "text/x-python",
   "name": "python",
   "nbconvert_exporter": "python",
   "pygments_lexer": "ipython3",
   "version": "3.10.13"
  },
  "papermill": {
   "default_parameters": {},
   "duration": 6768.574564,
   "end_time": "2024-06-12T17:23:46.599043",
   "environment_variables": {},
   "exception": null,
   "input_path": "__notebook__.ipynb",
   "output_path": "__notebook__.ipynb",
   "parameters": {},
   "start_time": "2024-06-12T15:30:58.024479",
   "version": "2.5.0"
  },
  "widgets": {
   "application/vnd.jupyter.widget-state+json": {
    "state": {
     "078fb056ea704c6289e53e2759ea5232": {
      "model_module": "@jupyter-widgets/controls",
      "model_module_version": "1.5.0",
      "model_name": "HTMLModel",
      "state": {
       "_dom_classes": [],
       "_model_module": "@jupyter-widgets/controls",
       "_model_module_version": "1.5.0",
       "_model_name": "HTMLModel",
       "_view_count": null,
       "_view_module": "@jupyter-widgets/controls",
       "_view_module_version": "1.5.0",
       "_view_name": "HTMLView",
       "description": "",
       "description_tooltip": null,
       "layout": "IPY_MODEL_6e5217e7302c44fa9e53cf6f7b03561d",
       "placeholder": "​",
       "style": "IPY_MODEL_cef95269fcdd4e1e9ac0e85412a3161d",
       "value": " 349M/349M [00:01&lt;00:00, 282MB/s]"
      }
     },
     "0a99e065fcbe472da86d9f19fe82dd4b": {
      "model_module": "@jupyter-widgets/controls",
      "model_module_version": "1.5.0",
      "model_name": "ProgressStyleModel",
      "state": {
       "_model_module": "@jupyter-widgets/controls",
       "_model_module_version": "1.5.0",
       "_model_name": "ProgressStyleModel",
       "_view_count": null,
       "_view_module": "@jupyter-widgets/base",
       "_view_module_version": "1.2.0",
       "_view_name": "StyleView",
       "bar_color": null,
       "description_width": ""
      }
     },
     "16fb7a0f65fa4753a3653f27fdfacf1e": {
      "model_module": "@jupyter-widgets/controls",
      "model_module_version": "1.5.0",
      "model_name": "FloatProgressModel",
      "state": {
       "_dom_classes": [],
       "_model_module": "@jupyter-widgets/controls",
       "_model_module_version": "1.5.0",
       "_model_name": "FloatProgressModel",
       "_view_count": null,
       "_view_module": "@jupyter-widgets/controls",
       "_view_module_version": "1.5.0",
       "_view_name": "ProgressView",
       "bar_style": "success",
       "description": "",
       "description_tooltip": null,
       "layout": "IPY_MODEL_de37cf2e1d5c40cb882fac43adb16cc2",
       "max": 349435207,
       "min": 0,
       "orientation": "horizontal",
       "style": "IPY_MODEL_0a99e065fcbe472da86d9f19fe82dd4b",
       "value": 349435207
      }
     },
     "24a0d1d5903441ef8860c54b342ff2fc": {
      "model_module": "@jupyter-widgets/base",
      "model_module_version": "1.2.0",
      "model_name": "LayoutModel",
      "state": {
       "_model_module": "@jupyter-widgets/base",
       "_model_module_version": "1.2.0",
       "_model_name": "LayoutModel",
       "_view_count": null,
       "_view_module": "@jupyter-widgets/base",
       "_view_module_version": "1.2.0",
       "_view_name": "LayoutView",
       "align_content": null,
       "align_items": null,
       "align_self": null,
       "border": null,
       "bottom": null,
       "display": null,
       "flex": null,
       "flex_flow": null,
       "grid_area": null,
       "grid_auto_columns": null,
       "grid_auto_flow": null,
       "grid_auto_rows": null,
       "grid_column": null,
       "grid_gap": null,
       "grid_row": null,
       "grid_template_areas": null,
       "grid_template_columns": null,
       "grid_template_rows": null,
       "height": null,
       "justify_content": null,
       "justify_items": null,
       "left": null,
       "margin": null,
       "max_height": null,
       "max_width": null,
       "min_height": null,
       "min_width": null,
       "object_fit": null,
       "object_position": null,
       "order": null,
       "overflow": null,
       "overflow_x": null,
       "overflow_y": null,
       "padding": null,
       "right": null,
       "top": null,
       "visibility": null,
       "width": null
      }
     },
     "26c659c0a4bb4047b27f9ea762e0aadc": {
      "model_module": "@jupyter-widgets/controls",
      "model_module_version": "1.5.0",
      "model_name": "HTMLModel",
      "state": {
       "_dom_classes": [],
       "_model_module": "@jupyter-widgets/controls",
       "_model_module_version": "1.5.0",
       "_model_name": "HTMLModel",
       "_view_count": null,
       "_view_module": "@jupyter-widgets/controls",
       "_view_module_version": "1.5.0",
       "_view_name": "HTMLView",
       "description": "",
       "description_tooltip": null,
       "layout": "IPY_MODEL_8a65485ded0d42a38f7cae02db5f121c",
       "placeholder": "​",
       "style": "IPY_MODEL_b1b7364f049c4855ade95ad1ed08dbf9",
       "value": "pytorch_model.bin: 100%"
      }
     },
     "4815cdda5d7c48dd9413164144a4e492": {
      "model_module": "@jupyter-widgets/controls",
      "model_module_version": "1.5.0",
      "model_name": "FloatProgressModel",
      "state": {
       "_dom_classes": [],
       "_model_module": "@jupyter-widgets/controls",
       "_model_module_version": "1.5.0",
       "_model_name": "FloatProgressModel",
       "_view_count": null,
       "_view_module": "@jupyter-widgets/controls",
       "_view_module_version": "1.5.0",
       "_view_name": "ProgressView",
       "bar_style": "success",
       "description": "",
       "description_tooltip": null,
       "layout": "IPY_MODEL_b315bdcbfa064659bab881000f81f7dc",
       "max": 69607,
       "min": 0,
       "orientation": "horizontal",
       "style": "IPY_MODEL_e7736e244ec944a891280004df3255f5",
       "value": 69607
      }
     },
     "6c557e1a022f42c28661efab08e46838": {
      "model_module": "@jupyter-widgets/controls",
      "model_module_version": "1.5.0",
      "model_name": "DescriptionStyleModel",
      "state": {
       "_model_module": "@jupyter-widgets/controls",
       "_model_module_version": "1.5.0",
       "_model_name": "DescriptionStyleModel",
       "_view_count": null,
       "_view_module": "@jupyter-widgets/base",
       "_view_module_version": "1.2.0",
       "_view_name": "StyleView",
       "description_width": ""
      }
     },
     "6e5217e7302c44fa9e53cf6f7b03561d": {
      "model_module": "@jupyter-widgets/base",
      "model_module_version": "1.2.0",
      "model_name": "LayoutModel",
      "state": {
       "_model_module": "@jupyter-widgets/base",
       "_model_module_version": "1.2.0",
       "_model_name": "LayoutModel",
       "_view_count": null,
       "_view_module": "@jupyter-widgets/base",
       "_view_module_version": "1.2.0",
       "_view_name": "LayoutView",
       "align_content": null,
       "align_items": null,
       "align_self": null,
       "border": null,
       "bottom": null,
       "display": null,
       "flex": null,
       "flex_flow": null,
       "grid_area": null,
       "grid_auto_columns": null,
       "grid_auto_flow": null,
       "grid_auto_rows": null,
       "grid_column": null,
       "grid_gap": null,
       "grid_row": null,
       "grid_template_areas": null,
       "grid_template_columns": null,
       "grid_template_rows": null,
       "height": null,
       "justify_content": null,
       "justify_items": null,
       "left": null,
       "margin": null,
       "max_height": null,
       "max_width": null,
       "min_height": null,
       "min_width": null,
       "object_fit": null,
       "object_position": null,
       "order": null,
       "overflow": null,
       "overflow_x": null,
       "overflow_y": null,
       "padding": null,
       "right": null,
       "top": null,
       "visibility": null,
       "width": null
      }
     },
     "71a31e69890040068bf3949cc4937cc8": {
      "model_module": "@jupyter-widgets/controls",
      "model_module_version": "1.5.0",
      "model_name": "HBoxModel",
      "state": {
       "_dom_classes": [],
       "_model_module": "@jupyter-widgets/controls",
       "_model_module_version": "1.5.0",
       "_model_name": "HBoxModel",
       "_view_count": null,
       "_view_module": "@jupyter-widgets/controls",
       "_view_module_version": "1.5.0",
       "_view_name": "HBoxView",
       "box_style": "",
       "children": [
        "IPY_MODEL_ca1e3cdf5b1749e1b96e20a56a177516",
        "IPY_MODEL_4815cdda5d7c48dd9413164144a4e492",
        "IPY_MODEL_92b7acc33a2642ba8cb84db7bd0504e9"
       ],
       "layout": "IPY_MODEL_8a385b8b95474f5a9c49c3c8aa3bc579"
      }
     },
     "8a385b8b95474f5a9c49c3c8aa3bc579": {
      "model_module": "@jupyter-widgets/base",
      "model_module_version": "1.2.0",
      "model_name": "LayoutModel",
      "state": {
       "_model_module": "@jupyter-widgets/base",
       "_model_module_version": "1.2.0",
       "_model_name": "LayoutModel",
       "_view_count": null,
       "_view_module": "@jupyter-widgets/base",
       "_view_module_version": "1.2.0",
       "_view_name": "LayoutView",
       "align_content": null,
       "align_items": null,
       "align_self": null,
       "border": null,
       "bottom": null,
       "display": null,
       "flex": null,
       "flex_flow": null,
       "grid_area": null,
       "grid_auto_columns": null,
       "grid_auto_flow": null,
       "grid_auto_rows": null,
       "grid_column": null,
       "grid_gap": null,
       "grid_row": null,
       "grid_template_areas": null,
       "grid_template_columns": null,
       "grid_template_rows": null,
       "height": null,
       "justify_content": null,
       "justify_items": null,
       "left": null,
       "margin": null,
       "max_height": null,
       "max_width": null,
       "min_height": null,
       "min_width": null,
       "object_fit": null,
       "object_position": null,
       "order": null,
       "overflow": null,
       "overflow_x": null,
       "overflow_y": null,
       "padding": null,
       "right": null,
       "top": null,
       "visibility": null,
       "width": null
      }
     },
     "8a65485ded0d42a38f7cae02db5f121c": {
      "model_module": "@jupyter-widgets/base",
      "model_module_version": "1.2.0",
      "model_name": "LayoutModel",
      "state": {
       "_model_module": "@jupyter-widgets/base",
       "_model_module_version": "1.2.0",
       "_model_name": "LayoutModel",
       "_view_count": null,
       "_view_module": "@jupyter-widgets/base",
       "_view_module_version": "1.2.0",
       "_view_name": "LayoutView",
       "align_content": null,
       "align_items": null,
       "align_self": null,
       "border": null,
       "bottom": null,
       "display": null,
       "flex": null,
       "flex_flow": null,
       "grid_area": null,
       "grid_auto_columns": null,
       "grid_auto_flow": null,
       "grid_auto_rows": null,
       "grid_column": null,
       "grid_gap": null,
       "grid_row": null,
       "grid_template_areas": null,
       "grid_template_columns": null,
       "grid_template_rows": null,
       "height": null,
       "justify_content": null,
       "justify_items": null,
       "left": null,
       "margin": null,
       "max_height": null,
       "max_width": null,
       "min_height": null,
       "min_width": null,
       "object_fit": null,
       "object_position": null,
       "order": null,
       "overflow": null,
       "overflow_x": null,
       "overflow_y": null,
       "padding": null,
       "right": null,
       "top": null,
       "visibility": null,
       "width": null
      }
     },
     "92b7acc33a2642ba8cb84db7bd0504e9": {
      "model_module": "@jupyter-widgets/controls",
      "model_module_version": "1.5.0",
      "model_name": "HTMLModel",
      "state": {
       "_dom_classes": [],
       "_model_module": "@jupyter-widgets/controls",
       "_model_module_version": "1.5.0",
       "_model_name": "HTMLModel",
       "_view_count": null,
       "_view_module": "@jupyter-widgets/controls",
       "_view_module_version": "1.5.0",
       "_view_name": "HTMLView",
       "description": "",
       "description_tooltip": null,
       "layout": "IPY_MODEL_f7d141a6957b4aa3ad3a3f4554a9c1c8",
       "placeholder": "​",
       "style": "IPY_MODEL_cd8a683ddfcb44c685e956a9b2052b3b",
       "value": " 69.6k/69.6k [00:00&lt;00:00, 2.27MB/s]"
      }
     },
     "b1b7364f049c4855ade95ad1ed08dbf9": {
      "model_module": "@jupyter-widgets/controls",
      "model_module_version": "1.5.0",
      "model_name": "DescriptionStyleModel",
      "state": {
       "_model_module": "@jupyter-widgets/controls",
       "_model_module_version": "1.5.0",
       "_model_name": "DescriptionStyleModel",
       "_view_count": null,
       "_view_module": "@jupyter-widgets/base",
       "_view_module_version": "1.2.0",
       "_view_name": "StyleView",
       "description_width": ""
      }
     },
     "b315bdcbfa064659bab881000f81f7dc": {
      "model_module": "@jupyter-widgets/base",
      "model_module_version": "1.2.0",
      "model_name": "LayoutModel",
      "state": {
       "_model_module": "@jupyter-widgets/base",
       "_model_module_version": "1.2.0",
       "_model_name": "LayoutModel",
       "_view_count": null,
       "_view_module": "@jupyter-widgets/base",
       "_view_module_version": "1.2.0",
       "_view_name": "LayoutView",
       "align_content": null,
       "align_items": null,
       "align_self": null,
       "border": null,
       "bottom": null,
       "display": null,
       "flex": null,
       "flex_flow": null,
       "grid_area": null,
       "grid_auto_columns": null,
       "grid_auto_flow": null,
       "grid_auto_rows": null,
       "grid_column": null,
       "grid_gap": null,
       "grid_row": null,
       "grid_template_areas": null,
       "grid_template_columns": null,
       "grid_template_rows": null,
       "height": null,
       "justify_content": null,
       "justify_items": null,
       "left": null,
       "margin": null,
       "max_height": null,
       "max_width": null,
       "min_height": null,
       "min_width": null,
       "object_fit": null,
       "object_position": null,
       "order": null,
       "overflow": null,
       "overflow_x": null,
       "overflow_y": null,
       "padding": null,
       "right": null,
       "top": null,
       "visibility": null,
       "width": null
      }
     },
     "ca1e3cdf5b1749e1b96e20a56a177516": {
      "model_module": "@jupyter-widgets/controls",
      "model_module_version": "1.5.0",
      "model_name": "HTMLModel",
      "state": {
       "_dom_classes": [],
       "_model_module": "@jupyter-widgets/controls",
       "_model_module_version": "1.5.0",
       "_model_name": "HTMLModel",
       "_view_count": null,
       "_view_module": "@jupyter-widgets/controls",
       "_view_module_version": "1.5.0",
       "_view_name": "HTMLView",
       "description": "",
       "description_tooltip": null,
       "layout": "IPY_MODEL_24a0d1d5903441ef8860c54b342ff2fc",
       "placeholder": "​",
       "style": "IPY_MODEL_6c557e1a022f42c28661efab08e46838",
       "value": "config.json: 100%"
      }
     },
     "cd59d241404d42c2bdc49e88dbe00465": {
      "model_module": "@jupyter-widgets/base",
      "model_module_version": "1.2.0",
      "model_name": "LayoutModel",
      "state": {
       "_model_module": "@jupyter-widgets/base",
       "_model_module_version": "1.2.0",
       "_model_name": "LayoutModel",
       "_view_count": null,
       "_view_module": "@jupyter-widgets/base",
       "_view_module_version": "1.2.0",
       "_view_name": "LayoutView",
       "align_content": null,
       "align_items": null,
       "align_self": null,
       "border": null,
       "bottom": null,
       "display": null,
       "flex": null,
       "flex_flow": null,
       "grid_area": null,
       "grid_auto_columns": null,
       "grid_auto_flow": null,
       "grid_auto_rows": null,
       "grid_column": null,
       "grid_gap": null,
       "grid_row": null,
       "grid_template_areas": null,
       "grid_template_columns": null,
       "grid_template_rows": null,
       "height": null,
       "justify_content": null,
       "justify_items": null,
       "left": null,
       "margin": null,
       "max_height": null,
       "max_width": null,
       "min_height": null,
       "min_width": null,
       "object_fit": null,
       "object_position": null,
       "order": null,
       "overflow": null,
       "overflow_x": null,
       "overflow_y": null,
       "padding": null,
       "right": null,
       "top": null,
       "visibility": null,
       "width": null
      }
     },
     "cd8a683ddfcb44c685e956a9b2052b3b": {
      "model_module": "@jupyter-widgets/controls",
      "model_module_version": "1.5.0",
      "model_name": "DescriptionStyleModel",
      "state": {
       "_model_module": "@jupyter-widgets/controls",
       "_model_module_version": "1.5.0",
       "_model_name": "DescriptionStyleModel",
       "_view_count": null,
       "_view_module": "@jupyter-widgets/base",
       "_view_module_version": "1.2.0",
       "_view_name": "StyleView",
       "description_width": ""
      }
     },
     "cef95269fcdd4e1e9ac0e85412a3161d": {
      "model_module": "@jupyter-widgets/controls",
      "model_module_version": "1.5.0",
      "model_name": "DescriptionStyleModel",
      "state": {
       "_model_module": "@jupyter-widgets/controls",
       "_model_module_version": "1.5.0",
       "_model_name": "DescriptionStyleModel",
       "_view_count": null,
       "_view_module": "@jupyter-widgets/base",
       "_view_module_version": "1.2.0",
       "_view_name": "StyleView",
       "description_width": ""
      }
     },
     "d7e8655cba5d463ba75b4b40fd23d12c": {
      "model_module": "@jupyter-widgets/controls",
      "model_module_version": "1.5.0",
      "model_name": "HBoxModel",
      "state": {
       "_dom_classes": [],
       "_model_module": "@jupyter-widgets/controls",
       "_model_module_version": "1.5.0",
       "_model_name": "HBoxModel",
       "_view_count": null,
       "_view_module": "@jupyter-widgets/controls",
       "_view_module_version": "1.5.0",
       "_view_name": "HBoxView",
       "box_style": "",
       "children": [
        "IPY_MODEL_26c659c0a4bb4047b27f9ea762e0aadc",
        "IPY_MODEL_16fb7a0f65fa4753a3653f27fdfacf1e",
        "IPY_MODEL_078fb056ea704c6289e53e2759ea5232"
       ],
       "layout": "IPY_MODEL_cd59d241404d42c2bdc49e88dbe00465"
      }
     },
     "de37cf2e1d5c40cb882fac43adb16cc2": {
      "model_module": "@jupyter-widgets/base",
      "model_module_version": "1.2.0",
      "model_name": "LayoutModel",
      "state": {
       "_model_module": "@jupyter-widgets/base",
       "_model_module_version": "1.2.0",
       "_model_name": "LayoutModel",
       "_view_count": null,
       "_view_module": "@jupyter-widgets/base",
       "_view_module_version": "1.2.0",
       "_view_name": "LayoutView",
       "align_content": null,
       "align_items": null,
       "align_self": null,
       "border": null,
       "bottom": null,
       "display": null,
       "flex": null,
       "flex_flow": null,
       "grid_area": null,
       "grid_auto_columns": null,
       "grid_auto_flow": null,
       "grid_auto_rows": null,
       "grid_column": null,
       "grid_gap": null,
       "grid_row": null,
       "grid_template_areas": null,
       "grid_template_columns": null,
       "grid_template_rows": null,
       "height": null,
       "justify_content": null,
       "justify_items": null,
       "left": null,
       "margin": null,
       "max_height": null,
       "max_width": null,
       "min_height": null,
       "min_width": null,
       "object_fit": null,
       "object_position": null,
       "order": null,
       "overflow": null,
       "overflow_x": null,
       "overflow_y": null,
       "padding": null,
       "right": null,
       "top": null,
       "visibility": null,
       "width": null
      }
     },
     "e7736e244ec944a891280004df3255f5": {
      "model_module": "@jupyter-widgets/controls",
      "model_module_version": "1.5.0",
      "model_name": "ProgressStyleModel",
      "state": {
       "_model_module": "@jupyter-widgets/controls",
       "_model_module_version": "1.5.0",
       "_model_name": "ProgressStyleModel",
       "_view_count": null,
       "_view_module": "@jupyter-widgets/base",
       "_view_module_version": "1.2.0",
       "_view_name": "StyleView",
       "bar_color": null,
       "description_width": ""
      }
     },
     "f7d141a6957b4aa3ad3a3f4554a9c1c8": {
      "model_module": "@jupyter-widgets/base",
      "model_module_version": "1.2.0",
      "model_name": "LayoutModel",
      "state": {
       "_model_module": "@jupyter-widgets/base",
       "_model_module_version": "1.2.0",
       "_model_name": "LayoutModel",
       "_view_count": null,
       "_view_module": "@jupyter-widgets/base",
       "_view_module_version": "1.2.0",
       "_view_name": "LayoutView",
       "align_content": null,
       "align_items": null,
       "align_self": null,
       "border": null,
       "bottom": null,
       "display": null,
       "flex": null,
       "flex_flow": null,
       "grid_area": null,
       "grid_auto_columns": null,
       "grid_auto_flow": null,
       "grid_auto_rows": null,
       "grid_column": null,
       "grid_gap": null,
       "grid_row": null,
       "grid_template_areas": null,
       "grid_template_columns": null,
       "grid_template_rows": null,
       "height": null,
       "justify_content": null,
       "justify_items": null,
       "left": null,
       "margin": null,
       "max_height": null,
       "max_width": null,
       "min_height": null,
       "min_width": null,
       "object_fit": null,
       "object_position": null,
       "order": null,
       "overflow": null,
       "overflow_x": null,
       "overflow_y": null,
       "padding": null,
       "right": null,
       "top": null,
       "visibility": null,
       "width": null
      }
     }
    },
    "version_major": 2,
    "version_minor": 0
   }
  }
 },
 "nbformat": 4,
 "nbformat_minor": 5
}
