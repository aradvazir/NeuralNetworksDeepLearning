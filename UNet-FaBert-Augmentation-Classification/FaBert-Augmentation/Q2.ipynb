{
 "cells": [
  {
   "cell_type": "markdown",
   "id": "3c39733d",
   "metadata": {
    "papermill": {
     "duration": 0.015553,
     "end_time": "2024-06-30T04:31:18.998944",
     "exception": false,
     "start_time": "2024-06-30T04:31:18.983391",
     "status": "completed"
    },
    "tags": []
   },
   "source": [
    "Import necessary libraries:"
   ]
  },
  {
   "cell_type": "code",
   "execution_count": 1,
   "id": "fec70411",
   "metadata": {
    "_cell_guid": "b1076dfc-b9ad-4769-8c92-a6c4dae69d19",
    "_uuid": "8f2839f25d086af736a60e9eeb907d3b93b6e0e5",
    "execution": {
     "iopub.execute_input": "2024-06-30T04:31:19.030096Z",
     "iopub.status.busy": "2024-06-30T04:31:19.029377Z",
     "iopub.status.idle": "2024-06-30T04:31:36.754594Z",
     "shell.execute_reply": "2024-06-30T04:31:36.753618Z"
    },
    "papermill": {
     "duration": 17.743418,
     "end_time": "2024-06-30T04:31:36.757095",
     "exception": false,
     "start_time": "2024-06-30T04:31:19.013677",
     "status": "completed"
    },
    "tags": []
   },
   "outputs": [
    {
     "name": "stderr",
     "output_type": "stream",
     "text": [
      "2024-06-30 04:31:27.374071: E external/local_xla/xla/stream_executor/cuda/cuda_dnn.cc:9261] Unable to register cuDNN factory: Attempting to register factory for plugin cuDNN when one has already been registered\n",
      "2024-06-30 04:31:27.374200: E external/local_xla/xla/stream_executor/cuda/cuda_fft.cc:607] Unable to register cuFFT factory: Attempting to register factory for plugin cuFFT when one has already been registered\n",
      "2024-06-30 04:31:27.506312: E external/local_xla/xla/stream_executor/cuda/cuda_blas.cc:1515] Unable to register cuBLAS factory: Attempting to register factory for plugin cuBLAS when one has already been registered\n"
     ]
    }
   ],
   "source": [
    "import torch\n",
    "import string\n",
    "import time\n",
    "import numpy as np\n",
    "import pandas as pd\n",
    "import torch.nn as nn\n",
    "from tqdm import tqdm\n",
    "import seaborn as sns\n",
    "import matplotlib.pyplot as plt\n",
    "from torch.utils.data import Dataset, DataLoader\n",
    "from transformers import DataCollatorWithPadding\n",
    "from sklearn.model_selection import train_test_split\n",
    "from sklearn.metrics import confusion_matrix, f1_score\n",
    "from transformers import AutoModelForSequenceClassification, AutoTokenizer, AdamW, AutoModelForMaskedLM"
   ]
  },
  {
   "cell_type": "markdown",
   "id": "0f4e614d",
   "metadata": {
    "papermill": {
     "duration": 0.01542,
     "end_time": "2024-06-30T04:31:36.787522",
     "exception": false,
     "start_time": "2024-06-30T04:31:36.772102",
     "status": "completed"
    },
    "tags": []
   },
   "source": [
    "Install packages:"
   ]
  },
  {
   "cell_type": "code",
   "execution_count": 2,
   "id": "436dc667",
   "metadata": {
    "execution": {
     "iopub.execute_input": "2024-06-30T04:31:36.818743Z",
     "iopub.status.busy": "2024-06-30T04:31:36.817753Z",
     "iopub.status.idle": "2024-06-30T04:32:31.201075Z",
     "shell.execute_reply": "2024-06-30T04:32:31.199940Z"
    },
    "papermill": {
     "duration": 54.401464,
     "end_time": "2024-06-30T04:32:31.203510",
     "exception": false,
     "start_time": "2024-06-30T04:31:36.802046",
     "status": "completed"
    },
    "tags": []
   },
   "outputs": [
    {
     "name": "stderr",
     "output_type": "stream",
     "text": [
      "/opt/conda/lib/python3.10/pty.py:89: RuntimeWarning: os.fork() was called. os.fork() is incompatible with multithreaded code, and JAX is multithreaded, so this will likely lead to a deadlock.\n",
      "  pid, fd = os.forkpty()\n"
     ]
    },
    {
     "name": "stdout",
     "output_type": "stream",
     "text": [
      "Collecting hazm\r\n",
      "  Downloading hazm-0.10.0-py3-none-any.whl.metadata (11 kB)\r\n",
      "Collecting fasttext-wheel<0.10.0,>=0.9.2 (from hazm)\r\n",
      "  Downloading fasttext_wheel-0.9.2-cp310-cp310-manylinux_2_17_x86_64.manylinux2014_x86_64.whl.metadata (16 kB)\r\n",
      "Requirement already satisfied: flashtext<3.0,>=2.7 in /opt/conda/lib/python3.10/site-packages (from hazm) (2.7)\r\n",
      "Requirement already satisfied: gensim<5.0.0,>=4.3.1 in /opt/conda/lib/python3.10/site-packages (from hazm) (4.3.2)\r\n",
      "Collecting nltk<4.0.0,>=3.8.1 (from hazm)\r\n",
      "  Downloading nltk-3.8.1-py3-none-any.whl.metadata (2.8 kB)\r\n",
      "Collecting numpy==1.24.3 (from hazm)\r\n",
      "  Downloading numpy-1.24.3-cp310-cp310-manylinux_2_17_x86_64.manylinux2014_x86_64.whl.metadata (5.6 kB)\r\n",
      "Collecting python-crfsuite<0.10.0,>=0.9.9 (from hazm)\r\n",
      "  Downloading python_crfsuite-0.9.10-cp310-cp310-manylinux_2_17_x86_64.manylinux2014_x86_64.whl.metadata (4.2 kB)\r\n",
      "Requirement already satisfied: scikit-learn<2.0.0,>=1.2.2 in /opt/conda/lib/python3.10/site-packages (from hazm) (1.2.2)\r\n",
      "Requirement already satisfied: pybind11>=2.2 in /opt/conda/lib/python3.10/site-packages (from fasttext-wheel<0.10.0,>=0.9.2->hazm) (2.12.0)\r\n",
      "Requirement already satisfied: setuptools>=0.7.0 in /opt/conda/lib/python3.10/site-packages (from fasttext-wheel<0.10.0,>=0.9.2->hazm) (69.0.3)\r\n",
      "Requirement already satisfied: scipy>=1.7.0 in /opt/conda/lib/python3.10/site-packages (from gensim<5.0.0,>=4.3.1->hazm) (1.11.4)\r\n",
      "Requirement already satisfied: smart-open>=1.8.1 in /opt/conda/lib/python3.10/site-packages (from gensim<5.0.0,>=4.3.1->hazm) (6.4.0)\r\n",
      "Requirement already satisfied: click in /opt/conda/lib/python3.10/site-packages (from nltk<4.0.0,>=3.8.1->hazm) (8.1.7)\r\n",
      "Requirement already satisfied: joblib in /opt/conda/lib/python3.10/site-packages (from nltk<4.0.0,>=3.8.1->hazm) (1.4.2)\r\n",
      "Requirement already satisfied: regex>=2021.8.3 in /opt/conda/lib/python3.10/site-packages (from nltk<4.0.0,>=3.8.1->hazm) (2023.12.25)\r\n",
      "Requirement already satisfied: tqdm in /opt/conda/lib/python3.10/site-packages (from nltk<4.0.0,>=3.8.1->hazm) (4.66.4)\r\n",
      "Requirement already satisfied: threadpoolctl>=2.0.0 in /opt/conda/lib/python3.10/site-packages (from scikit-learn<2.0.0,>=1.2.2->hazm) (3.2.0)\r\n",
      "Downloading hazm-0.10.0-py3-none-any.whl (892 kB)\r\n",
      "\u001b[2K   \u001b[90m━━━━━━━━━━━━━━━━━━━━━━━━━━━━━━━━━━━━━━━━\u001b[0m \u001b[32m892.6/892.6 kB\u001b[0m \u001b[31m5.3 MB/s\u001b[0m eta \u001b[36m0:00:00\u001b[0m\r\n",
      "\u001b[?25hDownloading numpy-1.24.3-cp310-cp310-manylinux_2_17_x86_64.manylinux2014_x86_64.whl (17.3 MB)\r\n",
      "\u001b[2K   \u001b[90m━━━━━━━━━━━━━━━━━━━━━━━━━━━━━━━━━━━━━━━━\u001b[0m \u001b[32m17.3/17.3 MB\u001b[0m \u001b[31m39.8 MB/s\u001b[0m eta \u001b[36m0:00:00\u001b[0m\r\n",
      "\u001b[?25hDownloading fasttext_wheel-0.9.2-cp310-cp310-manylinux_2_17_x86_64.manylinux2014_x86_64.whl (4.4 MB)\r\n",
      "\u001b[2K   \u001b[90m━━━━━━━━━━━━━━━━━━━━━━━━━━━━━━━━━━━━━━━━\u001b[0m \u001b[32m4.4/4.4 MB\u001b[0m \u001b[31m42.7 MB/s\u001b[0m eta \u001b[36m0:00:00\u001b[0m\r\n",
      "\u001b[?25hDownloading nltk-3.8.1-py3-none-any.whl (1.5 MB)\r\n",
      "\u001b[2K   \u001b[90m━━━━━━━━━━━━━━━━━━━━━━━━━━━━━━━━━━━━━━━━\u001b[0m \u001b[32m1.5/1.5 MB\u001b[0m \u001b[31m59.5 MB/s\u001b[0m eta \u001b[36m0:00:00\u001b[0m\r\n",
      "\u001b[?25hDownloading python_crfsuite-0.9.10-cp310-cp310-manylinux_2_17_x86_64.manylinux2014_x86_64.whl (1.1 MB)\r\n",
      "\u001b[2K   \u001b[90m━━━━━━━━━━━━━━━━━━━━━━━━━━━━━━━━━━━━━━━━\u001b[0m \u001b[32m1.1/1.1 MB\u001b[0m \u001b[31m49.7 MB/s\u001b[0m eta \u001b[36m0:00:00\u001b[0m\r\n",
      "\u001b[?25hInstalling collected packages: python-crfsuite, numpy, nltk, fasttext-wheel, hazm\r\n",
      "  Attempting uninstall: numpy\r\n",
      "    Found existing installation: numpy 1.26.4\r\n",
      "    Uninstalling numpy-1.26.4:\r\n",
      "      Successfully uninstalled numpy-1.26.4\r\n",
      "  Attempting uninstall: nltk\r\n",
      "    Found existing installation: nltk 3.2.4\r\n",
      "    Uninstalling nltk-3.2.4:\r\n",
      "      Successfully uninstalled nltk-3.2.4\r\n",
      "\u001b[31mERROR: pip's dependency resolver does not currently take into account all the packages that are installed. This behaviour is the source of the following dependency conflicts.\r\n",
      "cudf 24.4.1 requires cubinlinker, which is not installed.\r\n",
      "cudf 24.4.1 requires cupy-cuda11x>=12.0.0, which is not installed.\r\n",
      "cudf 24.4.1 requires ptxcompiler, which is not installed.\r\n",
      "cuml 24.4.0 requires cupy-cuda11x>=12.0.0, which is not installed.\r\n",
      "dask-cudf 24.4.1 requires cupy-cuda11x>=12.0.0, which is not installed.\r\n",
      "keras-nlp 0.12.1 requires keras-core, which is not installed.\r\n",
      "tensorflow-decision-forests 1.8.1 requires wurlitzer, which is not installed.\r\n",
      "albumentations 1.4.0 requires numpy>=1.24.4, but you have numpy 1.24.3 which is incompatible.\r\n",
      "apache-beam 2.46.0 requires dill<0.3.2,>=0.3.1.1, but you have dill 0.3.8 which is incompatible.\r\n",
      "apache-beam 2.46.0 requires pyarrow<10.0.0,>=3.0.0, but you have pyarrow 14.0.2 which is incompatible.\r\n",
      "cudf 24.4.1 requires cuda-python<12.0a0,>=11.7.1, but you have cuda-python 12.5.0 which is incompatible.\r\n",
      "featuretools 1.31.0 requires numpy>=1.25.0, but you have numpy 1.24.3 which is incompatible.\r\n",
      "libpysal 4.9.2 requires packaging>=22, but you have packaging 21.3 which is incompatible.\r\n",
      "libpysal 4.9.2 requires shapely>=2.0.1, but you have shapely 1.8.5.post1 which is incompatible.\r\n",
      "momepy 0.7.0 requires shapely>=2, but you have shapely 1.8.5.post1 which is incompatible.\r\n",
      "osmnx 1.9.3 requires shapely>=2.0, but you have shapely 1.8.5.post1 which is incompatible.\r\n",
      "preprocessing 0.1.13 requires nltk==3.2.4, but you have nltk 3.8.1 which is incompatible.\r\n",
      "pylibraft 24.4.0 requires cuda-python<12.0a0,>=11.7.1, but you have cuda-python 12.5.0 which is incompatible.\r\n",
      "rmm 24.4.0 requires cuda-python<12.0a0,>=11.7.1, but you have cuda-python 12.5.0 which is incompatible.\r\n",
      "spopt 0.6.0 requires shapely>=2.0.1, but you have shapely 1.8.5.post1 which is incompatible.\r\n",
      "tensorflow 2.15.0 requires keras<2.16,>=2.15.0, but you have keras 3.3.3 which is incompatible.\r\n",
      "tensorstore 0.1.60 requires ml-dtypes>=0.3.1, but you have ml-dtypes 0.2.0 which is incompatible.\r\n",
      "woodwork 0.31.0 requires numpy>=1.25.0, but you have numpy 1.24.3 which is incompatible.\r\n",
      "xarray 2024.5.0 requires packaging>=23.1, but you have packaging 21.3 which is incompatible.\u001b[0m\u001b[31m\r\n",
      "\u001b[0mSuccessfully installed fasttext-wheel-0.9.2 hazm-0.10.0 nltk-3.8.1 numpy-1.24.3 python-crfsuite-0.9.10\r\n",
      "Collecting langdetect\r\n",
      "  Downloading langdetect-1.0.9.tar.gz (981 kB)\r\n",
      "\u001b[2K     \u001b[90m━━━━━━━━━━━━━━━━━━━━━━━━━━━━━━━━━━━━━━━\u001b[0m \u001b[32m981.5/981.5 kB\u001b[0m \u001b[31m4.5 MB/s\u001b[0m eta \u001b[36m0:00:00\u001b[0m\r\n",
      "\u001b[?25h  Preparing metadata (setup.py) ... \u001b[?25l-\b \bdone\r\n",
      "\u001b[?25hRequirement already satisfied: six in /opt/conda/lib/python3.10/site-packages (from langdetect) (1.16.0)\r\n",
      "Building wheels for collected packages: langdetect\r\n",
      "  Building wheel for langdetect (setup.py) ... \u001b[?25l-\b \bdone\r\n",
      "\u001b[?25h  Created wheel for langdetect: filename=langdetect-1.0.9-py3-none-any.whl size=993225 sha256=cfd2246d7b4599b5161ef90bccc1e653895bb7aa01cf569090ea378f6394cf21\r\n",
      "  Stored in directory: /root/.cache/pip/wheels/95/03/7d/59ea870c70ce4e5a370638b5462a7711ab78fba2f655d05106\r\n",
      "Successfully built langdetect\r\n",
      "Installing collected packages: langdetect\r\n",
      "Successfully installed langdetect-1.0.9\r\n",
      "Collecting googletrans==3.1.0a0\r\n",
      "  Downloading googletrans-3.1.0a0.tar.gz (19 kB)\r\n",
      "  Preparing metadata (setup.py) ... \u001b[?25l-\b \b\\\b \b|\b \bdone\r\n",
      "\u001b[?25hCollecting httpx==0.13.3 (from googletrans==3.1.0a0)\r\n",
      "  Downloading httpx-0.13.3-py3-none-any.whl.metadata (25 kB)\r\n",
      "Requirement already satisfied: certifi in /opt/conda/lib/python3.10/site-packages (from httpx==0.13.3->googletrans==3.1.0a0) (2024.2.2)\r\n",
      "Collecting hstspreload (from httpx==0.13.3->googletrans==3.1.0a0)\r\n",
      "  Downloading hstspreload-2024.6.1-py3-none-any.whl.metadata (2.1 kB)\r\n",
      "Requirement already satisfied: sniffio in /opt/conda/lib/python3.10/site-packages (from httpx==0.13.3->googletrans==3.1.0a0) (1.3.0)\r\n",
      "Collecting chardet==3.* (from httpx==0.13.3->googletrans==3.1.0a0)\r\n",
      "  Downloading chardet-3.0.4-py2.py3-none-any.whl.metadata (3.2 kB)\r\n",
      "Collecting idna==2.* (from httpx==0.13.3->googletrans==3.1.0a0)\r\n",
      "  Downloading idna-2.10-py2.py3-none-any.whl.metadata (9.1 kB)\r\n",
      "Collecting rfc3986<2,>=1.3 (from httpx==0.13.3->googletrans==3.1.0a0)\r\n",
      "  Downloading rfc3986-1.5.0-py2.py3-none-any.whl.metadata (6.5 kB)\r\n",
      "Collecting httpcore==0.9.* (from httpx==0.13.3->googletrans==3.1.0a0)\r\n",
      "  Downloading httpcore-0.9.1-py3-none-any.whl.metadata (4.6 kB)\r\n",
      "Collecting h11<0.10,>=0.8 (from httpcore==0.9.*->httpx==0.13.3->googletrans==3.1.0a0)\r\n",
      "  Downloading h11-0.9.0-py2.py3-none-any.whl.metadata (8.1 kB)\r\n",
      "Collecting h2==3.* (from httpcore==0.9.*->httpx==0.13.3->googletrans==3.1.0a0)\r\n",
      "  Downloading h2-3.2.0-py2.py3-none-any.whl.metadata (32 kB)\r\n",
      "Collecting hyperframe<6,>=5.2.0 (from h2==3.*->httpcore==0.9.*->httpx==0.13.3->googletrans==3.1.0a0)\r\n",
      "  Downloading hyperframe-5.2.0-py2.py3-none-any.whl.metadata (7.2 kB)\r\n",
      "Collecting hpack<4,>=3.0 (from h2==3.*->httpcore==0.9.*->httpx==0.13.3->googletrans==3.1.0a0)\r\n",
      "  Downloading hpack-3.0.0-py2.py3-none-any.whl.metadata (7.0 kB)\r\n",
      "Downloading httpx-0.13.3-py3-none-any.whl (55 kB)\r\n",
      "\u001b[2K   \u001b[90m━━━━━━━━━━━━━━━━━━━━━━━━━━━━━━━━━━━━━━━━\u001b[0m \u001b[32m55.1/55.1 kB\u001b[0m \u001b[31m2.5 MB/s\u001b[0m eta \u001b[36m0:00:00\u001b[0m\r\n",
      "\u001b[?25hDownloading chardet-3.0.4-py2.py3-none-any.whl (133 kB)\r\n",
      "\u001b[2K   \u001b[90m━━━━━━━━━━━━━━━━━━━━━━━━━━━━━━━━━━━━━━━━\u001b[0m \u001b[32m133.4/133.4 kB\u001b[0m \u001b[31m3.0 MB/s\u001b[0m eta \u001b[36m0:00:00\u001b[0m\r\n",
      "\u001b[?25hDownloading httpcore-0.9.1-py3-none-any.whl (42 kB)\r\n",
      "\u001b[2K   \u001b[90m━━━━━━━━━━━━━━━━━━━━━━━━━━━━━━━━━━━━━━━━\u001b[0m \u001b[32m42.6/42.6 kB\u001b[0m \u001b[31m3.4 MB/s\u001b[0m eta \u001b[36m0:00:00\u001b[0m\r\n",
      "\u001b[?25hDownloading idna-2.10-py2.py3-none-any.whl (58 kB)\r\n",
      "\u001b[2K   \u001b[90m━━━━━━━━━━━━━━━━━━━━━━━━━━━━━━━━━━━━━━━━\u001b[0m \u001b[32m58.8/58.8 kB\u001b[0m \u001b[31m4.7 MB/s\u001b[0m eta \u001b[36m0:00:00\u001b[0m\r\n",
      "\u001b[?25hDownloading h2-3.2.0-py2.py3-none-any.whl (65 kB)\r\n",
      "\u001b[2K   \u001b[90m━━━━━━━━━━━━━━━━━━━━━━━━━━━━━━━━━━━━━━━━\u001b[0m \u001b[32m65.0/65.0 kB\u001b[0m \u001b[31m4.7 MB/s\u001b[0m eta \u001b[36m0:00:00\u001b[0m\r\n",
      "\u001b[?25hDownloading rfc3986-1.5.0-py2.py3-none-any.whl (31 kB)\r\n",
      "Downloading hstspreload-2024.6.1-py3-none-any.whl (1.2 MB)\r\n",
      "\u001b[2K   \u001b[90m━━━━━━━━━━━━━━━━━━━━━━━━━━━━━━━━━━━━━━━━\u001b[0m \u001b[32m1.2/1.2 MB\u001b[0m \u001b[31m12.9 MB/s\u001b[0m eta \u001b[36m0:00:00\u001b[0m\r\n",
      "\u001b[?25hDownloading h11-0.9.0-py2.py3-none-any.whl (53 kB)\r\n",
      "\u001b[2K   \u001b[90m━━━━━━━━━━━━━━━━━━━━━━━━━━━━━━━━━━━━━━━━\u001b[0m \u001b[32m53.6/53.6 kB\u001b[0m \u001b[31m3.9 MB/s\u001b[0m eta \u001b[36m0:00:00\u001b[0m\r\n",
      "\u001b[?25hDownloading hpack-3.0.0-py2.py3-none-any.whl (38 kB)\r\n",
      "Downloading hyperframe-5.2.0-py2.py3-none-any.whl (12 kB)\r\n",
      "Building wheels for collected packages: googletrans\r\n",
      "  Building wheel for googletrans (setup.py) ... \u001b[?25l-\b \b\\\b \b|\b \b/\b \bdone\r\n",
      "\u001b[?25h  Created wheel for googletrans: filename=googletrans-3.1.0a0-py3-none-any.whl size=16352 sha256=e5eb042d56d0b0092f2d1bfa11b275c989c31026840374424ce6d6265a1132a6\r\n",
      "  Stored in directory: /root/.cache/pip/wheels/50/5d/3c/8477d0af4ca2b8b1308812c09f1930863caeebc762fe265a95\r\n",
      "Successfully built googletrans\r\n",
      "Installing collected packages: rfc3986, hyperframe, hpack, h11, chardet, idna, hstspreload, h2, httpcore, httpx, googletrans\r\n",
      "  Attempting uninstall: h11\r\n",
      "    Found existing installation: h11 0.14.0\r\n",
      "    Uninstalling h11-0.14.0:\r\n",
      "      Successfully uninstalled h11-0.14.0\r\n",
      "  Attempting uninstall: idna\r\n",
      "    Found existing installation: idna 3.6\r\n",
      "    Uninstalling idna-3.6:\r\n",
      "      Successfully uninstalled idna-3.6\r\n",
      "  Attempting uninstall: httpcore\r\n",
      "    Found existing installation: httpcore 1.0.5\r\n",
      "    Uninstalling httpcore-1.0.5:\r\n",
      "      Successfully uninstalled httpcore-1.0.5\r\n",
      "  Attempting uninstall: httpx\r\n",
      "    Found existing installation: httpx 0.27.0\r\n",
      "    Uninstalling httpx-0.27.0:\r\n",
      "      Successfully uninstalled httpx-0.27.0\r\n",
      "\u001b[31mERROR: pip's dependency resolver does not currently take into account all the packages that are installed. This behaviour is the source of the following dependency conflicts.\r\n",
      "tensorflow-decision-forests 1.8.1 requires wurlitzer, which is not installed.\r\n",
      "jupyterlab 4.2.1 requires httpx>=0.25.0, but you have httpx 0.13.3 which is incompatible.\r\n",
      "jupyterlab 4.2.1 requires jupyter-lsp>=2.0.0, but you have jupyter-lsp 1.5.1 which is incompatible.\r\n",
      "jupyterlab-lsp 5.1.0 requires jupyter-lsp>=2.0.0, but you have jupyter-lsp 1.5.1 which is incompatible.\r\n",
      "tensorflow 2.15.0 requires keras<2.16,>=2.15.0, but you have keras 3.3.3 which is incompatible.\u001b[0m\u001b[31m\r\n",
      "\u001b[0mSuccessfully installed chardet-3.0.4 googletrans-3.1.0a0 h11-0.9.0 h2-3.2.0 hpack-3.0.0 hstspreload-2024.6.1 httpcore-0.9.1 httpx-0.13.3 hyperframe-5.2.0 idna-2.10 rfc3986-1.5.0\r\n"
     ]
    }
   ],
   "source": [
    "! pip install hazm\n",
    "! pip install langdetect\n",
    "! pip install googletrans==3.1.0a0"
   ]
  },
  {
   "cell_type": "code",
   "execution_count": 3,
   "id": "6070369a",
   "metadata": {
    "execution": {
     "iopub.execute_input": "2024-06-30T04:32:31.252258Z",
     "iopub.status.busy": "2024-06-30T04:32:31.251895Z",
     "iopub.status.idle": "2024-06-30T04:32:49.003122Z",
     "shell.execute_reply": "2024-06-30T04:32:49.002370Z"
    },
    "papermill": {
     "duration": 17.778253,
     "end_time": "2024-06-30T04:32:49.005530",
     "exception": false,
     "start_time": "2024-06-30T04:32:31.227277",
     "status": "completed"
    },
    "tags": []
   },
   "outputs": [],
   "source": [
    "from hazm import *\n",
    "from langdetect import detect\n",
    "from googletrans import Translator"
   ]
  },
  {
   "cell_type": "markdown",
   "id": "cb534a5d",
   "metadata": {
    "papermill": {
     "duration": 0.022874,
     "end_time": "2024-06-30T04:32:49.052670",
     "exception": false,
     "start_time": "2024-06-30T04:32:49.029796",
     "status": "completed"
    },
    "tags": []
   },
   "source": [
    "## Preprocessing"
   ]
  },
  {
   "cell_type": "code",
   "execution_count": 4,
   "id": "5d6f6878",
   "metadata": {
    "execution": {
     "iopub.execute_input": "2024-06-30T04:32:49.102727Z",
     "iopub.status.busy": "2024-06-30T04:32:49.101888Z",
     "iopub.status.idle": "2024-06-30T04:32:49.106232Z",
     "shell.execute_reply": "2024-06-30T04:32:49.105369Z"
    },
    "papermill": {
     "duration": 0.030902,
     "end_time": "2024-06-30T04:32:49.108121",
     "exception": false,
     "start_time": "2024-06-30T04:32:49.077219",
     "status": "completed"
    },
    "tags": []
   },
   "outputs": [],
   "source": [
    "train_path = \"/kaggle/input/digikala-commetns/original 2.csv\"\n",
    "test_path  = \"/kaggle/input/digikala-commetns/test (1).csv\""
   ]
  },
  {
   "cell_type": "code",
   "execution_count": 5,
   "id": "1e6ee4c9",
   "metadata": {
    "execution": {
     "iopub.execute_input": "2024-06-30T04:32:49.156389Z",
     "iopub.status.busy": "2024-06-30T04:32:49.155576Z",
     "iopub.status.idle": "2024-06-30T04:32:49.225035Z",
     "shell.execute_reply": "2024-06-30T04:32:49.224004Z"
    },
    "papermill": {
     "duration": 0.095815,
     "end_time": "2024-06-30T04:32:49.227442",
     "exception": false,
     "start_time": "2024-06-30T04:32:49.131627",
     "status": "completed"
    },
    "tags": []
   },
   "outputs": [],
   "source": [
    "columns = [\"text\", \"label\"]\n",
    "\n",
    "train_df = pd.read_csv(train_path, names=columns)\n",
    "test_df  = pd.read_csv(test_path, names=columns)"
   ]
  },
  {
   "cell_type": "code",
   "execution_count": 6,
   "id": "5f8a6ee3",
   "metadata": {
    "execution": {
     "iopub.execute_input": "2024-06-30T04:32:49.276936Z",
     "iopub.status.busy": "2024-06-30T04:32:49.276125Z",
     "iopub.status.idle": "2024-06-30T04:32:49.294964Z",
     "shell.execute_reply": "2024-06-30T04:32:49.294002Z"
    },
    "papermill": {
     "duration": 0.044938,
     "end_time": "2024-06-30T04:32:49.297068",
     "exception": false,
     "start_time": "2024-06-30T04:32:49.252130",
     "status": "completed"
    },
    "tags": []
   },
   "outputs": [
    {
     "data": {
      "text/html": [
       "<div>\n",
       "<style scoped>\n",
       "    .dataframe tbody tr th:only-of-type {\n",
       "        vertical-align: middle;\n",
       "    }\n",
       "\n",
       "    .dataframe tbody tr th {\n",
       "        vertical-align: top;\n",
       "    }\n",
       "\n",
       "    .dataframe thead th {\n",
       "        text-align: right;\n",
       "    }\n",
       "</style>\n",
       "<table border=\"1\" class=\"dataframe\">\n",
       "  <thead>\n",
       "    <tr style=\"text-align: right;\">\n",
       "      <th></th>\n",
       "      <th>text</th>\n",
       "      <th>label</th>\n",
       "    </tr>\n",
       "  </thead>\n",
       "  <tbody>\n",
       "    <tr>\n",
       "      <th>0</th>\n",
       "      <td>گوشي خوبيه(قوي و شکيل و زيبا و بي رقيب)البته ت...</td>\n",
       "      <td>1</td>\n",
       "    </tr>\n",
       "    <tr>\n",
       "      <th>1</th>\n",
       "      <td>سلام خيلي خوبه بخرين.</td>\n",
       "      <td>2</td>\n",
       "    </tr>\n",
       "    <tr>\n",
       "      <th>2</th>\n",
       "      <td>از جمله قابلیت‌های ارتباطی HTC Desire SV می‌تو...</td>\n",
       "      <td>0</td>\n",
       "    </tr>\n",
       "    <tr>\n",
       "      <th>3</th>\n",
       "      <td>نهایتا،  یک دوربین VGA نیز برای انجام مکالمات ...</td>\n",
       "      <td>0</td>\n",
       "    </tr>\n",
       "    <tr>\n",
       "      <th>4</th>\n",
       "      <td>من حدوداً ۱ ماهي‌ که مي‌شه اين گوشي رو دارم، ر...</td>\n",
       "      <td>1</td>\n",
       "    </tr>\n",
       "  </tbody>\n",
       "</table>\n",
       "</div>"
      ],
      "text/plain": [
       "                                                text  label\n",
       "0  گوشي خوبيه(قوي و شکيل و زيبا و بي رقيب)البته ت...      1\n",
       "1                              سلام خيلي خوبه بخرين.      2\n",
       "2  از جمله قابلیت‌های ارتباطی HTC Desire SV می‌تو...      0\n",
       "3  نهایتا،  یک دوربین VGA نیز برای انجام مکالمات ...      0\n",
       "4  من حدوداً ۱ ماهي‌ که مي‌شه اين گوشي رو دارم، ر...      1"
      ]
     },
     "execution_count": 6,
     "metadata": {},
     "output_type": "execute_result"
    }
   ],
   "source": [
    "train_df.head()"
   ]
  },
  {
   "cell_type": "code",
   "execution_count": 7,
   "id": "3ea32b6a",
   "metadata": {
    "execution": {
     "iopub.execute_input": "2024-06-30T04:32:49.345686Z",
     "iopub.status.busy": "2024-06-30T04:32:49.344888Z",
     "iopub.status.idle": "2024-06-30T04:32:49.354387Z",
     "shell.execute_reply": "2024-06-30T04:32:49.353517Z"
    },
    "papermill": {
     "duration": 0.036145,
     "end_time": "2024-06-30T04:32:49.356413",
     "exception": false,
     "start_time": "2024-06-30T04:32:49.320268",
     "status": "completed"
    },
    "tags": []
   },
   "outputs": [
    {
     "data": {
      "text/html": [
       "<div>\n",
       "<style scoped>\n",
       "    .dataframe tbody tr th:only-of-type {\n",
       "        vertical-align: middle;\n",
       "    }\n",
       "\n",
       "    .dataframe tbody tr th {\n",
       "        vertical-align: top;\n",
       "    }\n",
       "\n",
       "    .dataframe thead th {\n",
       "        text-align: right;\n",
       "    }\n",
       "</style>\n",
       "<table border=\"1\" class=\"dataframe\">\n",
       "  <thead>\n",
       "    <tr style=\"text-align: right;\">\n",
       "      <th></th>\n",
       "      <th>text</th>\n",
       "      <th>label</th>\n",
       "    </tr>\n",
       "  </thead>\n",
       "  <tbody>\n",
       "    <tr>\n",
       "      <th>0</th>\n",
       "      <td>اندازه ي خوبي داره .</td>\n",
       "      <td>1</td>\n",
       "    </tr>\n",
       "    <tr>\n",
       "      <th>1</th>\n",
       "      <td>با اين چيزا نميتونه از Galaxy S III بهتر باشه</td>\n",
       "      <td>-1</td>\n",
       "    </tr>\n",
       "    <tr>\n",
       "      <th>2</th>\n",
       "      <td>سرعت اجرا بسيار بالا است و مصرف باتري نيز مناس...</td>\n",
       "      <td>2</td>\n",
       "    </tr>\n",
       "    <tr>\n",
       "      <th>3</th>\n",
       "      <td>از حساسیت 400 مقداری نویز در عکس ها مشاهده می ...</td>\n",
       "      <td>1</td>\n",
       "    </tr>\n",
       "    <tr>\n",
       "      <th>4</th>\n",
       "      <td>در کل،  با اینکه عکاسی با تبلت را همواره جزو م...</td>\n",
       "      <td>1</td>\n",
       "    </tr>\n",
       "  </tbody>\n",
       "</table>\n",
       "</div>"
      ],
      "text/plain": [
       "                                                text  label\n",
       "0                               اندازه ي خوبي داره .      1\n",
       "1      با اين چيزا نميتونه از Galaxy S III بهتر باشه     -1\n",
       "2  سرعت اجرا بسيار بالا است و مصرف باتري نيز مناس...      2\n",
       "3  از حساسیت 400 مقداری نویز در عکس ها مشاهده می ...      1\n",
       "4  در کل،  با اینکه عکاسی با تبلت را همواره جزو م...      1"
      ]
     },
     "execution_count": 7,
     "metadata": {},
     "output_type": "execute_result"
    }
   ],
   "source": [
    "test_df.head()"
   ]
  },
  {
   "cell_type": "code",
   "execution_count": 8,
   "id": "98246f55",
   "metadata": {
    "execution": {
     "iopub.execute_input": "2024-06-30T04:32:49.406504Z",
     "iopub.status.busy": "2024-06-30T04:32:49.406186Z",
     "iopub.status.idle": "2024-06-30T04:32:49.417151Z",
     "shell.execute_reply": "2024-06-30T04:32:49.416385Z"
    },
    "papermill": {
     "duration": 0.038546,
     "end_time": "2024-06-30T04:32:49.419057",
     "exception": false,
     "start_time": "2024-06-30T04:32:49.380511",
     "status": "completed"
    },
    "tags": []
   },
   "outputs": [],
   "source": [
    "mapping = {-2: -1, -1: -1, 0: 0, 1: 1, 2: 1}\n",
    "\n",
    "train_df[\"label\"] = train_df[\"label\"].map(mapping)\n",
    "test_df[\"label\"]  = test_df[\"label\"].map(mapping)"
   ]
  },
  {
   "cell_type": "code",
   "execution_count": 9,
   "id": "1d79427e",
   "metadata": {
    "execution": {
     "iopub.execute_input": "2024-06-30T04:32:49.467786Z",
     "iopub.status.busy": "2024-06-30T04:32:49.467492Z",
     "iopub.status.idle": "2024-06-30T04:32:49.476502Z",
     "shell.execute_reply": "2024-06-30T04:32:49.475529Z"
    },
    "papermill": {
     "duration": 0.035735,
     "end_time": "2024-06-30T04:32:49.478687",
     "exception": false,
     "start_time": "2024-06-30T04:32:49.442952",
     "status": "completed"
    },
    "tags": []
   },
   "outputs": [
    {
     "data": {
      "text/html": [
       "<div>\n",
       "<style scoped>\n",
       "    .dataframe tbody tr th:only-of-type {\n",
       "        vertical-align: middle;\n",
       "    }\n",
       "\n",
       "    .dataframe tbody tr th {\n",
       "        vertical-align: top;\n",
       "    }\n",
       "\n",
       "    .dataframe thead th {\n",
       "        text-align: right;\n",
       "    }\n",
       "</style>\n",
       "<table border=\"1\" class=\"dataframe\">\n",
       "  <thead>\n",
       "    <tr style=\"text-align: right;\">\n",
       "      <th></th>\n",
       "      <th>text</th>\n",
       "      <th>label</th>\n",
       "    </tr>\n",
       "  </thead>\n",
       "  <tbody>\n",
       "    <tr>\n",
       "      <th>0</th>\n",
       "      <td>گوشي خوبيه(قوي و شکيل و زيبا و بي رقيب)البته ت...</td>\n",
       "      <td>1</td>\n",
       "    </tr>\n",
       "    <tr>\n",
       "      <th>1</th>\n",
       "      <td>سلام خيلي خوبه بخرين.</td>\n",
       "      <td>1</td>\n",
       "    </tr>\n",
       "    <tr>\n",
       "      <th>2</th>\n",
       "      <td>از جمله قابلیت‌های ارتباطی HTC Desire SV می‌تو...</td>\n",
       "      <td>0</td>\n",
       "    </tr>\n",
       "    <tr>\n",
       "      <th>3</th>\n",
       "      <td>نهایتا،  یک دوربین VGA نیز برای انجام مکالمات ...</td>\n",
       "      <td>0</td>\n",
       "    </tr>\n",
       "    <tr>\n",
       "      <th>4</th>\n",
       "      <td>من حدوداً ۱ ماهي‌ که مي‌شه اين گوشي رو دارم، ر...</td>\n",
       "      <td>1</td>\n",
       "    </tr>\n",
       "  </tbody>\n",
       "</table>\n",
       "</div>"
      ],
      "text/plain": [
       "                                                text  label\n",
       "0  گوشي خوبيه(قوي و شکيل و زيبا و بي رقيب)البته ت...      1\n",
       "1                              سلام خيلي خوبه بخرين.      1\n",
       "2  از جمله قابلیت‌های ارتباطی HTC Desire SV می‌تو...      0\n",
       "3  نهایتا،  یک دوربین VGA نیز برای انجام مکالمات ...      0\n",
       "4  من حدوداً ۱ ماهي‌ که مي‌شه اين گوشي رو دارم، ر...      1"
      ]
     },
     "execution_count": 9,
     "metadata": {},
     "output_type": "execute_result"
    }
   ],
   "source": [
    "train_df.head()"
   ]
  },
  {
   "cell_type": "code",
   "execution_count": 10,
   "id": "0b9bd1e4",
   "metadata": {
    "execution": {
     "iopub.execute_input": "2024-06-30T04:32:49.528916Z",
     "iopub.status.busy": "2024-06-30T04:32:49.528325Z",
     "iopub.status.idle": "2024-06-30T04:32:49.536962Z",
     "shell.execute_reply": "2024-06-30T04:32:49.536064Z"
    },
    "papermill": {
     "duration": 0.036498,
     "end_time": "2024-06-30T04:32:49.539053",
     "exception": false,
     "start_time": "2024-06-30T04:32:49.502555",
     "status": "completed"
    },
    "tags": []
   },
   "outputs": [
    {
     "data": {
      "text/html": [
       "<div>\n",
       "<style scoped>\n",
       "    .dataframe tbody tr th:only-of-type {\n",
       "        vertical-align: middle;\n",
       "    }\n",
       "\n",
       "    .dataframe tbody tr th {\n",
       "        vertical-align: top;\n",
       "    }\n",
       "\n",
       "    .dataframe thead th {\n",
       "        text-align: right;\n",
       "    }\n",
       "</style>\n",
       "<table border=\"1\" class=\"dataframe\">\n",
       "  <thead>\n",
       "    <tr style=\"text-align: right;\">\n",
       "      <th></th>\n",
       "      <th>text</th>\n",
       "      <th>label</th>\n",
       "    </tr>\n",
       "  </thead>\n",
       "  <tbody>\n",
       "    <tr>\n",
       "      <th>0</th>\n",
       "      <td>اندازه ي خوبي داره .</td>\n",
       "      <td>1</td>\n",
       "    </tr>\n",
       "    <tr>\n",
       "      <th>1</th>\n",
       "      <td>با اين چيزا نميتونه از Galaxy S III بهتر باشه</td>\n",
       "      <td>-1</td>\n",
       "    </tr>\n",
       "    <tr>\n",
       "      <th>2</th>\n",
       "      <td>سرعت اجرا بسيار بالا است و مصرف باتري نيز مناس...</td>\n",
       "      <td>1</td>\n",
       "    </tr>\n",
       "    <tr>\n",
       "      <th>3</th>\n",
       "      <td>از حساسیت 400 مقداری نویز در عکس ها مشاهده می ...</td>\n",
       "      <td>1</td>\n",
       "    </tr>\n",
       "    <tr>\n",
       "      <th>4</th>\n",
       "      <td>در کل،  با اینکه عکاسی با تبلت را همواره جزو م...</td>\n",
       "      <td>1</td>\n",
       "    </tr>\n",
       "  </tbody>\n",
       "</table>\n",
       "</div>"
      ],
      "text/plain": [
       "                                                text  label\n",
       "0                               اندازه ي خوبي داره .      1\n",
       "1      با اين چيزا نميتونه از Galaxy S III بهتر باشه     -1\n",
       "2  سرعت اجرا بسيار بالا است و مصرف باتري نيز مناس...      1\n",
       "3  از حساسیت 400 مقداری نویز در عکس ها مشاهده می ...      1\n",
       "4  در کل،  با اینکه عکاسی با تبلت را همواره جزو م...      1"
      ]
     },
     "execution_count": 10,
     "metadata": {},
     "output_type": "execute_result"
    }
   ],
   "source": [
    "test_df.head()"
   ]
  },
  {
   "cell_type": "code",
   "execution_count": 11,
   "id": "3d4392c7",
   "metadata": {
    "execution": {
     "iopub.execute_input": "2024-06-30T04:32:49.589319Z",
     "iopub.status.busy": "2024-06-30T04:32:49.588811Z",
     "iopub.status.idle": "2024-06-30T04:32:50.176424Z",
     "shell.execute_reply": "2024-06-30T04:32:50.175505Z"
    },
    "papermill": {
     "duration": 0.614589,
     "end_time": "2024-06-30T04:32:50.178392",
     "exception": false,
     "start_time": "2024-06-30T04:32:49.563803",
     "status": "completed"
    },
    "tags": []
   },
   "outputs": [
    {
     "data": {
      "image/png": "[encoded data removed]",
      "text/plain": [
       "<Figure size 640x480 with 1 Axes>"
      ]
     },
     "metadata": {},
     "output_type": "display_data"
    }
   ],
   "source": [
    "class_distribution = train_df['label'].value_counts()\n",
    "class_distribution.plot(kind='bar', rot=0, color='skyblue')\n",
    "\n",
    "# Add labels and title\n",
    "plt.xlabel('Class')\n",
    "plt.ylabel('Count')\n",
    "plt.title('Distribution of Classes')\n",
    "\n",
    "plt.show()"
   ]
  },
  {
   "cell_type": "code",
   "execution_count": 12,
   "id": "619ac732",
   "metadata": {
    "execution": {
     "iopub.execute_input": "2024-06-30T04:32:50.228394Z",
     "iopub.status.busy": "2024-06-30T04:32:50.227819Z",
     "iopub.status.idle": "2024-06-30T04:32:51.198956Z",
     "shell.execute_reply": "2024-06-30T04:32:51.198170Z"
    },
    "papermill": {
     "duration": 0.998699,
     "end_time": "2024-06-30T04:32:51.201347",
     "exception": false,
     "start_time": "2024-06-30T04:32:50.202648",
     "status": "completed"
    },
    "tags": []
   },
   "outputs": [],
   "source": [
    "def count_tokens(text):\n",
    "    count = word_tokenize(text)\n",
    "    return len(count)\n",
    "\n",
    "train_df['num_tokens'] = train_df['text'].apply(count_tokens)"
   ]
  },
  {
   "cell_type": "code",
   "execution_count": 13,
   "id": "c2d10aaa",
   "metadata": {
    "execution": {
     "iopub.execute_input": "2024-06-30T04:32:51.251777Z",
     "iopub.status.busy": "2024-06-30T04:32:51.251068Z",
     "iopub.status.idle": "2024-06-30T04:32:51.260272Z",
     "shell.execute_reply": "2024-06-30T04:32:51.259431Z"
    },
    "papermill": {
     "duration": 0.036514,
     "end_time": "2024-06-30T04:32:51.262639",
     "exception": false,
     "start_time": "2024-06-30T04:32:51.226125",
     "status": "completed"
    },
    "tags": []
   },
   "outputs": [
    {
     "data": {
      "text/html": [
       "<div>\n",
       "<style scoped>\n",
       "    .dataframe tbody tr th:only-of-type {\n",
       "        vertical-align: middle;\n",
       "    }\n",
       "\n",
       "    .dataframe tbody tr th {\n",
       "        vertical-align: top;\n",
       "    }\n",
       "\n",
       "    .dataframe thead th {\n",
       "        text-align: right;\n",
       "    }\n",
       "</style>\n",
       "<table border=\"1\" class=\"dataframe\">\n",
       "  <thead>\n",
       "    <tr style=\"text-align: right;\">\n",
       "      <th></th>\n",
       "      <th>text</th>\n",
       "      <th>label</th>\n",
       "      <th>num_tokens</th>\n",
       "    </tr>\n",
       "  </thead>\n",
       "  <tbody>\n",
       "    <tr>\n",
       "      <th>0</th>\n",
       "      <td>گوشي خوبيه(قوي و شکيل و زيبا و بي رقيب)البته ت...</td>\n",
       "      <td>1</td>\n",
       "      <td>19</td>\n",
       "    </tr>\n",
       "    <tr>\n",
       "      <th>1</th>\n",
       "      <td>سلام خيلي خوبه بخرين.</td>\n",
       "      <td>1</td>\n",
       "      <td>5</td>\n",
       "    </tr>\n",
       "    <tr>\n",
       "      <th>2</th>\n",
       "      <td>از جمله قابلیت‌های ارتباطی HTC Desire SV می‌تو...</td>\n",
       "      <td>0</td>\n",
       "      <td>30</td>\n",
       "    </tr>\n",
       "    <tr>\n",
       "      <th>3</th>\n",
       "      <td>نهایتا،  یک دوربین VGA نیز برای انجام مکالمات ...</td>\n",
       "      <td>0</td>\n",
       "      <td>18</td>\n",
       "    </tr>\n",
       "    <tr>\n",
       "      <th>4</th>\n",
       "      <td>من حدوداً ۱ ماهي‌ که مي‌شه اين گوشي رو دارم، ر...</td>\n",
       "      <td>1</td>\n",
       "      <td>91</td>\n",
       "    </tr>\n",
       "  </tbody>\n",
       "</table>\n",
       "</div>"
      ],
      "text/plain": [
       "                                                text  label  num_tokens\n",
       "0  گوشي خوبيه(قوي و شکيل و زيبا و بي رقيب)البته ت...      1          19\n",
       "1                              سلام خيلي خوبه بخرين.      1           5\n",
       "2  از جمله قابلیت‌های ارتباطی HTC Desire SV می‌تو...      0          30\n",
       "3  نهایتا،  یک دوربین VGA نیز برای انجام مکالمات ...      0          18\n",
       "4  من حدوداً ۱ ماهي‌ که مي‌شه اين گوشي رو دارم، ر...      1          91"
      ]
     },
     "execution_count": 13,
     "metadata": {},
     "output_type": "execute_result"
    }
   ],
   "source": [
    "train_df.head()"
   ]
  },
  {
   "cell_type": "code",
   "execution_count": 14,
   "id": "1e238972",
   "metadata": {
    "execution": {
     "iopub.execute_input": "2024-06-30T04:32:51.313539Z",
     "iopub.status.busy": "2024-06-30T04:32:51.312783Z",
     "iopub.status.idle": "2024-06-30T04:32:51.317878Z",
     "shell.execute_reply": "2024-06-30T04:32:51.316973Z"
    },
    "papermill": {
     "duration": 0.032556,
     "end_time": "2024-06-30T04:32:51.320000",
     "exception": false,
     "start_time": "2024-06-30T04:32:51.287444",
     "status": "completed"
    },
    "tags": []
   },
   "outputs": [
    {
     "name": "stdout",
     "output_type": "stream",
     "text": [
      "Total number of tokens in the traininig set before preprocessing: 130150\n"
     ]
    }
   ],
   "source": [
    "total_traininig_tokens  = train_df['num_tokens'].sum()\n",
    "print(f\"Total number of tokens in the traininig set before preprocessing: {total_traininig_tokens}\")"
   ]
  },
  {
   "cell_type": "code",
   "execution_count": 15,
   "id": "2b4beb41",
   "metadata": {
    "execution": {
     "iopub.execute_input": "2024-06-30T04:32:51.370682Z",
     "iopub.status.busy": "2024-06-30T04:32:51.370395Z",
     "iopub.status.idle": "2024-06-30T04:32:53.521750Z",
     "shell.execute_reply": "2024-06-30T04:32:53.520915Z"
    },
    "papermill": {
     "duration": 2.180175,
     "end_time": "2024-06-30T04:32:53.524475",
     "exception": false,
     "start_time": "2024-06-30T04:32:51.344300",
     "status": "completed"
    },
    "tags": []
   },
   "outputs": [],
   "source": [
    "normalizer = Normalizer()\n",
    "stemmer = Stemmer()\n",
    "stop_words = set(stopwords_list())\n",
    "punctuation = set(string.punctuation)\n",
    "\n",
    "def preprocessing(text):\n",
    "    normalized =  normalizer.normalize(text)\n",
    "    tokens = word_tokenize(normalized)\n",
    "\n",
    "    def preprocess_token(token):\n",
    "        try:\n",
    "            lang = detect(token)\n",
    "        except:\n",
    "            lang = 'non-Persian'\n",
    "        \n",
    "        if lang == 'fa':\n",
    "            if token in stop_words or token in punctuation:\n",
    "                return ''\n",
    "            return stemmer.stem(token)\n",
    "        else:\n",
    "            return ''\n",
    "    \n",
    "    preprocessed_tokens = [preprocess_token(token) for token in tokens]\n",
    "    preprocessed_tokens = [token for token in preprocessed_tokens if token]\n",
    "    \n",
    "    \n",
    "    processed_text = ' '.join(preprocessed_tokens)\n",
    "    return processed_text"
   ]
  },
  {
   "cell_type": "code",
   "execution_count": 16,
   "id": "e8848cd5",
   "metadata": {
    "execution": {
     "iopub.execute_input": "2024-06-30T04:32:53.578278Z",
     "iopub.status.busy": "2024-06-30T04:32:53.577336Z",
     "iopub.status.idle": "2024-06-30T04:52:07.565453Z",
     "shell.execute_reply": "2024-06-30T04:52:07.564603Z"
    },
    "papermill": {
     "duration": 1154.017759,
     "end_time": "2024-06-30T04:52:07.568078",
     "exception": false,
     "start_time": "2024-06-30T04:32:53.550319",
     "status": "completed"
    },
    "tags": []
   },
   "outputs": [],
   "source": [
    "train_df['processed_text'] = train_df['text'].apply(preprocessing)\n",
    "test_df['processed_text']  = test_df['text'].apply(preprocessing)"
   ]
  },
  {
   "cell_type": "code",
   "execution_count": 17,
   "id": "d48dc39f",
   "metadata": {
    "execution": {
     "iopub.execute_input": "2024-06-30T04:52:07.620141Z",
     "iopub.status.busy": "2024-06-30T04:52:07.619788Z",
     "iopub.status.idle": "2024-06-30T04:52:07.763249Z",
     "shell.execute_reply": "2024-06-30T04:52:07.762277Z"
    },
    "papermill": {
     "duration": 0.171612,
     "end_time": "2024-06-30T04:52:07.765093",
     "exception": false,
     "start_time": "2024-06-30T04:52:07.593481",
     "status": "completed"
    },
    "tags": []
   },
   "outputs": [
    {
     "name": "stdout",
     "output_type": "stream",
     "text": [
      "Total number of tokens in the training set after preprocessing: 39810\n"
     ]
    }
   ],
   "source": [
    "train_df['processed_num_tokens'] = train_df['processed_text'].apply(count_tokens)\n",
    "total_training_tokens = train_df['processed_num_tokens'].sum()\n",
    "\n",
    "print(f\"Total number of tokens in the training set after preprocessing: {total_training_tokens}\")\n",
    "\n",
    "test_df['processed_num_tokens'] = test_df['processed_text'].apply(count_tokens)"
   ]
  },
  {
   "cell_type": "markdown",
   "id": "f212a0b8",
   "metadata": {
    "papermill": {
     "duration": 0.025832,
     "end_time": "2024-06-30T04:52:13.196994",
     "exception": false,
     "start_time": "2024-06-30T04:52:13.171162",
     "status": "completed"
    },
    "tags": []
   },
   "source": [
    "### Split data"
   ]
  },
  {
   "cell_type": "code",
   "execution_count": 23,
   "id": "1233e317",
   "metadata": {
    "execution": {
     "iopub.execute_input": "2024-06-30T04:52:13.251669Z",
     "iopub.status.busy": "2024-06-30T04:52:13.250853Z",
     "iopub.status.idle": "2024-06-30T04:52:13.261120Z",
     "shell.execute_reply": "2024-06-30T04:52:13.260177Z"
    },
    "papermill": {
     "duration": 0.039313,
     "end_time": "2024-06-30T04:52:13.263023",
     "exception": false,
     "start_time": "2024-06-30T04:52:13.223710",
     "status": "completed"
    },
    "tags": []
   },
   "outputs": [
    {
     "name": "stdout",
     "output_type": "stream",
     "text": [
      "Train data shape: (4448, 5)\n",
      "Validation data shape: (1113, 5)\n"
     ]
    }
   ],
   "source": [
    "train_df, val_df = train_test_split(train_df, test_size=0.2, random_state=313)\n",
    "print(\"Train data shape:\", train_df.shape)\n",
    "print(\"Validation data shape:\", val_df.shape)"
   ]
  },
  {
   "cell_type": "code",
   "execution_count": 24,
   "id": "f9dba83d",
   "metadata": {
    "execution": {
     "iopub.execute_input": "2024-06-30T04:52:13.319956Z",
     "iopub.status.busy": "2024-06-30T04:52:13.319240Z",
     "iopub.status.idle": "2024-06-30T04:52:13.325197Z",
     "shell.execute_reply": "2024-06-30T04:52:13.324501Z"
    },
    "papermill": {
     "duration": 0.035592,
     "end_time": "2024-06-30T04:52:13.327212",
     "exception": false,
     "start_time": "2024-06-30T04:52:13.291620",
     "status": "completed"
    },
    "tags": []
   },
   "outputs": [],
   "source": [
    "train_df = train_df.reset_index(drop=True)\n",
    "val_df = val_df.reset_index(drop=True)"
   ]
  },
  {
   "cell_type": "markdown",
   "id": "1f01281d",
   "metadata": {
    "papermill": {
     "duration": 0.024204,
     "end_time": "2024-06-30T04:52:07.814256",
     "exception": false,
     "start_time": "2024-06-30T04:52:07.790052",
     "status": "completed"
    },
    "tags": []
   },
   "source": [
    "## 2.2. FaBert - without augmentation"
   ]
  },
  {
   "cell_type": "code",
   "execution_count": 18,
   "id": "c30297c1",
   "metadata": {
    "execution": {
     "iopub.execute_input": "2024-06-30T04:52:07.864417Z",
     "iopub.status.busy": "2024-06-30T04:52:07.864055Z",
     "iopub.status.idle": "2024-06-30T04:52:12.895779Z",
     "shell.execute_reply": "2024-06-30T04:52:12.894850Z"
    },
    "papermill": {
     "duration": 5.059374,
     "end_time": "2024-06-30T04:52:12.898055",
     "exception": false,
     "start_time": "2024-06-30T04:52:07.838681",
     "status": "completed"
    },
    "tags": []
   },
   "outputs": [
    {
     "data": {
      "application/vnd.jupyter.widget-view+json": {
       "model_id": "6960424e19d04129aaf1daa310239671",
       "version_major": 2,
       "version_minor": 0
      },
      "text/plain": [
       "tokenizer_config.json:   0%|          | 0.00/18.3k [00:00<?, ?B/s]"
      ]
     },
     "metadata": {},
     "output_type": "display_data"
    },
    {
     "data": {
      "application/vnd.jupyter.widget-view+json": {
       "model_id": "03a27525121b4cf7b051f5c529c4328e",
       "version_major": 2,
       "version_minor": 0
      },
      "text/plain": [
       "vocab.txt:   0%|          | 0.00/552k [00:00<?, ?B/s]"
      ]
     },
     "metadata": {},
     "output_type": "display_data"
    },
    {
     "data": {
      "application/vnd.jupyter.widget-view+json": {
       "model_id": "79a0d578ea244d13ba9b3c74c2001a63",
       "version_major": 2,
       "version_minor": 0
      },
      "text/plain": [
       "tokenizer.json:   0%|          | 0.00/1.36M [00:00<?, ?B/s]"
      ]
     },
     "metadata": {},
     "output_type": "display_data"
    },
    {
     "data": {
      "application/vnd.jupyter.widget-view+json": {
       "model_id": "11d0b86876434979a47001bb04c80bd2",
       "version_major": 2,
       "version_minor": 0
      },
      "text/plain": [
       "special_tokens_map.json:   0%|          | 0.00/125 [00:00<?, ?B/s]"
      ]
     },
     "metadata": {},
     "output_type": "display_data"
    },
    {
     "data": {
      "application/vnd.jupyter.widget-view+json": {
       "model_id": "885c18be3c2f4b27acd45001acfc81fa",
       "version_major": 2,
       "version_minor": 0
      },
      "text/plain": [
       "config.json:   0%|          | 0.00/589 [00:00<?, ?B/s]"
      ]
     },
     "metadata": {},
     "output_type": "display_data"
    },
    {
     "data": {
      "application/vnd.jupyter.widget-view+json": {
       "model_id": "8a1d26c8faf941bfa149039f0d106844",
       "version_major": 2,
       "version_minor": 0
      },
      "text/plain": [
       "model.safetensors:   0%|          | 0.00/498M [00:00<?, ?B/s]"
      ]
     },
     "metadata": {},
     "output_type": "display_data"
    },
    {
     "name": "stderr",
     "output_type": "stream",
     "text": [
      "Some weights of BertForSequenceClassification were not initialized from the model checkpoint at sbunlp/fabert and are newly initialized: ['bert.pooler.dense.bias', 'bert.pooler.dense.weight', 'classifier.bias', 'classifier.weight']\n",
      "You should probably TRAIN this model on a down-stream task to be able to use it for predictions and inference.\n"
     ]
    },
    {
     "name": "stdout",
     "output_type": "stream",
     "text": [
      "BertForSequenceClassification(\n",
      "  (bert): BertModel(\n",
      "    (embeddings): BertEmbeddings(\n",
      "      (word_embeddings): Embedding(50000, 768, padding_idx=0)\n",
      "      (position_embeddings): Embedding(512, 768)\n",
      "      (token_type_embeddings): Embedding(2, 768)\n",
      "      (LayerNorm): LayerNorm((768,), eps=1e-12, elementwise_affine=True)\n",
      "      (dropout): Dropout(p=0.1, inplace=False)\n",
      "    )\n",
      "    (encoder): BertEncoder(\n",
      "      (layer): ModuleList(\n",
      "        (0-11): 12 x BertLayer(\n",
      "          (attention): BertAttention(\n",
      "            (self): BertSdpaSelfAttention(\n",
      "              (query): Linear(in_features=768, out_features=768, bias=True)\n",
      "              (key): Linear(in_features=768, out_features=768, bias=True)\n",
      "              (value): Linear(in_features=768, out_features=768, bias=True)\n",
      "              (dropout): Dropout(p=0.1, inplace=False)\n",
      "            )\n",
      "            (output): BertSelfOutput(\n",
      "              (dense): Linear(in_features=768, out_features=768, bias=True)\n",
      "              (LayerNorm): LayerNorm((768,), eps=1e-12, elementwise_affine=True)\n",
      "              (dropout): Dropout(p=0.1, inplace=False)\n",
      "            )\n",
      "          )\n",
      "          (intermediate): BertIntermediate(\n",
      "            (dense): Linear(in_features=768, out_features=3072, bias=True)\n",
      "            (intermediate_act_fn): GELUActivation()\n",
      "          )\n",
      "          (output): BertOutput(\n",
      "            (dense): Linear(in_features=3072, out_features=768, bias=True)\n",
      "            (LayerNorm): LayerNorm((768,), eps=1e-12, elementwise_affine=True)\n",
      "            (dropout): Dropout(p=0.1, inplace=False)\n",
      "          )\n",
      "        )\n",
      "      )\n",
      "    )\n",
      "    (pooler): BertPooler(\n",
      "      (dense): Linear(in_features=768, out_features=768, bias=True)\n",
      "      (activation): Tanh()\n",
      "    )\n",
      "  )\n",
      "  (dropout): Dropout(p=0.1, inplace=False)\n",
      "  (classifier): Linear(in_features=768, out_features=3, bias=True)\n",
      ")\n"
     ]
    }
   ],
   "source": [
    "tokenizer = AutoTokenizer.from_pretrained(\"sbunlp/fabert\")\n",
    "device = torch.device('cuda' if torch.cuda.is_available() else 'cpu')\n",
    "model = AutoModelForSequenceClassification.from_pretrained(\"sbunlp/fabert\", num_labels=3)\n",
    "model = model.to(device)\n",
    "print(model)"
   ]
  },
  {
   "cell_type": "code",
   "execution_count": 19,
   "id": "8c0ba1d6",
   "metadata": {
    "execution": {
     "iopub.execute_input": "2024-06-30T04:52:12.953563Z",
     "iopub.status.busy": "2024-06-30T04:52:12.952958Z",
     "iopub.status.idle": "2024-06-30T04:52:12.959196Z",
     "shell.execute_reply": "2024-06-30T04:52:12.958309Z"
    },
    "papermill": {
     "duration": 0.03676,
     "end_time": "2024-06-30T04:52:12.961636",
     "exception": false,
     "start_time": "2024-06-30T04:52:12.924876",
     "status": "completed"
    },
    "tags": []
   },
   "outputs": [
    {
     "name": "stdout",
     "output_type": "stream",
     "text": [
      "Number of trainable parameters before unfreezing: 124443651\n"
     ]
    }
   ],
   "source": [
    "num_trainable_params = sum(p.numel() for p in model.parameters() if p.requires_grad)\n",
    "\n",
    "print(f\"Number of trainable parameters before unfreezing: {num_trainable_params}\")"
   ]
  },
  {
   "cell_type": "code",
   "execution_count": 20,
   "id": "a94c8cee",
   "metadata": {
    "execution": {
     "iopub.execute_input": "2024-06-30T04:52:13.015373Z",
     "iopub.status.busy": "2024-06-30T04:52:13.015059Z",
     "iopub.status.idle": "2024-06-30T04:52:13.020901Z",
     "shell.execute_reply": "2024-06-30T04:52:13.020194Z"
    },
    "papermill": {
     "duration": 0.034666,
     "end_time": "2024-06-30T04:52:13.022719",
     "exception": false,
     "start_time": "2024-06-30T04:52:12.988053",
     "status": "completed"
    },
    "tags": []
   },
   "outputs": [],
   "source": [
    "for param in model.parameters():\n",
    "    param.requires_grad = False\n",
    "    \n",
    "for param in model.classifier.parameters():\n",
    "    param.requires_grad = True"
   ]
  },
  {
   "cell_type": "code",
   "execution_count": 21,
   "id": "dce6a80e",
   "metadata": {
    "execution": {
     "iopub.execute_input": "2024-06-30T04:52:13.075487Z",
     "iopub.status.busy": "2024-06-30T04:52:13.075185Z",
     "iopub.status.idle": "2024-06-30T04:52:13.081087Z",
     "shell.execute_reply": "2024-06-30T04:52:13.080281Z"
    },
    "papermill": {
     "duration": 0.034872,
     "end_time": "2024-06-30T04:52:13.083188",
     "exception": false,
     "start_time": "2024-06-30T04:52:13.048316",
     "status": "completed"
    },
    "tags": []
   },
   "outputs": [
    {
     "name": "stdout",
     "output_type": "stream",
     "text": [
      "Number of trainable parameters after unfreezing the classifier: 2307\n"
     ]
    }
   ],
   "source": [
    "num_trainable_params = sum(p.numel() for p in model.parameters() if p.requires_grad)\n",
    "\n",
    "print(f\"Number of trainable parameters after unfreezing the classifier: {num_trainable_params}\")"
   ]
  },
  {
   "cell_type": "code",
   "execution_count": 22,
   "id": "4519bd02",
   "metadata": {
    "execution": {
     "iopub.execute_input": "2024-06-30T04:52:13.136646Z",
     "iopub.status.busy": "2024-06-30T04:52:13.136344Z",
     "iopub.status.idle": "2024-06-30T04:52:13.143153Z",
     "shell.execute_reply": "2024-06-30T04:52:13.142270Z"
    },
    "papermill": {
     "duration": 0.035777,
     "end_time": "2024-06-30T04:52:13.144978",
     "exception": false,
     "start_time": "2024-06-30T04:52:13.109201",
     "status": "completed"
    },
    "tags": []
   },
   "outputs": [
    {
     "name": "stdout",
     "output_type": "stream",
     "text": [
      "Number of trainable parameters after unfreezing classifier and tha lask block: 7090179\n"
     ]
    }
   ],
   "source": [
    "for param in model.bert.encoder.layer[-1].parameters():\n",
    "    param.requires_grad = True\n",
    "\n",
    "num_trainable_params = sum(p.numel() for p in model.parameters() if p.requires_grad)\n",
    "\n",
    "print(f\"Number of trainable parameters after unfreezing classifier and tha lask block: {num_trainable_params}\")"
   ]
  },
  {
   "cell_type": "code",
   "execution_count": 25,
   "id": "14832447",
   "metadata": {
    "execution": {
     "iopub.execute_input": "2024-06-30T04:52:13.382192Z",
     "iopub.status.busy": "2024-06-30T04:52:13.381910Z",
     "iopub.status.idle": "2024-06-30T04:52:13.387532Z",
     "shell.execute_reply": "2024-06-30T04:52:13.386690Z"
    },
    "papermill": {
     "duration": 0.034737,
     "end_time": "2024-06-30T04:52:13.389480",
     "exception": false,
     "start_time": "2024-06-30T04:52:13.354743",
     "status": "completed"
    },
    "tags": []
   },
   "outputs": [],
   "source": [
    "optimizer = torch.optim.AdamW(model.parameters(), lr=1e-5)"
   ]
  },
  {
   "cell_type": "code",
   "execution_count": 26,
   "id": "1aa04c51",
   "metadata": {
    "execution": {
     "iopub.execute_input": "2024-06-30T04:52:13.442816Z",
     "iopub.status.busy": "2024-06-30T04:52:13.442546Z",
     "iopub.status.idle": "2024-06-30T04:52:13.451085Z",
     "shell.execute_reply": "2024-06-30T04:52:13.450285Z"
    },
    "papermill": {
     "duration": 0.037515,
     "end_time": "2024-06-30T04:52:13.452903",
     "exception": false,
     "start_time": "2024-06-30T04:52:13.415388",
     "status": "completed"
    },
    "tags": []
   },
   "outputs": [],
   "source": [
    "class TextDataset(Dataset):\n",
    "    def __init__(self, texts, labels, tokenizer, max_length):\n",
    "        self.texts = texts\n",
    "        self.labels = labels\n",
    "        self.tokenizer = tokenizer\n",
    "        self.max_length = max_length\n",
    "    \n",
    "    def __len__(self):\n",
    "        return len(self.texts)\n",
    "    \n",
    "    def __getitem__(self, index):\n",
    "        text = self.texts[index]\n",
    "        label = self.labels[index]\n",
    "        \n",
    "        label = int(label)\n",
    "        label = torch.tensor(label, dtype=torch.long)\n",
    "        \n",
    "        encoding = self.tokenizer.encode_plus(\n",
    "            text,\n",
    "            add_special_tokens=True,\n",
    "            max_length=self.max_length,\n",
    "            padding='max_length',\n",
    "            truncation=True,\n",
    "            return_tensors='pt'\n",
    "        )\n",
    "        \n",
    "        return {\n",
    "            'input_ids': encoding['input_ids'].flatten(),\n",
    "            'attention_mask': encoding['attention_mask'].flatten(),\n",
    "            'labels': label\n",
    "        }"
   ]
  },
  {
   "cell_type": "code",
   "execution_count": 27,
   "id": "6b3eb907",
   "metadata": {
    "execution": {
     "iopub.execute_input": "2024-06-30T04:52:13.506868Z",
     "iopub.status.busy": "2024-06-30T04:52:13.506325Z",
     "iopub.status.idle": "2024-06-30T04:52:13.512056Z",
     "shell.execute_reply": "2024-06-30T04:52:13.510977Z"
    },
    "papermill": {
     "duration": 0.034889,
     "end_time": "2024-06-30T04:52:13.513994",
     "exception": false,
     "start_time": "2024-06-30T04:52:13.479105",
     "status": "completed"
    },
    "tags": []
   },
   "outputs": [
    {
     "name": "stdout",
     "output_type": "stream",
     "text": [
      "Mean comment length: 7.226393884892087\n"
     ]
    }
   ],
   "source": [
    "print(f\"Mean comment length: {train_df['processed_num_tokens'].mean()}\")"
   ]
  },
  {
   "cell_type": "code",
   "execution_count": 28,
   "id": "9c81711d",
   "metadata": {
    "execution": {
     "iopub.execute_input": "2024-06-30T04:52:13.568852Z",
     "iopub.status.busy": "2024-06-30T04:52:13.568036Z",
     "iopub.status.idle": "2024-06-30T04:52:13.572421Z",
     "shell.execute_reply": "2024-06-30T04:52:13.571519Z"
    },
    "papermill": {
     "duration": 0.033919,
     "end_time": "2024-06-30T04:52:13.574281",
     "exception": false,
     "start_time": "2024-06-30T04:52:13.540362",
     "status": "completed"
    },
    "tags": []
   },
   "outputs": [],
   "source": [
    "max_length = 20\n",
    "batch_size = 16\n",
    "num_epochs = 5"
   ]
  },
  {
   "cell_type": "code",
   "execution_count": 29,
   "id": "62c94ebb",
   "metadata": {
    "execution": {
     "iopub.execute_input": "2024-06-30T04:52:13.627999Z",
     "iopub.status.busy": "2024-06-30T04:52:13.627714Z",
     "iopub.status.idle": "2024-06-30T04:52:13.634951Z",
     "shell.execute_reply": "2024-06-30T04:52:13.634276Z"
    },
    "papermill": {
     "duration": 0.036048,
     "end_time": "2024-06-30T04:52:13.636773",
     "exception": false,
     "start_time": "2024-06-30T04:52:13.600725",
     "status": "completed"
    },
    "tags": []
   },
   "outputs": [],
   "source": [
    "model = model.to(device)"
   ]
  },
  {
   "cell_type": "code",
   "execution_count": 30,
   "id": "098e8844",
   "metadata": {
    "execution": {
     "iopub.execute_input": "2024-06-30T04:52:13.691330Z",
     "iopub.status.busy": "2024-06-30T04:52:13.691012Z",
     "iopub.status.idle": "2024-06-30T04:52:13.698900Z",
     "shell.execute_reply": "2024-06-30T04:52:13.698135Z"
    },
    "papermill": {
     "duration": 0.037526,
     "end_time": "2024-06-30T04:52:13.700965",
     "exception": false,
     "start_time": "2024-06-30T04:52:13.663439",
     "status": "completed"
    },
    "tags": []
   },
   "outputs": [],
   "source": [
    "mapping = {-1: 0, 0: 1, 1: 2}\n",
    "\n",
    "train_df['label'] = train_df['label'].map(mapping)\n",
    "val_df['label']   = val_df['label'].map(mapping)\n",
    "test_df['label']  = test_df['label'].map(mapping)"
   ]
  },
  {
   "cell_type": "code",
   "execution_count": 31,
   "id": "b79e8238",
   "metadata": {
    "execution": {
     "iopub.execute_input": "2024-06-30T04:52:13.756530Z",
     "iopub.status.busy": "2024-06-30T04:52:13.755966Z",
     "iopub.status.idle": "2024-06-30T04:52:13.762200Z",
     "shell.execute_reply": "2024-06-30T04:52:13.761376Z"
    },
    "papermill": {
     "duration": 0.034764,
     "end_time": "2024-06-30T04:52:13.764103",
     "exception": false,
     "start_time": "2024-06-30T04:52:13.729339",
     "status": "completed"
    },
    "tags": []
   },
   "outputs": [],
   "source": [
    "train_dataset = TextDataset(train_df['processed_text'], train_df['label'], tokenizer, max_length)\n",
    "val_dataset   = TextDataset(val_df['processed_text'], val_df['label'], tokenizer, max_length)\n",
    "test_dataset  = TextDataset(test_df['processed_text'], test_df['label'], tokenizer, max_length)\n",
    "\n",
    "train_dataloader = DataLoader(train_dataset, batch_size=batch_size, shuffle=True)\n",
    "val_dataloader   = DataLoader(val_dataset, batch_size=batch_size)\n",
    "test_dataloader  = DataLoader(test_dataset, batch_size=batch_size)"
   ]
  },
  {
   "cell_type": "code",
   "execution_count": 32,
   "id": "9eafd628",
   "metadata": {
    "execution": {
     "iopub.execute_input": "2024-06-30T04:52:13.818597Z",
     "iopub.status.busy": "2024-06-30T04:52:13.818273Z",
     "iopub.status.idle": "2024-06-30T04:52:54.962351Z",
     "shell.execute_reply": "2024-06-30T04:52:54.961383Z"
    },
    "papermill": {
     "duration": 41.1738,
     "end_time": "2024-06-30T04:52:54.964501",
     "exception": false,
     "start_time": "2024-06-30T04:52:13.790701",
     "status": "completed"
    },
    "tags": []
   },
   "outputs": [
    {
     "name": "stdout",
     "output_type": "stream",
     "text": [
      "Epoch 1/5, Train Loss: 1.015805179266621, Train Accuracy: 0.4748201438848921\n",
      "Epoch 1/5, Validation Loss: 0.9480691773550851, Validation Accuracy: 0.4531746031982558\n",
      "Epoch 2/5, Train Loss: 0.9301298387187849, Train Accuracy: 0.5143884892086331\n",
      "Epoch 2/5, Validation Loss: 0.930761843919754, Validation Accuracy: 0.5235119049038206\n",
      "Epoch 3/5, Train Loss: 0.9012430438892447, Train Accuracy: 0.5512589928057554\n",
      "Epoch 3/5, Validation Loss: 0.9183902731963567, Validation Accuracy: 0.5449404763323921\n",
      "Epoch 4/5, Train Loss: 0.873181156760497, Train Accuracy: 0.5701438848920863\n",
      "Epoch 4/5, Validation Loss: 0.8985955893993378, Validation Accuracy: 0.5768849206822259\n",
      "Epoch 5/5, Train Loss: 0.8420016060201384, Train Accuracy: 0.5950989208633094\n",
      "Epoch 5/5, Validation Loss: 0.8840935604912894, Validation Accuracy: 0.5813492063965117\n"
     ]
    }
   ],
   "source": [
    "def calculate_accuracy(preds, labels):\n",
    "    rounded_preds = torch.argmax(preds, dim=1)\n",
    "    \n",
    "    correct = (rounded_preds == labels).float()\n",
    "    accuracy = correct.sum() / len(correct)\n",
    "    \n",
    "    return accuracy\n",
    "\n",
    "train_losses1 = []\n",
    "train_accuracies1 = []\n",
    "val_losses1 = []\n",
    "val_accuracies1 = []\n",
    "\n",
    "def evaluate_model(model, dataloader, device):\n",
    "    model.eval()\n",
    "    losses = []\n",
    "    accuracies = []\n",
    "    for batch in dataloader:\n",
    "        with torch.no_grad():\n",
    "            input_ids = batch['input_ids'].to(device)\n",
    "            attention_mask = batch['attention_mask'].to(device)\n",
    "            labels = batch['labels'].to(device)\n",
    "\n",
    "            # Forward pass\n",
    "            outputs = model(input_ids=input_ids, attention_mask=attention_mask, labels=labels)\n",
    "            loss = outputs.loss\n",
    "            logits = outputs.logits\n",
    "\n",
    "            # Accumulate loss\n",
    "            losses.append(loss.item())\n",
    "\n",
    "            # Calculate accuracy\n",
    "            batch_accuracy = calculate_accuracy(logits, labels)\n",
    "            accuracies.append(batch_accuracy.item())\n",
    "\n",
    "    avg_loss = np.mean(losses)\n",
    "    avg_accuracy = np.mean(accuracies)\n",
    "\n",
    "    return avg_loss, avg_accuracy\n",
    "\n",
    "\n",
    "model.train()\n",
    "for epoch in range(num_epochs):\n",
    "    epoch_train_loss = 0.0\n",
    "    epoch_train_accuracy = 0.0\n",
    "\n",
    "    # Training loop\n",
    "    for i, batch in enumerate(train_dataloader):\n",
    "        optimizer.zero_grad()\n",
    "\n",
    "        # Move tensors to the device explicitly\n",
    "        input_ids = batch['input_ids'].to(device)\n",
    "        attention_mask = batch['attention_mask'].to(device)\n",
    "        labels = batch['labels'].to(device)\n",
    "\n",
    "        # Forward pass\n",
    "        outputs = model(input_ids=input_ids, attention_mask=attention_mask, labels=labels)\n",
    "        loss = outputs.loss\n",
    "\n",
    "        # Backward pass\n",
    "        loss.backward()\n",
    "        optimizer.step()\n",
    "\n",
    "        # Accumulate training loss and accuracy\n",
    "        epoch_train_loss += loss.item()\n",
    "        logits = outputs.logits\n",
    "        batch_accuracy = calculate_accuracy(logits, labels)\n",
    "        epoch_train_accuracy += batch_accuracy.item()\n",
    "\n",
    "    epoch_train_loss /= len(train_dataloader)\n",
    "    epoch_train_accuracy /= len(train_dataloader)\n",
    "    train_losses1.append(epoch_train_loss)\n",
    "    train_accuracies1.append(epoch_train_accuracy)\n",
    "\n",
    "    print(f\"Epoch {epoch+1}/{num_epochs}, Train Loss: {epoch_train_loss}, Train Accuracy: {epoch_train_accuracy}\")\n",
    "\n",
    "    # Evaluation on validation set\n",
    "    epoch_val_loss, epoch_val_accuracy = evaluate_model(model, val_dataloader, device)\n",
    "    val_losses1.append(epoch_val_loss)\n",
    "    val_accuracies1.append(epoch_val_accuracy)\n",
    "\n",
    "    print(f\"Epoch {epoch+1}/{num_epochs}, Validation Loss: {epoch_val_loss}, Validation Accuracy: {epoch_val_accuracy}\")"
   ]
  },
  {
   "cell_type": "code",
   "execution_count": 33,
   "id": "5b1c5280",
   "metadata": {
    "execution": {
     "iopub.execute_input": "2024-06-30T04:52:55.021683Z",
     "iopub.status.busy": "2024-06-30T04:52:55.021338Z",
     "iopub.status.idle": "2024-06-30T04:52:55.762445Z",
     "shell.execute_reply": "2024-06-30T04:52:55.761501Z"
    },
    "papermill": {
     "duration": 0.772771,
     "end_time": "2024-06-30T04:52:55.765106",
     "exception": false,
     "start_time": "2024-06-30T04:52:54.992335",
     "status": "completed"
    },
    "tags": []
   },
   "outputs": [
    {
     "data": {
      "image/png": "[encoded data removed]",
      "text/plain": [
       "<Figure size 1400x1000 with 2 Axes>"
      ]
     },
     "metadata": {},
     "output_type": "display_data"
    }
   ],
   "source": [
    "plt.figure(figsize=(14, 10))\n",
    "plt.subplot(2, 1, 1) \n",
    "epochs = range(1, num_epochs + 1)\n",
    "plt.plot(epochs, train_accuracies1, label='Train Accuracy')\n",
    "plt.plot(epochs, val_accuracies1, label='Validation Accuracy')\n",
    "plt.title('Training and Validation Accuracy')\n",
    "plt.xlabel('Epoch')\n",
    "plt.ylabel('Accuracy')\n",
    "plt.legend()\n",
    "\n",
    "plt.subplot(2, 1, 2)\n",
    "plt.plot(epochs, train_losses1, label='Train Loss')\n",
    "plt.plot(epochs, val_losses1, label='Validation Loss')\n",
    "plt.title('Training and Validation Loss')\n",
    "plt.xlabel('Epoch')\n",
    "plt.ylabel('Loss')\n",
    "plt.legend()\n",
    "plt.tight_layout()\n",
    "plt.show()"
   ]
  },
  {
   "cell_type": "code",
   "execution_count": 34,
   "id": "ae03640f",
   "metadata": {
    "execution": {
     "iopub.execute_input": "2024-06-30T04:52:55.824131Z",
     "iopub.status.busy": "2024-06-30T04:52:55.823827Z",
     "iopub.status.idle": "2024-06-30T04:52:55.832334Z",
     "shell.execute_reply": "2024-06-30T04:52:55.831540Z"
    },
    "papermill": {
     "duration": 0.039979,
     "end_time": "2024-06-30T04:52:55.834195",
     "exception": false,
     "start_time": "2024-06-30T04:52:55.794216",
     "status": "completed"
    },
    "tags": []
   },
   "outputs": [],
   "source": [
    "def evaluate_model_on_test(model, dataloader, device):\n",
    "    model.eval()\n",
    "    losses = []\n",
    "    accuracies = []\n",
    "    all_labels = []\n",
    "    all_predictions = []\n",
    "    \n",
    "    for batch in dataloader:\n",
    "        with torch.no_grad():\n",
    "            input_ids = batch['input_ids'].to(device)\n",
    "            attention_mask = batch['attention_mask'].to(device)\n",
    "            labels = batch['labels'].to(device)\n",
    "\n",
    "            # Forward pass\n",
    "            outputs = model(input_ids=input_ids, attention_mask=attention_mask, labels=labels)\n",
    "            loss = outputs.loss\n",
    "            logits = outputs.logits\n",
    "\n",
    "            # Accumulate loss\n",
    "            losses.append(loss.item())\n",
    "\n",
    "            # Calculate accuracy\n",
    "            batch_accuracy = calculate_accuracy(logits, labels)\n",
    "            accuracies.append(batch_accuracy.item())\n",
    "\n",
    "            # Store labels and predictions for confusion matrix\n",
    "            all_labels.extend(labels.cpu().numpy())\n",
    "            all_predictions.extend(torch.argmax(logits, axis=1).cpu().numpy())\n",
    "\n",
    "    avg_loss = np.mean(losses)\n",
    "    avg_accuracy = np.mean(accuracies)\n",
    "\n",
    "    return avg_loss, avg_accuracy, all_labels, all_predictions"
   ]
  },
  {
   "cell_type": "code",
   "execution_count": 35,
   "id": "19b35e70",
   "metadata": {
    "execution": {
     "iopub.execute_input": "2024-06-30T04:52:55.891282Z",
     "iopub.status.busy": "2024-06-30T04:52:55.890979Z",
     "iopub.status.idle": "2024-06-30T04:52:58.236347Z",
     "shell.execute_reply": "2024-06-30T04:52:58.235280Z"
    },
    "papermill": {
     "duration": 2.376512,
     "end_time": "2024-06-30T04:52:58.238546",
     "exception": false,
     "start_time": "2024-06-30T04:52:55.862034",
     "status": "completed"
    },
    "tags": []
   },
   "outputs": [
    {
     "name": "stdout",
     "output_type": "stream",
     "text": [
      "Test Loss: 0.8833867090529409, Test Accuracy: 0.59013238960299\n"
     ]
    }
   ],
   "source": [
    "test_loss1, test_accuracy1, true_labels1, predicted_labels1 = evaluate_model_on_test(model, test_dataloader, device)\n",
    "\n",
    "print(f\"Test Loss: {test_loss1}, Test Accuracy: {test_accuracy1}\")"
   ]
  },
  {
   "cell_type": "code",
   "execution_count": 36,
   "id": "cfb5b8f5",
   "metadata": {
    "execution": {
     "iopub.execute_input": "2024-06-30T04:52:58.296929Z",
     "iopub.status.busy": "2024-06-30T04:52:58.296618Z",
     "iopub.status.idle": "2024-06-30T04:52:58.303541Z",
     "shell.execute_reply": "2024-06-30T04:52:58.302663Z"
    },
    "papermill": {
     "duration": 0.038256,
     "end_time": "2024-06-30T04:52:58.305659",
     "exception": false,
     "start_time": "2024-06-30T04:52:58.267403",
     "status": "completed"
    },
    "tags": []
   },
   "outputs": [
    {
     "name": "stdout",
     "output_type": "stream",
     "text": [
      "\n",
      "Some incorrectly predicted samples:\n",
      "True Label: 0, Predicted Label: 2\n",
      "Text: چیزا نمیتونه باشه\n",
      "\n",
      "True Label: 2, Predicted Label: 1\n",
      "Text: موارد نامیده دستگاه هواو شرایط فراه نموده_اس آن خواهد_نمود\n",
      "\n",
      "True Label: 2, Predicted Label: 1\n",
      "Text: می‌دان گوش ۶ پشتیبان سیس رییس شرک سامسونگ معرف نو ۲ دربار دست‌نیافتن ارزو دار روز گوشی سامسونگ استفاده\n",
      "\n",
      "True Label: 1, Predicted Label: 2\n",
      "Text: دوربین نمایشگر ۳ اینچ قرار رزولوشن ۲۳۰۰۰۰ نقطه ارائه\n",
      "\n",
      "True Label: 1, Predicted Label: 2\n",
      "Text: اجرا باز گرافیک داشته_باش\n",
      "\n"
     ]
    }
   ],
   "source": [
    "true_labels1 = np.array(true_labels1)\n",
    "predicted_labels1 = np.array(predicted_labels1)\n",
    "\n",
    "# Find indices where predictions do not match true labels\n",
    "incorrect_indices1 = np.where(true_labels1 != predicted_labels1)[0]\n",
    "\n",
    "# Print some of the incorrectly predicted samples\n",
    "num_samples = 5 \n",
    "print(\"\\nSome incorrectly predicted samples:\")\n",
    "for idx in incorrect_indices1[:num_samples]:\n",
    "    print(f\"True Label: {true_labels1[idx]}, Predicted Label: {predicted_labels1[idx]}\")\n",
    "    print(f\"Text: {test_df['processed_text'].iloc[idx]}\")\n",
    "    print(\"\")"
   ]
  },
  {
   "cell_type": "code",
   "execution_count": 37,
   "id": "b349ef14",
   "metadata": {
    "execution": {
     "iopub.execute_input": "2024-06-30T04:52:58.364716Z",
     "iopub.status.busy": "2024-06-30T04:52:58.364442Z",
     "iopub.status.idle": "2024-06-30T04:52:58.579113Z",
     "shell.execute_reply": "2024-06-30T04:52:58.578194Z"
    },
    "papermill": {
     "duration": 0.246471,
     "end_time": "2024-06-30T04:52:58.581118",
     "exception": false,
     "start_time": "2024-06-30T04:52:58.334647",
     "status": "completed"
    },
    "tags": []
   },
   "outputs": [
    {
     "data": {
      "image/png": "[encoded data removed]",
      "text/plain": [
       "<Figure size 800x600 with 1 Axes>"
      ]
     },
     "metadata": {},
     "output_type": "display_data"
    }
   ],
   "source": [
    "cm = confusion_matrix(true_labels1, predicted_labels1)\n",
    "\n",
    "plt.figure(figsize=(8, 6))\n",
    "sns.heatmap(cm, annot=True, fmt='d', cmap='Blues', cbar=False)\n",
    "plt.title('Confusion Matrix')\n",
    "plt.xlabel('Predicted Labels')\n",
    "plt.ylabel('True Labels')\n",
    "plt.show()"
   ]
  },
  {
   "cell_type": "code",
   "execution_count": 38,
   "id": "90591257",
   "metadata": {
    "execution": {
     "iopub.execute_input": "2024-06-30T04:52:58.642514Z",
     "iopub.status.busy": "2024-06-30T04:52:58.642149Z",
     "iopub.status.idle": "2024-06-30T04:52:58.650167Z",
     "shell.execute_reply": "2024-06-30T04:52:58.649191Z"
    },
    "papermill": {
     "duration": 0.040664,
     "end_time": "2024-06-30T04:52:58.652319",
     "exception": false,
     "start_time": "2024-06-30T04:52:58.611655",
     "status": "completed"
    },
    "tags": []
   },
   "outputs": [
    {
     "name": "stdout",
     "output_type": "stream",
     "text": [
      "Weighted F1 Score: 0.5572521612387006\n"
     ]
    }
   ],
   "source": [
    "f1_1 = f1_score(true_labels1, predicted_labels1, average='weighted')\n",
    "\n",
    "print(f\"Weighted F1 Score: {f1_1}\")"
   ]
  },
  {
   "cell_type": "markdown",
   "id": "90d39b9c",
   "metadata": {
    "papermill": {
     "duration": 0.028691,
     "end_time": "2024-06-30T04:52:58.710746",
     "exception": false,
     "start_time": "2024-06-30T04:52:58.682055",
     "status": "completed"
    },
    "tags": []
   },
   "source": [
    "## FaBert - augmented (using back translation)"
   ]
  },
  {
   "cell_type": "code",
   "execution_count": 39,
   "id": "536e489c",
   "metadata": {
    "execution": {
     "iopub.execute_input": "2024-06-30T04:52:58.769912Z",
     "iopub.status.busy": "2024-06-30T04:52:58.769137Z",
     "iopub.status.idle": "2024-06-30T06:18:03.317845Z",
     "shell.execute_reply": "2024-06-30T06:18:03.316913Z"
    },
    "papermill": {
     "duration": 5104.581146,
     "end_time": "2024-06-30T06:18:03.320366",
     "exception": false,
     "start_time": "2024-06-30T04:52:58.739220",
     "status": "completed"
    },
    "tags": []
   },
   "outputs": [],
   "source": [
    "translator = Translator()\n",
    "\n",
    "def back_translate(text, src_lang='fa', interim_lang='en'):\n",
    "    if text:\n",
    "        try:\n",
    "            translated = translator.translate(text, src=src_lang, dest=interim_lang).text\n",
    "            time.sleep(1)\n",
    "            back_translated = translator.translate(translated, src=interim_lang, dest=src_lang).text\n",
    "            return back_translated\n",
    "        except Exception as e:\n",
    "            print(f\"Translation error: {e}\")\n",
    "            return text\n",
    "    else:\n",
    "        return ''\n",
    "\n",
    "train_df['back_translated'] = train_df['processed_text'].apply(lambda x: back_translate(x, src_lang='fa', interim_lang='en'))"
   ]
  },
  {
   "cell_type": "code",
   "execution_count": 40,
   "id": "61092a0d",
   "metadata": {
    "execution": {
     "iopub.execute_input": "2024-06-30T06:18:03.381376Z",
     "iopub.status.busy": "2024-06-30T06:18:03.381035Z",
     "iopub.status.idle": "2024-06-30T06:18:03.391422Z",
     "shell.execute_reply": "2024-06-30T06:18:03.390377Z"
    },
    "papermill": {
     "duration": 0.042895,
     "end_time": "2024-06-30T06:18:03.393482",
     "exception": false,
     "start_time": "2024-06-30T06:18:03.350587",
     "status": "completed"
    },
    "tags": []
   },
   "outputs": [
    {
     "name": "stdout",
     "output_type": "stream",
     "text": [
      "                                         processed_text  \\\n",
      "3593               نکته درسته گوش گوشی تره ب بازده داره   \n",
      "3931                 دست‌ک باند تاریک روشن دیده_نمی‌شود   \n",
      "3992            براحت دس میشه درصد افتادن تبلت دیگه هست   \n",
      "3853  ۳ -پردازنده مرکز پردازنده مرکز کنسول ۳۶۰ نا رس...   \n",
      "3248                     صفحه نما گوش صفحه نما ۴ ۳ اینچ   \n",
      "2168  صد صد گوش آیفون نمی‌تواند اجازه معرف اس پنج نم...   \n",
      "2                                           اهم گوش فرو   \n",
      "3201  واید ۱۸ میلی ۲ ۰ نرمال ۳۵ میلی‌متر ۱ ۴ ۶۰ میلی...   \n",
      "668                               چین دکمه کنترل دوربین   \n",
      "800                                                بگذر   \n",
      "\n",
      "                                        back_translated  \n",
      "3593              نکته درست این است که هدفون موثرتر است  \n",
      "3931                    اما نوار تاریک قابل مشاهده نیست  \n",
      "3992  لمس آن آسان است، درصد ریزش تبلت دیگری نیز وجود...  \n",
      "3853  3- پردازنده مرکزی توسط مایکروسافت به طور غیر ر...  \n",
      "3248                           صفحه نمایش گوشی 4 3 اینچ  \n",
      "2168  صد آیفون به نماینده اس 5 اجازه نمی دهد، اجازه ...  \n",
      "2                                            اوم در گوش  \n",
      "3201  عرض 18 میلی متر 2 0 معمولی 35 میلی متر 1 4 60 ...  \n",
      "668                        دکمه کنترل دوربین را تا کنید  \n",
      "800                                                بگذر  \n"
     ]
    }
   ],
   "source": [
    "samples = train_df[['processed_text', 'back_translated']].sample(10)\n",
    "print(samples)"
   ]
  },
  {
   "cell_type": "code",
   "execution_count": 41,
   "id": "abb2f7ec",
   "metadata": {
    "execution": {
     "iopub.execute_input": "2024-06-30T06:18:03.453669Z",
     "iopub.status.busy": "2024-06-30T06:18:03.453334Z",
     "iopub.status.idle": "2024-06-30T06:18:03.461519Z",
     "shell.execute_reply": "2024-06-30T06:18:03.460551Z"
    },
    "papermill": {
     "duration": 0.040586,
     "end_time": "2024-06-30T06:18:03.463553",
     "exception": false,
     "start_time": "2024-06-30T06:18:03.422967",
     "status": "completed"
    },
    "tags": []
   },
   "outputs": [],
   "source": [
    "concatenated_values = pd.concat([train_df['processed_text'], train_df['back_translated']])\n",
    "labels = pd.concat([train_df['label'], train_df['label']])\n",
    "\n",
    "augmented_df = pd.DataFrame({'text': concatenated_values, 'label': labels})\n",
    "augmented_df = augmented_df.reset_index(drop=True)"
   ]
  },
  {
   "cell_type": "code",
   "execution_count": 42,
   "id": "2bee831e",
   "metadata": {
    "execution": {
     "iopub.execute_input": "2024-06-30T06:18:03.523823Z",
     "iopub.status.busy": "2024-06-30T06:18:03.523489Z",
     "iopub.status.idle": "2024-06-30T06:18:03.532646Z",
     "shell.execute_reply": "2024-06-30T06:18:03.531810Z"
    },
    "papermill": {
     "duration": 0.04179,
     "end_time": "2024-06-30T06:18:03.534535",
     "exception": false,
     "start_time": "2024-06-30T06:18:03.492745",
     "status": "completed"
    },
    "tags": []
   },
   "outputs": [
    {
     "data": {
      "text/html": [
       "<div>\n",
       "<style scoped>\n",
       "    .dataframe tbody tr th:only-of-type {\n",
       "        vertical-align: middle;\n",
       "    }\n",
       "\n",
       "    .dataframe tbody tr th {\n",
       "        vertical-align: top;\n",
       "    }\n",
       "\n",
       "    .dataframe thead th {\n",
       "        text-align: right;\n",
       "    }\n",
       "</style>\n",
       "<table border=\"1\" class=\"dataframe\">\n",
       "  <thead>\n",
       "    <tr style=\"text-align: right;\">\n",
       "      <th></th>\n",
       "      <th>text</th>\n",
       "      <th>label</th>\n",
       "    </tr>\n",
       "  </thead>\n",
       "  <tbody>\n",
       "    <tr>\n",
       "      <th>0</th>\n",
       "      <td>۱۰ ر ۲ گیگابایت بهره می‌برد</td>\n",
       "      <td>1</td>\n",
       "    </tr>\n",
       "    <tr>\n",
       "      <th>1</th>\n",
       "      <td>دوربین ورزش ویژگی بهره ببرد دوربین فیلم‌بردار ...</td>\n",
       "      <td>1</td>\n",
       "    </tr>\n",
       "    <tr>\n",
       "      <th>2</th>\n",
       "      <td>اهم گوش فرو</td>\n",
       "      <td>2</td>\n",
       "    </tr>\n",
       "    <tr>\n",
       "      <th>3</th>\n",
       "      <td>سخ افزار سنسورا</td>\n",
       "      <td>2</td>\n",
       "    </tr>\n",
       "    <tr>\n",
       "      <th>4</th>\n",
       "      <td>هس ۲۰۱۲ سامسونگ معرفی‌شده</td>\n",
       "      <td>2</td>\n",
       "    </tr>\n",
       "  </tbody>\n",
       "</table>\n",
       "</div>"
      ],
      "text/plain": [
       "                                                text  label\n",
       "0                        ۱۰ ر ۲ گیگابایت بهره می‌برد      1\n",
       "1  دوربین ورزش ویژگی بهره ببرد دوربین فیلم‌بردار ...      1\n",
       "2                                        اهم گوش فرو      2\n",
       "3                                    سخ افزار سنسورا      2\n",
       "4                          هس ۲۰۱۲ سامسونگ معرفی‌شده      2"
      ]
     },
     "execution_count": 42,
     "metadata": {},
     "output_type": "execute_result"
    }
   ],
   "source": [
    "augmented_df.head()"
   ]
  },
  {
   "cell_type": "code",
   "execution_count": 43,
   "id": "19b4c8d9",
   "metadata": {
    "execution": {
     "iopub.execute_input": "2024-06-30T06:18:03.595174Z",
     "iopub.status.busy": "2024-06-30T06:18:03.594883Z",
     "iopub.status.idle": "2024-06-30T06:18:03.599554Z",
     "shell.execute_reply": "2024-06-30T06:18:03.598619Z"
    },
    "papermill": {
     "duration": 0.036833,
     "end_time": "2024-06-30T06:18:03.601441",
     "exception": false,
     "start_time": "2024-06-30T06:18:03.564608",
     "status": "completed"
    },
    "tags": []
   },
   "outputs": [
    {
     "name": "stdout",
     "output_type": "stream",
     "text": [
      "Number of comments after augmentation: 8896\n"
     ]
    }
   ],
   "source": [
    "print(f\"Number of comments after augmentation: {len(augmented_df)}\")"
   ]
  },
  {
   "cell_type": "code",
   "execution_count": 44,
   "id": "90c91f8d",
   "metadata": {
    "execution": {
     "iopub.execute_input": "2024-06-30T06:18:03.661875Z",
     "iopub.status.busy": "2024-06-30T06:18:03.661578Z",
     "iopub.status.idle": "2024-06-30T06:18:03.666487Z",
     "shell.execute_reply": "2024-06-30T06:18:03.665669Z"
    },
    "papermill": {
     "duration": 0.037126,
     "end_time": "2024-06-30T06:18:03.668317",
     "exception": false,
     "start_time": "2024-06-30T06:18:03.631191",
     "status": "completed"
    },
    "tags": []
   },
   "outputs": [],
   "source": [
    "train_dataset = TextDataset(augmented_df['text'], augmented_df['label'], tokenizer, max_length)\n",
    "\n",
    "train_dataloader = DataLoader(train_dataset, batch_size=batch_size, shuffle=True)"
   ]
  },
  {
   "cell_type": "code",
   "execution_count": 45,
   "id": "26b1388f",
   "metadata": {
    "execution": {
     "iopub.execute_input": "2024-06-30T06:18:03.728486Z",
     "iopub.status.busy": "2024-06-30T06:18:03.728170Z",
     "iopub.status.idle": "2024-06-30T06:18:04.386226Z",
     "shell.execute_reply": "2024-06-30T06:18:04.385054Z"
    },
    "papermill": {
     "duration": 0.691306,
     "end_time": "2024-06-30T06:18:04.388744",
     "exception": false,
     "start_time": "2024-06-30T06:18:03.697438",
     "status": "completed"
    },
    "tags": []
   },
   "outputs": [
    {
     "name": "stderr",
     "output_type": "stream",
     "text": [
      "Some weights of BertForSequenceClassification were not initialized from the model checkpoint at sbunlp/fabert and are newly initialized: ['bert.pooler.dense.bias', 'bert.pooler.dense.weight', 'classifier.bias', 'classifier.weight']\n",
      "You should probably TRAIN this model on a down-stream task to be able to use it for predictions and inference.\n"
     ]
    }
   ],
   "source": [
    "tokenizer = AutoTokenizer.from_pretrained(\"sbunlp/fabert\")\n",
    "model = AutoModelForSequenceClassification.from_pretrained(\"sbunlp/fabert\", num_labels=3)\n",
    "model = model.to(device)"
   ]
  },
  {
   "cell_type": "code",
   "execution_count": 46,
   "id": "a143b90d",
   "metadata": {
    "execution": {
     "iopub.execute_input": "2024-06-30T06:18:04.451028Z",
     "iopub.status.busy": "2024-06-30T06:18:04.450693Z",
     "iopub.status.idle": "2024-06-30T06:18:04.457290Z",
     "shell.execute_reply": "2024-06-30T06:18:04.456362Z"
    },
    "papermill": {
     "duration": 0.039869,
     "end_time": "2024-06-30T06:18:04.459328",
     "exception": false,
     "start_time": "2024-06-30T06:18:04.419459",
     "status": "completed"
    },
    "tags": []
   },
   "outputs": [],
   "source": [
    "for param in model.parameters():\n",
    "    param.requires_grad = False\n",
    "    \n",
    "for param in model.classifier.parameters():\n",
    "    param.requires_grad = True\n",
    "    \n",
    "for param in model.bert.encoder.layer[-1].parameters():\n",
    "    param.requires_grad = True"
   ]
  },
  {
   "cell_type": "code",
   "execution_count": 48,
   "id": "73f496c1",
   "metadata": {
    "execution": {
     "iopub.execute_input": "2024-06-30T06:18:04.592257Z",
     "iopub.status.busy": "2024-06-30T06:18:04.591518Z",
     "iopub.status.idle": "2024-06-30T06:19:19.169502Z",
     "shell.execute_reply": "2024-06-30T06:19:19.168572Z"
    },
    "papermill": {
     "duration": 74.611805,
     "end_time": "2024-06-30T06:19:19.171632",
     "exception": false,
     "start_time": "2024-06-30T06:18:04.559827",
     "status": "completed"
    },
    "tags": []
   },
   "outputs": [
    {
     "name": "stdout",
     "output_type": "stream",
     "text": [
      "Epoch 1/5, Train Loss: 1.095371065165499, Train Accuracy: 0.43131744604316546\n",
      "Epoch 1/5, Validation Loss: 1.097017661162785, Validation Accuracy: 0.4237103174839701\n",
      "Epoch 2/5, Train Loss: 1.0954106808137551, Train Accuracy: 0.4441321942446043\n",
      "Epoch 2/5, Validation Loss: 1.097017661162785, Validation Accuracy: 0.4237103174839701\n",
      "Epoch 3/5, Train Loss: 1.0954106788841083, Train Accuracy: 0.4441321942446043\n",
      "Epoch 3/5, Validation Loss: 1.097017661162785, Validation Accuracy: 0.4237103174839701\n",
      "Epoch 4/5, Train Loss: 1.0954106748104095, Train Accuracy: 0.4441321942446043\n",
      "Epoch 4/5, Validation Loss: 1.097017661162785, Validation Accuracy: 0.4237103174839701\n",
      "Epoch 5/5, Train Loss: 1.095410679527324, Train Accuracy: 0.4441321942446043\n",
      "Epoch 5/5, Validation Loss: 1.097017661162785, Validation Accuracy: 0.4237103174839701\n"
     ]
    }
   ],
   "source": [
    "def evaluate_model2(model, dataloader, device):\n",
    "    model.eval()\n",
    "    losses = []\n",
    "    accuracies = []\n",
    "    for batch in dataloader:\n",
    "        with torch.no_grad():\n",
    "            input_ids = batch['input_ids'].to(device)\n",
    "            attention_mask = batch['attention_mask'].to(device)\n",
    "            labels = batch['labels'].to(device)\n",
    "\n",
    "            # Forward pass\n",
    "            outputs = model(input_ids=input_ids, attention_mask=attention_mask, labels=labels)\n",
    "            loss = outputs.loss\n",
    "            logits = outputs.logits\n",
    "\n",
    "            # Accumulate loss\n",
    "            losses.append(loss.item())\n",
    "\n",
    "            # Calculate accuracy\n",
    "            batch_accuracy = calculate_accuracy(logits, labels)\n",
    "            accuracies.append(batch_accuracy.item())\n",
    "\n",
    "    avg_loss = np.mean(losses)\n",
    "    avg_accuracy = np.mean(accuracies)\n",
    "\n",
    "    return avg_loss, avg_accuracy\n",
    "\n",
    "\n",
    "model.train()\n",
    "for epoch in range(num_epochs):\n",
    "    epoch_train_loss = 0.0\n",
    "    epoch_train_accuracy = 0.0\n",
    "\n",
    "    # Training loop\n",
    "    for i, batch in enumerate(train_dataloader):\n",
    "        optimizer.zero_grad()\n",
    "\n",
    "        # Move tensors to the device explicitly\n",
    "        input_ids = batch['input_ids'].to(device)\n",
    "        attention_mask = batch['attention_mask'].to(device)\n",
    "        labels = batch['labels'].to(device)\n",
    "\n",
    "        # Forward pass\n",
    "        outputs = model(input_ids=input_ids, attention_mask=attention_mask, labels=labels)\n",
    "        loss = outputs.loss\n",
    "\n",
    "        # Backward pass\n",
    "        loss.backward()\n",
    "        optimizer.step()\n",
    "\n",
    "        # Accumulate training loss and accuracy\n",
    "        epoch_train_loss += loss.item()\n",
    "        logits = outputs.logits\n",
    "        batch_accuracy = calculate_accuracy(logits, labels)\n",
    "        epoch_train_accuracy += batch_accuracy.item()\n",
    "\n",
    "    epoch_train_loss /= len(train_dataloader)\n",
    "    epoch_train_accuracy /= len(train_dataloader)\n",
    "    train_losses2.append(epoch_train_loss)\n",
    "    train_accuracies2.append(epoch_train_accuracy)\n",
    "\n",
    "    print(f\"Epoch {epoch+1}/{num_epochs}, Train Loss: {epoch_train_loss}, Train Accuracy: {epoch_train_accuracy}\")\n",
    "\n",
    "    # Evaluation on validation set\n",
    "    epoch_val_loss, epoch_val_accuracy = evaluate_model2(model, val_dataloader, device)\n",
    "    val_losses2.append(epoch_val_loss)\n",
    "    val_accuracies2.append(epoch_val_accuracy)\n",
    "\n",
    "    print(f\"Epoch {epoch+1}/{num_epochs}, Validation Loss: {epoch_val_loss}, Validation Accuracy: {epoch_val_accuracy}\")"
   ]
  },
  {
   "cell_type": "code",
   "execution_count": 49,
   "id": "36ebe371",
   "metadata": {
    "execution": {
     "iopub.execute_input": "2024-06-30T06:19:19.237312Z",
     "iopub.status.busy": "2024-06-30T06:19:19.236581Z",
     "iopub.status.idle": "2024-06-30T06:19:20.002570Z",
     "shell.execute_reply": "2024-06-30T06:19:20.001636Z"
    },
    "papermill": {
     "duration": 0.800905,
     "end_time": "2024-06-30T06:19:20.004742",
     "exception": false,
     "start_time": "2024-06-30T06:19:19.203837",
     "status": "completed"
    },
    "tags": []
   },
   "outputs": [
    {
     "data": {
      "image/png": "[encoded data removed]",
      "text/plain": [
       "<Figure size 1400x1000 with 2 Axes>"
      ]
     },
     "metadata": {},
     "output_type": "display_data"
    }
   ],
   "source": [
    "plt.figure(figsize=(14, 10))\n",
    "plt.subplot(2, 1, 1) \n",
    "epochs = range(1, num_epochs + 1)\n",
    "plt.plot(epochs, train_accuracies2, label='Train Accuracy')\n",
    "plt.plot(epochs, val_accuracies2, label='Validation Accuracy')\n",
    "plt.title('Training and Validation Accuracy')\n",
    "plt.xlabel('Epoch')\n",
    "plt.ylabel('Accuracy')\n",
    "plt.legend()\n",
    "\n",
    "plt.subplot(2, 1, 2)\n",
    "plt.plot(epochs, train_losses2, label='Train Loss')\n",
    "plt.plot(epochs, val_losses2, label='Validation Loss')\n",
    "plt.title('Training and Validation Loss')\n",
    "plt.xlabel('Epoch')\n",
    "plt.ylabel('Loss')\n",
    "plt.legend()\n",
    "plt.tight_layout()\n",
    "plt.show()"
   ]
  },
  {
   "cell_type": "code",
   "execution_count": 51,
   "id": "f7607dba",
   "metadata": {
    "execution": {
     "iopub.execute_input": "2024-06-30T06:19:20.140307Z",
     "iopub.status.busy": "2024-06-30T06:19:20.140001Z",
     "iopub.status.idle": "2024-06-30T06:19:22.483231Z",
     "shell.execute_reply": "2024-06-30T06:19:22.482135Z"
    },
    "papermill": {
     "duration": 2.378179,
     "end_time": "2024-06-30T06:19:22.485217",
     "exception": false,
     "start_time": "2024-06-30T06:19:20.107038",
     "status": "completed"
    },
    "tags": []
   },
   "outputs": [
    {
     "name": "stdout",
     "output_type": "stream",
     "text": [
      "Test Loss: 1.0931567950495358, Test Accuracy: 0.4724445815744071\n"
     ]
    }
   ],
   "source": [
    "test_loss2, test_accuracy2, true_labels2, predicted_labels2 = evaluate_model_on_test(model, test_dataloader, device)\n",
    "\n",
    "print(f\"Test Loss: {test_loss2}, Test Accuracy: {test_accuracy2}\")"
   ]
  },
  {
   "cell_type": "code",
   "execution_count": 52,
   "id": "58f12c55",
   "metadata": {
    "execution": {
     "iopub.execute_input": "2024-06-30T06:19:22.553034Z",
     "iopub.status.busy": "2024-06-30T06:19:22.552742Z",
     "iopub.status.idle": "2024-06-30T06:19:22.763587Z",
     "shell.execute_reply": "2024-06-30T06:19:22.762725Z"
    },
    "papermill": {
     "duration": 0.2473,
     "end_time": "2024-06-30T06:19:22.765690",
     "exception": false,
     "start_time": "2024-06-30T06:19:22.518390",
     "status": "completed"
    },
    "tags": []
   },
   "outputs": [
    {
     "data": {
      "image/png": "[encoded data removed]",
      "text/plain": [
       "<Figure size 800x600 with 1 Axes>"
      ]
     },
     "metadata": {},
     "output_type": "display_data"
    }
   ],
   "source": [
    "cm = confusion_matrix(true_labels2, predicted_labels2)\n",
    "\n",
    "plt.figure(figsize=(8, 6))\n",
    "sns.heatmap(cm, annot=True, fmt='d', cmap='Blues', cbar=False)\n",
    "plt.title('Confusion Matrix')\n",
    "plt.xlabel('Predicted Labels')\n",
    "plt.ylabel('True Labels')\n",
    "plt.show()"
   ]
  },
  {
   "cell_type": "code",
   "execution_count": 53,
   "id": "282bcbe6",
   "metadata": {
    "execution": {
     "iopub.execute_input": "2024-06-30T06:19:22.832123Z",
     "iopub.status.busy": "2024-06-30T06:19:22.831842Z",
     "iopub.status.idle": "2024-06-30T06:19:22.841339Z",
     "shell.execute_reply": "2024-06-30T06:19:22.840312Z"
    },
    "papermill": {
     "duration": 0.044647,
     "end_time": "2024-06-30T06:19:22.843185",
     "exception": false,
     "start_time": "2024-06-30T06:19:22.798538",
     "status": "completed"
    },
    "tags": []
   },
   "outputs": [
    {
     "name": "stdout",
     "output_type": "stream",
     "text": [
      "Weighted F1 Score: 0.34372707840750255\n"
     ]
    }
   ],
   "source": [
    "f1_2 = f1_score(true_labels2, predicted_labels2, average='weighted')\n",
    "\n",
    "print(f\"Weighted F1 Score: {f1_2}\")"
   ]
  },
  {
   "cell_type": "code",
   "execution_count": 54,
   "id": "b129c85c",
   "metadata": {
    "execution": {
     "iopub.execute_input": "2024-06-30T06:19:22.908726Z",
     "iopub.status.busy": "2024-06-30T06:19:22.908438Z",
     "iopub.status.idle": "2024-06-30T06:19:22.915428Z",
     "shell.execute_reply": "2024-06-30T06:19:22.914568Z"
    },
    "papermill": {
     "duration": 0.042292,
     "end_time": "2024-06-30T06:19:22.917448",
     "exception": false,
     "start_time": "2024-06-30T06:19:22.875156",
     "status": "completed"
    },
    "tags": []
   },
   "outputs": [
    {
     "name": "stdout",
     "output_type": "stream",
     "text": [
      "\n",
      "Some incorrectly predicted samples:\n",
      "True Label: 2, Predicted Label: 1\n",
      "Text: اندازه داره\n",
      "\n",
      "True Label: 0, Predicted Label: 1\n",
      "Text: چیزا نمیتونه باشه\n",
      "\n",
      "True Label: 1, Predicted Label: 2\n",
      "Text: دوربین نمایشگر ۳ اینچ قرار رزولوشن ۲۳۰۰۰۰ نقطه ارائه\n",
      "\n",
      "True Label: 1, Predicted Label: 2\n",
      "Text: همانند ۵ بدنه پنج آلومینیو یکپارچه ساخته‌شده جلو دستگاه یک‌لایه شیشه صفحه نما قرار داده‌شده\n",
      "\n",
      "True Label: 1, Predicted Label: 2\n",
      "Text: اجرا باز گرافیک داشته_باش\n",
      "\n"
     ]
    }
   ],
   "source": [
    "true_labels2 = np.array(true_labels2)\n",
    "predicted_labels2 = np.array(predicted_labels2)\n",
    "\n",
    "incorrect_indices2 = np.where(true_labels2 != predicted_labels2)[0]\n",
    "\n",
    "num_samples_to_show = 5\n",
    "\n",
    "print(\"\\nSome incorrectly predicted samples:\")\n",
    "for idx in incorrect_indices2[:num_samples_to_show]:\n",
    "    print(f\"True Label: {true_labels2[idx]}, Predicted Label: {predicted_labels2[idx]}\")\n",
    "    print(f\"Text: {test_df['processed_text'].iloc[idx]}\")\n",
    "    print(\"\")"
   ]
  },
  {
   "cell_type": "code",
   "execution_count": 56,
   "id": "15d9ff25",
   "metadata": {
    "execution": {
     "iopub.execute_input": "2024-06-30T06:19:23.328133Z",
     "iopub.status.busy": "2024-06-30T06:19:23.327805Z",
     "iopub.status.idle": "2024-06-30T06:19:23.938084Z",
     "shell.execute_reply": "2024-06-30T06:19:23.937072Z"
    },
    "papermill": {
     "duration": 0.647443,
     "end_time": "2024-06-30T06:19:23.940469",
     "exception": false,
     "start_time": "2024-06-30T06:19:23.293026",
     "status": "completed"
    },
    "tags": []
   },
   "outputs": [
    {
     "data": {
      "image/png": "[encoded data removed]",
      "text/plain": [
       "<Figure size 1400x1000 with 2 Axes>"
      ]
     },
     "metadata": {},
     "output_type": "display_data"
    }
   ],
   "source": [
    "plt.figure(figsize=(14, 10))\n",
    "\n",
    "plt.subplot(2, 1, 1)\n",
    "epochs = range(1, num_epochs + 1)\n",
    "plt.plot(epochs, train_accuracies1, label='Train Accuracy - Original')\n",
    "plt.plot(epochs, train_accuracies2, label=' Train Accuracy - Augmented')\n",
    "plt.title('Training Accuracy Original VS. Augmented')\n",
    "plt.xlabel('Epoch')\n",
    "plt.ylabel('Accuracy')\n",
    "plt.legend()\n",
    "\n",
    "plt.subplot(2, 1, 2)\n",
    "plt.plot(epochs, train_losses1, label='Train Loss - Original')\n",
    "plt.plot(epochs, train_losses2, label='Train Loss - Augmented')\n",
    "plt.title('Training Loss Original VS. Augmented')\n",
    "plt.xlabel('Epoch')\n",
    "plt.ylabel('Loss')\n",
    "plt.legend()\n",
    "\n",
    "plt.tight_layout()\n",
    "\n",
    "plt.show()"
   ]
  },
  {
   "cell_type": "code",
   "execution_count": 57,
   "id": "ca78dcd6",
   "metadata": {
    "execution": {
     "iopub.execute_input": "2024-06-30T06:19:24.010545Z",
     "iopub.status.busy": "2024-06-30T06:19:24.010225Z",
     "iopub.status.idle": "2024-06-30T06:19:24.615553Z",
     "shell.execute_reply": "2024-06-30T06:19:24.614659Z"
    },
    "papermill": {
     "duration": 0.643254,
     "end_time": "2024-06-30T06:19:24.618285",
     "exception": false,
     "start_time": "2024-06-30T06:19:23.975031",
     "status": "completed"
    },
    "tags": []
   },
   "outputs": [
    {
     "data": {
      "image/png": "[encoded data removed]",
      "text/plain": [
       "<Figure size 1400x1000 with 2 Axes>"
      ]
     },
     "metadata": {},
     "output_type": "display_data"
    }
   ],
   "source": [
    "plt.figure(figsize=(14, 10))\n",
    "\n",
    "plt.subplot(2, 1, 1)\n",
    "epochs = range(1, num_epochs + 1)\n",
    "plt.plot(epochs, val_accuracies1, label='Validation Accuracy - Original')\n",
    "plt.plot(epochs, val_accuracies2, label=' Validation Accuracy - Augmented')\n",
    "plt.title('Validation Accuracy Original VS. Augmented')\n",
    "plt.xlabel('Epoch')\n",
    "plt.ylabel('Accuracy')\n",
    "plt.legend()\n",
    "\n",
    "plt.subplot(2, 1, 2)\n",
    "plt.plot(epochs, val_losses1, label='Validation Loss - Original')\n",
    "plt.plot(epochs, val_losses2, label='Validation Loss - Augmented')\n",
    "plt.title('Validation Loss Original VS. Augmented')\n",
    "plt.xlabel('Epoch')\n",
    "plt.ylabel('Loss')\n",
    "plt.legend()\n",
    "\n",
    "plt.tight_layout()\n",
    "\n",
    "plt.show()"
   ]
  }
 ],
 "metadata": {
  "kaggle": {
   "accelerator": "nvidiaTeslaT4",
   "dataSources": [
    {
     "datasetId": 5209907,
     "sourceId": 8688986,
     "sourceType": "datasetVersion"
    },
    {
     "datasetId": 5298263,
     "sourceId": 8808995,
     "sourceType": "datasetVersion"
    }
   ],
   "dockerImageVersionId": 30733,
   "isGpuEnabled": true,
   "isInternetEnabled": true,
   "language": "python",
   "sourceType": "notebook"
  },
  "kernelspec": {
   "display_name": "Python 3",
   "language": "python",
   "name": "python3"
  },
  "language_info": {
   "codemirror_mode": {
    "name": "ipython",
    "version": 3
   },
   "file_extension": ".py",
   "mimetype": "text/x-python",
   "name": "python",
   "nbconvert_exporter": "python",
   "pygments_lexer": "ipython3",
   "version": "3.10.13"
  },
  "papermill": {
   "default_parameters": {},
   "duration": 6492.083647,
   "end_time": "2024-06-30T06:19:28.294525",
   "environment_variables": {},
   "exception": null,
   "input_path": "__notebook__.ipynb",
   "output_path": "__notebook__.ipynb",
   "parameters": {},
   "start_time": "2024-06-30T04:31:16.210878",
   "version": "2.5.0"
  },
  "widgets": {
   "application/vnd.jupyter.widget-state+json": {
    "state": {
     "03a27525121b4cf7b051f5c529c4328e": {
      "model_module": "@jupyter-widgets/controls",
      "model_module_version": "1.5.0",
      "model_name": "HBoxModel",
      "state": {
       "_dom_classes": [],
       "_model_module": "@jupyter-widgets/controls",
       "_model_module_version": "1.5.0",
       "_model_name": "HBoxModel",
       "_view_count": null,
       "_view_module": "@jupyter-widgets/controls",
       "_view_module_version": "1.5.0",
       "_view_name": "HBoxView",
       "box_style": "",
       "children": [
        "IPY_MODEL_caedc4bc6cdd483b8286572a86702692",
        "IPY_MODEL_faeab1efd51d4a1e9e60ed2b627f0006",
        "IPY_MODEL_21c4192bccb84ca29f3302d49aea3c38"
       ],
       "layout": "IPY_MODEL_3ac255bf57f140a3a382ffb9bd7c3f0d"
      }
     },
     "046e8c1e95ac439b9751c6fe4d125ce6": {
      "model_module": "@jupyter-widgets/controls",
      "model_module_version": "1.5.0",
      "model_name": "DescriptionStyleModel",
      "state": {
       "_model_module": "@jupyter-widgets/controls",
       "_model_module_version": "1.5.0",
       "_model_name": "DescriptionStyleModel",
       "_view_count": null,
       "_view_module": "@jupyter-widgets/base",
       "_view_module_version": "1.2.0",
       "_view_name": "StyleView",
       "description_width": ""
      }
     },
     "11d0b86876434979a47001bb04c80bd2": {
      "model_module": "@jupyter-widgets/controls",
      "model_module_version": "1.5.0",
      "model_name": "HBoxModel",
      "state": {
       "_dom_classes": [],
       "_model_module": "@jupyter-widgets/controls",
       "_model_module_version": "1.5.0",
       "_model_name": "HBoxModel",
       "_view_count": null,
       "_view_module": "@jupyter-widgets/controls",
       "_view_module_version": "1.5.0",
       "_view_name": "HBoxView",
       "box_style": "",
       "children": [
        "IPY_MODEL_97ee68d2d83646e7a700a0ac7ec03f54",
        "IPY_MODEL_50219b2a28dc483e9ee49fe8aee1707a",
        "IPY_MODEL_e3a4777940ba41289264c74b00349650"
       ],
       "layout": "IPY_MODEL_b5d43250459a42a6a2c6acbfcfcc77ff"
      }
     },
     "126405d20d2e4300ac5e7084d183905f": {
      "model_module": "@jupyter-widgets/base",
      "model_module_version": "1.2.0",
      "model_name": "LayoutModel",
      "state": {
       "_model_module": "@jupyter-widgets/base",
       "_model_module_version": "1.2.0",
       "_model_name": "LayoutModel",
       "_view_count": null,
       "_view_module": "@jupyter-widgets/base",
       "_view_module_version": "1.2.0",
       "_view_name": "LayoutView",
       "align_content": null,
       "align_items": null,
       "align_self": null,
       "border": null,
       "bottom": null,
       "display": null,
       "flex": null,
       "flex_flow": null,
       "grid_area": null,
       "grid_auto_columns": null,
       "grid_auto_flow": null,
       "grid_auto_rows": null,
       "grid_column": null,
       "grid_gap": null,
       "grid_row": null,
       "grid_template_areas": null,
       "grid_template_columns": null,
       "grid_template_rows": null,
       "height": null,
       "justify_content": null,
       "justify_items": null,
       "left": null,
       "margin": null,
       "max_height": null,
       "max_width": null,
       "min_height": null,
       "min_width": null,
       "object_fit": null,
       "object_position": null,
       "order": null,
       "overflow": null,
       "overflow_x": null,
       "overflow_y": null,
       "padding": null,
       "right": null,
       "top": null,
       "visibility": null,
       "width": null
      }
     },
     "20f32dc3b41f4807b135b02fab103768": {
      "model_module": "@jupyter-widgets/controls",
      "model_module_version": "1.5.0",
      "model_name": "DescriptionStyleModel",
      "state": {
       "_model_module": "@jupyter-widgets/controls",
       "_model_module_version": "1.5.0",
       "_model_name": "DescriptionStyleModel",
       "_view_count": null,
       "_view_module": "@jupyter-widgets/base",
       "_view_module_version": "1.2.0",
       "_view_name": "StyleView",
       "description_width": ""
      }
     },
     "21c4192bccb84ca29f3302d49aea3c38": {
      "model_module": "@jupyter-widgets/controls",
      "model_module_version": "1.5.0",
      "model_name": "HTMLModel",
      "state": {
       "_dom_classes": [],
       "_model_module": "@jupyter-widgets/controls",
       "_model_module_version": "1.5.0",
       "_model_name": "HTMLModel",
       "_view_count": null,
       "_view_module": "@jupyter-widgets/controls",
       "_view_module_version": "1.5.0",
       "_view_name": "HTMLView",
       "description": "",
       "description_tooltip": null,
       "layout": "IPY_MODEL_f0d50980d0a2447db6a94fcd7442d4a2",
       "placeholder": "​",
       "style": "IPY_MODEL_963eb503d61b4ff3a4302141ee332027",
       "value": " 552k/552k [00:00&lt;00:00, 7.60MB/s]"
      }
     },
     "33537c577b0047f68b2bb0e67dac5b19": {
      "model_module": "@jupyter-widgets/controls",
      "model_module_version": "1.5.0",
      "model_name": "HTMLModel",
      "state": {
       "_dom_classes": [],
       "_model_module": "@jupyter-widgets/controls",
       "_model_module_version": "1.5.0",
       "_model_name": "HTMLModel",
       "_view_count": null,
       "_view_module": "@jupyter-widgets/controls",
       "_view_module_version": "1.5.0",
       "_view_name": "HTMLView",
       "description": "",
       "description_tooltip": null,
       "layout": "IPY_MODEL_ef5753cc232b419a88e4ffc83c6f76d8",
       "placeholder": "​",
       "style": "IPY_MODEL_8c18334012f543a6817b474c0a29573e",
       "value": "config.json: 100%"
      }
     },
     "35e95c462828437cb43efea50e935dbf": {
      "model_module": "@jupyter-widgets/base",
      "model_module_version": "1.2.0",
      "model_name": "LayoutModel",
      "state": {
       "_model_module": "@jupyter-widgets/base",
       "_model_module_version": "1.2.0",
       "_model_name": "LayoutModel",
       "_view_count": null,
       "_view_module": "@jupyter-widgets/base",
       "_view_module_version": "1.2.0",
       "_view_name": "LayoutView",
       "align_content": null,
       "align_items": null,
       "align_self": null,
       "border": null,
       "bottom": null,
       "display": null,
       "flex": null,
       "flex_flow": null,
       "grid_area": null,
       "grid_auto_columns": null,
       "grid_auto_flow": null,
       "grid_auto_rows": null,
       "grid_column": null,
       "grid_gap": null,
       "grid_row": null,
       "grid_template_areas": null,
       "grid_template_columns": null,
       "grid_template_rows": null,
       "height": null,
       "justify_content": null,
       "justify_items": null,
       "left": null,
       "margin": null,
       "max_height": null,
       "max_width": null,
       "min_height": null,
       "min_width": null,
       "object_fit": null,
       "object_position": null,
       "order": null,
       "overflow": null,
       "overflow_x": null,
       "overflow_y": null,
       "padding": null,
       "right": null,
       "top": null,
       "visibility": null,
       "width": null
      }
     },
     "38d6c9c179704559bd7f3972c214f327": {
      "model_module": "@jupyter-widgets/base",
      "model_module_version": "1.2.0",
      "model_name": "LayoutModel",
      "state": {
       "_model_module": "@jupyter-widgets/base",
       "_model_module_version": "1.2.0",
       "_model_name": "LayoutModel",
       "_view_count": null,
       "_view_module": "@jupyter-widgets/base",
       "_view_module_version": "1.2.0",
       "_view_name": "LayoutView",
       "align_content": null,
       "align_items": null,
       "align_self": null,
       "border": null,
       "bottom": null,
       "display": null,
       "flex": null,
       "flex_flow": null,
       "grid_area": null,
       "grid_auto_columns": null,
       "grid_auto_flow": null,
       "grid_auto_rows": null,
       "grid_column": null,
       "grid_gap": null,
       "grid_row": null,
       "grid_template_areas": null,
       "grid_template_columns": null,
       "grid_template_rows": null,
       "height": null,
       "justify_content": null,
       "justify_items": null,
       "left": null,
       "margin": null,
       "max_height": null,
       "max_width": null,
       "min_height": null,
       "min_width": null,
       "object_fit": null,
       "object_position": null,
       "order": null,
       "overflow": null,
       "overflow_x": null,
       "overflow_y": null,
       "padding": null,
       "right": null,
       "top": null,
       "visibility": null,
       "width": null
      }
     },
     "3ac255bf57f140a3a382ffb9bd7c3f0d": {
      "model_module": "@jupyter-widgets/base",
      "model_module_version": "1.2.0",
      "model_name": "LayoutModel",
      "state": {
       "_model_module": "@jupyter-widgets/base",
       "_model_module_version": "1.2.0",
       "_model_name": "LayoutModel",
       "_view_count": null,
       "_view_module": "@jupyter-widgets/base",
       "_view_module_version": "1.2.0",
       "_view_name": "LayoutView",
       "align_content": null,
       "align_items": null,
       "align_self": null,
       "border": null,
       "bottom": null,
       "display": null,
       "flex": null,
       "flex_flow": null,
       "grid_area": null,
       "grid_auto_columns": null,
       "grid_auto_flow": null,
       "grid_auto_rows": null,
       "grid_column": null,
       "grid_gap": null,
       "grid_row": null,
       "grid_template_areas": null,
       "grid_template_columns": null,
       "grid_template_rows": null,
       "height": null,
       "justify_content": null,
       "justify_items": null,
       "left": null,
       "margin": null,
       "max_height": null,
       "max_width": null,
       "min_height": null,
       "min_width": null,
       "object_fit": null,
       "object_position": null,
       "order": null,
       "overflow": null,
       "overflow_x": null,
       "overflow_y": null,
       "padding": null,
       "right": null,
       "top": null,
       "visibility": null,
       "width": null
      }
     },
     "3c226250d46749bfb23b685a2aaaa33a": {
      "model_module": "@jupyter-widgets/controls",
      "model_module_version": "1.5.0",
      "model_name": "ProgressStyleModel",
      "state": {
       "_model_module": "@jupyter-widgets/controls",
       "_model_module_version": "1.5.0",
       "_model_name": "ProgressStyleModel",
       "_view_count": null,
       "_view_module": "@jupyter-widgets/base",
       "_view_module_version": "1.2.0",
       "_view_name": "StyleView",
       "bar_color": null,
       "description_width": ""
      }
     },
     "3cf7fd0cbd6b45d1a0993df5c3b1a137": {
      "model_module": "@jupyter-widgets/controls",
      "model_module_version": "1.5.0",
      "model_name": "DescriptionStyleModel",
      "state": {
       "_model_module": "@jupyter-widgets/controls",
       "_model_module_version": "1.5.0",
       "_model_name": "DescriptionStyleModel",
       "_view_count": null,
       "_view_module": "@jupyter-widgets/base",
       "_view_module_version": "1.2.0",
       "_view_name": "StyleView",
       "description_width": ""
      }
     },
     "40bec594508041ff8e0190a739ecc09a": {
      "model_module": "@jupyter-widgets/controls",
      "model_module_version": "1.5.0",
      "model_name": "DescriptionStyleModel",
      "state": {
       "_model_module": "@jupyter-widgets/controls",
       "_model_module_version": "1.5.0",
       "_model_name": "DescriptionStyleModel",
       "_view_count": null,
       "_view_module": "@jupyter-widgets/base",
       "_view_module_version": "1.2.0",
       "_view_name": "StyleView",
       "description_width": ""
      }
     },
     "45a277d75ced4e28b1a9725a0bf45472": {
      "model_module": "@jupyter-widgets/controls",
      "model_module_version": "1.5.0",
      "model_name": "DescriptionStyleModel",
      "state": {
       "_model_module": "@jupyter-widgets/controls",
       "_model_module_version": "1.5.0",
       "_model_name": "DescriptionStyleModel",
       "_view_count": null,
       "_view_module": "@jupyter-widgets/base",
       "_view_module_version": "1.2.0",
       "_view_name": "StyleView",
       "description_width": ""
      }
     },
     "47e279a0801c4940b9d78ac0b2d47134": {
      "model_module": "@jupyter-widgets/base",
      "model_module_version": "1.2.0",
      "model_name": "LayoutModel",
      "state": {
       "_model_module": "@jupyter-widgets/base",
       "_model_module_version": "1.2.0",
       "_model_name": "LayoutModel",
       "_view_count": null,
       "_view_module": "@jupyter-widgets/base",
       "_view_module_version": "1.2.0",
       "_view_name": "LayoutView",
       "align_content": null,
       "align_items": null,
       "align_self": null,
       "border": null,
       "bottom": null,
       "display": null,
       "flex": null,
       "flex_flow": null,
       "grid_area": null,
       "grid_auto_columns": null,
       "grid_auto_flow": null,
       "grid_auto_rows": null,
       "grid_column": null,
       "grid_gap": null,
       "grid_row": null,
       "grid_template_areas": null,
       "grid_template_columns": null,
       "grid_template_rows": null,
       "height": null,
       "justify_content": null,
       "justify_items": null,
       "left": null,
       "margin": null,
       "max_height": null,
       "max_width": null,
       "min_height": null,
       "min_width": null,
       "object_fit": null,
       "object_position": null,
       "order": null,
       "overflow": null,
       "overflow_x": null,
       "overflow_y": null,
       "padding": null,
       "right": null,
       "top": null,
       "visibility": null,
       "width": null
      }
     },
     "4ed0e1ce46fd486ca7e6064199dc6ab8": {
      "model_module": "@jupyter-widgets/controls",
      "model_module_version": "1.5.0",
      "model_name": "HTMLModel",
      "state": {
       "_dom_classes": [],
       "_model_module": "@jupyter-widgets/controls",
       "_model_module_version": "1.5.0",
       "_model_name": "HTMLModel",
       "_view_count": null,
       "_view_module": "@jupyter-widgets/controls",
       "_view_module_version": "1.5.0",
       "_view_name": "HTMLView",
       "description": "",
       "description_tooltip": null,
       "layout": "IPY_MODEL_b4e3c1f9647642a3942f511aeffd9e34",
       "placeholder": "​",
       "style": "IPY_MODEL_65e0e2ad1abb478cb883b908c85a6b74",
       "value": " 498M/498M [00:01&lt;00:00, 310MB/s]"
      }
     },
     "4f1fe8bc21eb4dbd9aa92d178c30225f": {
      "model_module": "@jupyter-widgets/controls",
      "model_module_version": "1.5.0",
      "model_name": "FloatProgressModel",
      "state": {
       "_dom_classes": [],
       "_model_module": "@jupyter-widgets/controls",
       "_model_module_version": "1.5.0",
       "_model_name": "FloatProgressModel",
       "_view_count": null,
       "_view_module": "@jupyter-widgets/controls",
       "_view_module_version": "1.5.0",
       "_view_name": "ProgressView",
       "bar_style": "success",
       "description": "",
       "description_tooltip": null,
       "layout": "IPY_MODEL_35e95c462828437cb43efea50e935dbf",
       "max": 589,
       "min": 0,
       "orientation": "horizontal",
       "style": "IPY_MODEL_6af2d551567b4336a99c8dc30cdd834b",
       "value": 589
      }
     },
     "50219b2a28dc483e9ee49fe8aee1707a": {
      "model_module": "@jupyter-widgets/controls",
      "model_module_version": "1.5.0",
      "model_name": "FloatProgressModel",
      "state": {
       "_dom_classes": [],
       "_model_module": "@jupyter-widgets/controls",
       "_model_module_version": "1.5.0",
       "_model_name": "FloatProgressModel",
       "_view_count": null,
       "_view_module": "@jupyter-widgets/controls",
       "_view_module_version": "1.5.0",
       "_view_name": "ProgressView",
       "bar_style": "success",
       "description": "",
       "description_tooltip": null,
       "layout": "IPY_MODEL_72ae4ed6093c4a9ba6e6249b087deace",
       "max": 125,
       "min": 0,
       "orientation": "horizontal",
       "style": "IPY_MODEL_911fdb28f1584c19bc64bd299eb1bf64",
       "value": 125
      }
     },
     "515cefe51e13488cbf2482785d584bfb": {
      "model_module": "@jupyter-widgets/controls",
      "model_module_version": "1.5.0",
      "model_name": "HTMLModel",
      "state": {
       "_dom_classes": [],
       "_model_module": "@jupyter-widgets/controls",
       "_model_module_version": "1.5.0",
       "_model_name": "HTMLModel",
       "_view_count": null,
       "_view_module": "@jupyter-widgets/controls",
       "_view_module_version": "1.5.0",
       "_view_name": "HTMLView",
       "description": "",
       "description_tooltip": null,
       "layout": "IPY_MODEL_b5b14a4d09e942edbaccff5c5fecf5b8",
       "placeholder": "​",
       "style": "IPY_MODEL_40bec594508041ff8e0190a739ecc09a",
       "value": "tokenizer.json: 100%"
      }
     },
     "53785da4360a4eba888e097c63135976": {
      "model_module": "@jupyter-widgets/controls",
      "model_module_version": "1.5.0",
      "model_name": "ProgressStyleModel",
      "state": {
       "_model_module": "@jupyter-widgets/controls",
       "_model_module_version": "1.5.0",
       "_model_name": "ProgressStyleModel",
       "_view_count": null,
       "_view_module": "@jupyter-widgets/base",
       "_view_module_version": "1.2.0",
       "_view_name": "StyleView",
       "bar_color": null,
       "description_width": ""
      }
     },
     "572697d62a774eafbf0806334fdb4fb3": {
      "model_module": "@jupyter-widgets/controls",
      "model_module_version": "1.5.0",
      "model_name": "FloatProgressModel",
      "state": {
       "_dom_classes": [],
       "_model_module": "@jupyter-widgets/controls",
       "_model_module_version": "1.5.0",
       "_model_name": "FloatProgressModel",
       "_view_count": null,
       "_view_module": "@jupyter-widgets/controls",
       "_view_module_version": "1.5.0",
       "_view_name": "ProgressView",
       "bar_style": "success",
       "description": "",
       "description_tooltip": null,
       "layout": "IPY_MODEL_47e279a0801c4940b9d78ac0b2d47134",
       "max": 18327,
       "min": 0,
       "orientation": "horizontal",
       "style": "IPY_MODEL_53785da4360a4eba888e097c63135976",
       "value": 18327
      }
     },
     "5de31017f41743c1a53441448ed1684a": {
      "model_module": "@jupyter-widgets/controls",
      "model_module_version": "1.5.0",
      "model_name": "HTMLModel",
      "state": {
       "_dom_classes": [],
       "_model_module": "@jupyter-widgets/controls",
       "_model_module_version": "1.5.0",
       "_model_name": "HTMLModel",
       "_view_count": null,
       "_view_module": "@jupyter-widgets/controls",
       "_view_module_version": "1.5.0",
       "_view_name": "HTMLView",
       "description": "",
       "description_tooltip": null,
       "layout": "IPY_MODEL_db4c496511424a1bba58a2216b702f1e",
       "placeholder": "​",
       "style": "IPY_MODEL_3cf7fd0cbd6b45d1a0993df5c3b1a137",
       "value": " 589/589 [00:00&lt;00:00, 50.7kB/s]"
      }
     },
     "6289295a774d4e44a7cfbd2ce640a5d7": {
      "model_module": "@jupyter-widgets/controls",
      "model_module_version": "1.5.0",
      "model_name": "HTMLModel",
      "state": {
       "_dom_classes": [],
       "_model_module": "@jupyter-widgets/controls",
       "_model_module_version": "1.5.0",
       "_model_name": "HTMLModel",
       "_view_count": null,
       "_view_module": "@jupyter-widgets/controls",
       "_view_module_version": "1.5.0",
       "_view_name": "HTMLView",
       "description": "",
       "description_tooltip": null,
       "layout": "IPY_MODEL_be2b014e179946cda9fc8df688a54970",
       "placeholder": "​",
       "style": "IPY_MODEL_8748479e1d634b25901e5e843238e31a",
       "value": "model.safetensors: 100%"
      }
     },
     "65e0e2ad1abb478cb883b908c85a6b74": {
      "model_module": "@jupyter-widgets/controls",
      "model_module_version": "1.5.0",
      "model_name": "DescriptionStyleModel",
      "state": {
       "_model_module": "@jupyter-widgets/controls",
       "_model_module_version": "1.5.0",
       "_model_name": "DescriptionStyleModel",
       "_view_count": null,
       "_view_module": "@jupyter-widgets/base",
       "_view_module_version": "1.2.0",
       "_view_name": "StyleView",
       "description_width": ""
      }
     },
     "6960424e19d04129aaf1daa310239671": {
      "model_module": "@jupyter-widgets/controls",
      "model_module_version": "1.5.0",
      "model_name": "HBoxModel",
      "state": {
       "_dom_classes": [],
       "_model_module": "@jupyter-widgets/controls",
       "_model_module_version": "1.5.0",
       "_model_name": "HBoxModel",
       "_view_count": null,
       "_view_module": "@jupyter-widgets/controls",
       "_view_module_version": "1.5.0",
       "_view_name": "HBoxView",
       "box_style": "",
       "children": [
        "IPY_MODEL_f9574ab8eac44fa694a0a3f514916f2f",
        "IPY_MODEL_572697d62a774eafbf0806334fdb4fb3",
        "IPY_MODEL_b103445a52fc42e2a4c6276c9947d583"
       ],
       "layout": "IPY_MODEL_a013159fb5f443d3aec7a790f6f5d002"
      }
     },
     "6ae748e4080f47f696fc6ed3c0db2210": {
      "model_module": "@jupyter-widgets/controls",
      "model_module_version": "1.5.0",
      "model_name": "DescriptionStyleModel",
      "state": {
       "_model_module": "@jupyter-widgets/controls",
       "_model_module_version": "1.5.0",
       "_model_name": "DescriptionStyleModel",
       "_view_count": null,
       "_view_module": "@jupyter-widgets/base",
       "_view_module_version": "1.2.0",
       "_view_name": "StyleView",
       "description_width": ""
      }
     },
     "6af2d551567b4336a99c8dc30cdd834b": {
      "model_module": "@jupyter-widgets/controls",
      "model_module_version": "1.5.0",
      "model_name": "ProgressStyleModel",
      "state": {
       "_model_module": "@jupyter-widgets/controls",
       "_model_module_version": "1.5.0",
       "_model_name": "ProgressStyleModel",
       "_view_count": null,
       "_view_module": "@jupyter-widgets/base",
       "_view_module_version": "1.2.0",
       "_view_name": "StyleView",
       "bar_color": null,
       "description_width": ""
      }
     },
     "6e09a6bc85e349b9ad4a3acf0673c6b3": {
      "model_module": "@jupyter-widgets/base",
      "model_module_version": "1.2.0",
      "model_name": "LayoutModel",
      "state": {
       "_model_module": "@jupyter-widgets/base",
       "_model_module_version": "1.2.0",
       "_model_name": "LayoutModel",
       "_view_count": null,
       "_view_module": "@jupyter-widgets/base",
       "_view_module_version": "1.2.0",
       "_view_name": "LayoutView",
       "align_content": null,
       "align_items": null,
       "align_self": null,
       "border": null,
       "bottom": null,
       "display": null,
       "flex": null,
       "flex_flow": null,
       "grid_area": null,
       "grid_auto_columns": null,
       "grid_auto_flow": null,
       "grid_auto_rows": null,
       "grid_column": null,
       "grid_gap": null,
       "grid_row": null,
       "grid_template_areas": null,
       "grid_template_columns": null,
       "grid_template_rows": null,
       "height": null,
       "justify_content": null,
       "justify_items": null,
       "left": null,
       "margin": null,
       "max_height": null,
       "max_width": null,
       "min_height": null,
       "min_width": null,
       "object_fit": null,
       "object_position": null,
       "order": null,
       "overflow": null,
       "overflow_x": null,
       "overflow_y": null,
       "padding": null,
       "right": null,
       "top": null,
       "visibility": null,
       "width": null
      }
     },
     "72ae4ed6093c4a9ba6e6249b087deace": {
      "model_module": "@jupyter-widgets/base",
      "model_module_version": "1.2.0",
      "model_name": "LayoutModel",
      "state": {
       "_model_module": "@jupyter-widgets/base",
       "_model_module_version": "1.2.0",
       "_model_name": "LayoutModel",
       "_view_count": null,
       "_view_module": "@jupyter-widgets/base",
       "_view_module_version": "1.2.0",
       "_view_name": "LayoutView",
       "align_content": null,
       "align_items": null,
       "align_self": null,
       "border": null,
       "bottom": null,
       "display": null,
       "flex": null,
       "flex_flow": null,
       "grid_area": null,
       "grid_auto_columns": null,
       "grid_auto_flow": null,
       "grid_auto_rows": null,
       "grid_column": null,
       "grid_gap": null,
       "grid_row": null,
       "grid_template_areas": null,
       "grid_template_columns": null,
       "grid_template_rows": null,
       "height": null,
       "justify_content": null,
       "justify_items": null,
       "left": null,
       "margin": null,
       "max_height": null,
       "max_width": null,
       "min_height": null,
       "min_width": null,
       "object_fit": null,
       "object_position": null,
       "order": null,
       "overflow": null,
       "overflow_x": null,
       "overflow_y": null,
       "padding": null,
       "right": null,
       "top": null,
       "visibility": null,
       "width": null
      }
     },
     "769ec62ca60a427e85841b5932a3f19b": {
      "model_module": "@jupyter-widgets/base",
      "model_module_version": "1.2.0",
      "model_name": "LayoutModel",
      "state": {
       "_model_module": "@jupyter-widgets/base",
       "_model_module_version": "1.2.0",
       "_model_name": "LayoutModel",
       "_view_count": null,
       "_view_module": "@jupyter-widgets/base",
       "_view_module_version": "1.2.0",
       "_view_name": "LayoutView",
       "align_content": null,
       "align_items": null,
       "align_self": null,
       "border": null,
       "bottom": null,
       "display": null,
       "flex": null,
       "flex_flow": null,
       "grid_area": null,
       "grid_auto_columns": null,
       "grid_auto_flow": null,
       "grid_auto_rows": null,
       "grid_column": null,
       "grid_gap": null,
       "grid_row": null,
       "grid_template_areas": null,
       "grid_template_columns": null,
       "grid_template_rows": null,
       "height": null,
       "justify_content": null,
       "justify_items": null,
       "left": null,
       "margin": null,
       "max_height": null,
       "max_width": null,
       "min_height": null,
       "min_width": null,
       "object_fit": null,
       "object_position": null,
       "order": null,
       "overflow": null,
       "overflow_x": null,
       "overflow_y": null,
       "padding": null,
       "right": null,
       "top": null,
       "visibility": null,
       "width": null
      }
     },
     "79a0d578ea244d13ba9b3c74c2001a63": {
      "model_module": "@jupyter-widgets/controls",
      "model_module_version": "1.5.0",
      "model_name": "HBoxModel",
      "state": {
       "_dom_classes": [],
       "_model_module": "@jupyter-widgets/controls",
       "_model_module_version": "1.5.0",
       "_model_name": "HBoxModel",
       "_view_count": null,
       "_view_module": "@jupyter-widgets/controls",
       "_view_module_version": "1.5.0",
       "_view_name": "HBoxView",
       "box_style": "",
       "children": [
        "IPY_MODEL_515cefe51e13488cbf2482785d584bfb",
        "IPY_MODEL_86d092acbc29472c9e8ea0c7aba10c74",
        "IPY_MODEL_bfb48bc0c7ca4e91a5067c0827b86ae8"
       ],
       "layout": "IPY_MODEL_126405d20d2e4300ac5e7084d183905f"
      }
     },
     "806a297b5a044da2b5586c36148ea762": {
      "model_module": "@jupyter-widgets/controls",
      "model_module_version": "1.5.0",
      "model_name": "ProgressStyleModel",
      "state": {
       "_model_module": "@jupyter-widgets/controls",
       "_model_module_version": "1.5.0",
       "_model_name": "ProgressStyleModel",
       "_view_count": null,
       "_view_module": "@jupyter-widgets/base",
       "_view_module_version": "1.2.0",
       "_view_name": "StyleView",
       "bar_color": null,
       "description_width": ""
      }
     },
     "8326b9e031c5473da2ec8d256dcf1208": {
      "model_module": "@jupyter-widgets/controls",
      "model_module_version": "1.5.0",
      "model_name": "DescriptionStyleModel",
      "state": {
       "_model_module": "@jupyter-widgets/controls",
       "_model_module_version": "1.5.0",
       "_model_name": "DescriptionStyleModel",
       "_view_count": null,
       "_view_module": "@jupyter-widgets/base",
       "_view_module_version": "1.2.0",
       "_view_name": "StyleView",
       "description_width": ""
      }
     },
     "86d092acbc29472c9e8ea0c7aba10c74": {
      "model_module": "@jupyter-widgets/controls",
      "model_module_version": "1.5.0",
      "model_name": "FloatProgressModel",
      "state": {
       "_dom_classes": [],
       "_model_module": "@jupyter-widgets/controls",
       "_model_module_version": "1.5.0",
       "_model_name": "FloatProgressModel",
       "_view_count": null,
       "_view_module": "@jupyter-widgets/controls",
       "_view_module_version": "1.5.0",
       "_view_name": "ProgressView",
       "bar_style": "success",
       "description": "",
       "description_tooltip": null,
       "layout": "IPY_MODEL_f5259231898740519fe10212d2fd8aea",
       "max": 1362416,
       "min": 0,
       "orientation": "horizontal",
       "style": "IPY_MODEL_9c75f91d158946a4a23737b9c03a5aa0",
       "value": 1362416
      }
     },
     "86fc91b969764f8ab5eb56a09651c2c4": {
      "model_module": "@jupyter-widgets/controls",
      "model_module_version": "1.5.0",
      "model_name": "DescriptionStyleModel",
      "state": {
       "_model_module": "@jupyter-widgets/controls",
       "_model_module_version": "1.5.0",
       "_model_name": "DescriptionStyleModel",
       "_view_count": null,
       "_view_module": "@jupyter-widgets/base",
       "_view_module_version": "1.2.0",
       "_view_name": "StyleView",
       "description_width": ""
      }
     },
     "8748479e1d634b25901e5e843238e31a": {
      "model_module": "@jupyter-widgets/controls",
      "model_module_version": "1.5.0",
      "model_name": "DescriptionStyleModel",
      "state": {
       "_model_module": "@jupyter-widgets/controls",
       "_model_module_version": "1.5.0",
       "_model_name": "DescriptionStyleModel",
       "_view_count": null,
       "_view_module": "@jupyter-widgets/base",
       "_view_module_version": "1.2.0",
       "_view_name": "StyleView",
       "description_width": ""
      }
     },
     "885c18be3c2f4b27acd45001acfc81fa": {
      "model_module": "@jupyter-widgets/controls",
      "model_module_version": "1.5.0",
      "model_name": "HBoxModel",
      "state": {
       "_dom_classes": [],
       "_model_module": "@jupyter-widgets/controls",
       "_model_module_version": "1.5.0",
       "_model_name": "HBoxModel",
       "_view_count": null,
       "_view_module": "@jupyter-widgets/controls",
       "_view_module_version": "1.5.0",
       "_view_name": "HBoxView",
       "box_style": "",
       "children": [
        "IPY_MODEL_33537c577b0047f68b2bb0e67dac5b19",
        "IPY_MODEL_4f1fe8bc21eb4dbd9aa92d178c30225f",
        "IPY_MODEL_5de31017f41743c1a53441448ed1684a"
       ],
       "layout": "IPY_MODEL_c3e6b728a0da49af9619aa45048660d3"
      }
     },
     "8a1d26c8faf941bfa149039f0d106844": {
      "model_module": "@jupyter-widgets/controls",
      "model_module_version": "1.5.0",
      "model_name": "HBoxModel",
      "state": {
       "_dom_classes": [],
       "_model_module": "@jupyter-widgets/controls",
       "_model_module_version": "1.5.0",
       "_model_name": "HBoxModel",
       "_view_count": null,
       "_view_module": "@jupyter-widgets/controls",
       "_view_module_version": "1.5.0",
       "_view_name": "HBoxView",
       "box_style": "",
       "children": [
        "IPY_MODEL_6289295a774d4e44a7cfbd2ce640a5d7",
        "IPY_MODEL_c3eb854025524cf0bfb0e1a11af4fcf0",
        "IPY_MODEL_4ed0e1ce46fd486ca7e6064199dc6ab8"
       ],
       "layout": "IPY_MODEL_d4abd00957524d6389a5a6ee8528b9da"
      }
     },
     "8c18334012f543a6817b474c0a29573e": {
      "model_module": "@jupyter-widgets/controls",
      "model_module_version": "1.5.0",
      "model_name": "DescriptionStyleModel",
      "state": {
       "_model_module": "@jupyter-widgets/controls",
       "_model_module_version": "1.5.0",
       "_model_name": "DescriptionStyleModel",
       "_view_count": null,
       "_view_module": "@jupyter-widgets/base",
       "_view_module_version": "1.2.0",
       "_view_name": "StyleView",
       "description_width": ""
      }
     },
     "8e03f158e6c64617aa7c58e45be9f3ee": {
      "model_module": "@jupyter-widgets/base",
      "model_module_version": "1.2.0",
      "model_name": "LayoutModel",
      "state": {
       "_model_module": "@jupyter-widgets/base",
       "_model_module_version": "1.2.0",
       "_model_name": "LayoutModel",
       "_view_count": null,
       "_view_module": "@jupyter-widgets/base",
       "_view_module_version": "1.2.0",
       "_view_name": "LayoutView",
       "align_content": null,
       "align_items": null,
       "align_self": null,
       "border": null,
       "bottom": null,
       "display": null,
       "flex": null,
       "flex_flow": null,
       "grid_area": null,
       "grid_auto_columns": null,
       "grid_auto_flow": null,
       "grid_auto_rows": null,
       "grid_column": null,
       "grid_gap": null,
       "grid_row": null,
       "grid_template_areas": null,
       "grid_template_columns": null,
       "grid_template_rows": null,
       "height": null,
       "justify_content": null,
       "justify_items": null,
       "left": null,
       "margin": null,
       "max_height": null,
       "max_width": null,
       "min_height": null,
       "min_width": null,
       "object_fit": null,
       "object_position": null,
       "order": null,
       "overflow": null,
       "overflow_x": null,
       "overflow_y": null,
       "padding": null,
       "right": null,
       "top": null,
       "visibility": null,
       "width": null
      }
     },
     "911fdb28f1584c19bc64bd299eb1bf64": {
      "model_module": "@jupyter-widgets/controls",
      "model_module_version": "1.5.0",
      "model_name": "ProgressStyleModel",
      "state": {
       "_model_module": "@jupyter-widgets/controls",
       "_model_module_version": "1.5.0",
       "_model_name": "ProgressStyleModel",
       "_view_count": null,
       "_view_module": "@jupyter-widgets/base",
       "_view_module_version": "1.2.0",
       "_view_name": "StyleView",
       "bar_color": null,
       "description_width": ""
      }
     },
     "963eb503d61b4ff3a4302141ee332027": {
      "model_module": "@jupyter-widgets/controls",
      "model_module_version": "1.5.0",
      "model_name": "DescriptionStyleModel",
      "state": {
       "_model_module": "@jupyter-widgets/controls",
       "_model_module_version": "1.5.0",
       "_model_name": "DescriptionStyleModel",
       "_view_count": null,
       "_view_module": "@jupyter-widgets/base",
       "_view_module_version": "1.2.0",
       "_view_name": "StyleView",
       "description_width": ""
      }
     },
     "97ee68d2d83646e7a700a0ac7ec03f54": {
      "model_module": "@jupyter-widgets/controls",
      "model_module_version": "1.5.0",
      "model_name": "HTMLModel",
      "state": {
       "_dom_classes": [],
       "_model_module": "@jupyter-widgets/controls",
       "_model_module_version": "1.5.0",
       "_model_name": "HTMLModel",
       "_view_count": null,
       "_view_module": "@jupyter-widgets/controls",
       "_view_module_version": "1.5.0",
       "_view_name": "HTMLView",
       "description": "",
       "description_tooltip": null,
       "layout": "IPY_MODEL_fe8693cce2724aa782a5a0e6b7164233",
       "placeholder": "​",
       "style": "IPY_MODEL_20f32dc3b41f4807b135b02fab103768",
       "value": "special_tokens_map.json: 100%"
      }
     },
     "9c75f91d158946a4a23737b9c03a5aa0": {
      "model_module": "@jupyter-widgets/controls",
      "model_module_version": "1.5.0",
      "model_name": "ProgressStyleModel",
      "state": {
       "_model_module": "@jupyter-widgets/controls",
       "_model_module_version": "1.5.0",
       "_model_name": "ProgressStyleModel",
       "_view_count": null,
       "_view_module": "@jupyter-widgets/base",
       "_view_module_version": "1.2.0",
       "_view_name": "StyleView",
       "bar_color": null,
       "description_width": ""
      }
     },
     "a013159fb5f443d3aec7a790f6f5d002": {
      "model_module": "@jupyter-widgets/base",
      "model_module_version": "1.2.0",
      "model_name": "LayoutModel",
      "state": {
       "_model_module": "@jupyter-widgets/base",
       "_model_module_version": "1.2.0",
       "_model_name": "LayoutModel",
       "_view_count": null,
       "_view_module": "@jupyter-widgets/base",
       "_view_module_version": "1.2.0",
       "_view_name": "LayoutView",
       "align_content": null,
       "align_items": null,
       "align_self": null,
       "border": null,
       "bottom": null,
       "display": null,
       "flex": null,
       "flex_flow": null,
       "grid_area": null,
       "grid_auto_columns": null,
       "grid_auto_flow": null,
       "grid_auto_rows": null,
       "grid_column": null,
       "grid_gap": null,
       "grid_row": null,
       "grid_template_areas": null,
       "grid_template_columns": null,
       "grid_template_rows": null,
       "height": null,
       "justify_content": null,
       "justify_items": null,
       "left": null,
       "margin": null,
       "max_height": null,
       "max_width": null,
       "min_height": null,
       "min_width": null,
       "object_fit": null,
       "object_position": null,
       "order": null,
       "overflow": null,
       "overflow_x": null,
       "overflow_y": null,
       "padding": null,
       "right": null,
       "top": null,
       "visibility": null,
       "width": null
      }
     },
     "b103445a52fc42e2a4c6276c9947d583": {
      "model_module": "@jupyter-widgets/controls",
      "model_module_version": "1.5.0",
      "model_name": "HTMLModel",
      "state": {
       "_dom_classes": [],
       "_model_module": "@jupyter-widgets/controls",
       "_model_module_version": "1.5.0",
       "_model_name": "HTMLModel",
       "_view_count": null,
       "_view_module": "@jupyter-widgets/controls",
       "_view_module_version": "1.5.0",
       "_view_name": "HTMLView",
       "description": "",
       "description_tooltip": null,
       "layout": "IPY_MODEL_8e03f158e6c64617aa7c58e45be9f3ee",
       "placeholder": "​",
       "style": "IPY_MODEL_45a277d75ced4e28b1a9725a0bf45472",
       "value": " 18.3k/18.3k [00:00&lt;00:00, 1.58MB/s]"
      }
     },
     "b4e3c1f9647642a3942f511aeffd9e34": {
      "model_module": "@jupyter-widgets/base",
      "model_module_version": "1.2.0",
      "model_name": "LayoutModel",
      "state": {
       "_model_module": "@jupyter-widgets/base",
       "_model_module_version": "1.2.0",
       "_model_name": "LayoutModel",
       "_view_count": null,
       "_view_module": "@jupyter-widgets/base",
       "_view_module_version": "1.2.0",
       "_view_name": "LayoutView",
       "align_content": null,
       "align_items": null,
       "align_self": null,
       "border": null,
       "bottom": null,
       "display": null,
       "flex": null,
       "flex_flow": null,
       "grid_area": null,
       "grid_auto_columns": null,
       "grid_auto_flow": null,
       "grid_auto_rows": null,
       "grid_column": null,
       "grid_gap": null,
       "grid_row": null,
       "grid_template_areas": null,
       "grid_template_columns": null,
       "grid_template_rows": null,
       "height": null,
       "justify_content": null,
       "justify_items": null,
       "left": null,
       "margin": null,
       "max_height": null,
       "max_width": null,
       "min_height": null,
       "min_width": null,
       "object_fit": null,
       "object_position": null,
       "order": null,
       "overflow": null,
       "overflow_x": null,
       "overflow_y": null,
       "padding": null,
       "right": null,
       "top": null,
       "visibility": null,
       "width": null
      }
     },
     "b5b14a4d09e942edbaccff5c5fecf5b8": {
      "model_module": "@jupyter-widgets/base",
      "model_module_version": "1.2.0",
      "model_name": "LayoutModel",
      "state": {
       "_model_module": "@jupyter-widgets/base",
       "_model_module_version": "1.2.0",
       "_model_name": "LayoutModel",
       "_view_count": null,
       "_view_module": "@jupyter-widgets/base",
       "_view_module_version": "1.2.0",
       "_view_name": "LayoutView",
       "align_content": null,
       "align_items": null,
       "align_self": null,
       "border": null,
       "bottom": null,
       "display": null,
       "flex": null,
       "flex_flow": null,
       "grid_area": null,
       "grid_auto_columns": null,
       "grid_auto_flow": null,
       "grid_auto_rows": null,
       "grid_column": null,
       "grid_gap": null,
       "grid_row": null,
       "grid_template_areas": null,
       "grid_template_columns": null,
       "grid_template_rows": null,
       "height": null,
       "justify_content": null,
       "justify_items": null,
       "left": null,
       "margin": null,
       "max_height": null,
       "max_width": null,
       "min_height": null,
       "min_width": null,
       "object_fit": null,
       "object_position": null,
       "order": null,
       "overflow": null,
       "overflow_x": null,
       "overflow_y": null,
       "padding": null,
       "right": null,
       "top": null,
       "visibility": null,
       "width": null
      }
     },
     "b5d43250459a42a6a2c6acbfcfcc77ff": {
      "model_module": "@jupyter-widgets/base",
      "model_module_version": "1.2.0",
      "model_name": "LayoutModel",
      "state": {
       "_model_module": "@jupyter-widgets/base",
       "_model_module_version": "1.2.0",
       "_model_name": "LayoutModel",
       "_view_count": null,
       "_view_module": "@jupyter-widgets/base",
       "_view_module_version": "1.2.0",
       "_view_name": "LayoutView",
       "align_content": null,
       "align_items": null,
       "align_self": null,
       "border": null,
       "bottom": null,
       "display": null,
       "flex": null,
       "flex_flow": null,
       "grid_area": null,
       "grid_auto_columns": null,
       "grid_auto_flow": null,
       "grid_auto_rows": null,
       "grid_column": null,
       "grid_gap": null,
       "grid_row": null,
       "grid_template_areas": null,
       "grid_template_columns": null,
       "grid_template_rows": null,
       "height": null,
       "justify_content": null,
       "justify_items": null,
       "left": null,
       "margin": null,
       "max_height": null,
       "max_width": null,
       "min_height": null,
       "min_width": null,
       "object_fit": null,
       "object_position": null,
       "order": null,
       "overflow": null,
       "overflow_x": null,
       "overflow_y": null,
       "padding": null,
       "right": null,
       "top": null,
       "visibility": null,
       "width": null
      }
     },
     "be2b014e179946cda9fc8df688a54970": {
      "model_module": "@jupyter-widgets/base",
      "model_module_version": "1.2.0",
      "model_name": "LayoutModel",
      "state": {
       "_model_module": "@jupyter-widgets/base",
       "_model_module_version": "1.2.0",
       "_model_name": "LayoutModel",
       "_view_count": null,
       "_view_module": "@jupyter-widgets/base",
       "_view_module_version": "1.2.0",
       "_view_name": "LayoutView",
       "align_content": null,
       "align_items": null,
       "align_self": null,
       "border": null,
       "bottom": null,
       "display": null,
       "flex": null,
       "flex_flow": null,
       "grid_area": null,
       "grid_auto_columns": null,
       "grid_auto_flow": null,
       "grid_auto_rows": null,
       "grid_column": null,
       "grid_gap": null,
       "grid_row": null,
       "grid_template_areas": null,
       "grid_template_columns": null,
       "grid_template_rows": null,
       "height": null,
       "justify_content": null,
       "justify_items": null,
       "left": null,
       "margin": null,
       "max_height": null,
       "max_width": null,
       "min_height": null,
       "min_width": null,
       "object_fit": null,
       "object_position": null,
       "order": null,
       "overflow": null,
       "overflow_x": null,
       "overflow_y": null,
       "padding": null,
       "right": null,
       "top": null,
       "visibility": null,
       "width": null
      }
     },
     "bfb48bc0c7ca4e91a5067c0827b86ae8": {
      "model_module": "@jupyter-widgets/controls",
      "model_module_version": "1.5.0",
      "model_name": "HTMLModel",
      "state": {
       "_dom_classes": [],
       "_model_module": "@jupyter-widgets/controls",
       "_model_module_version": "1.5.0",
       "_model_name": "HTMLModel",
       "_view_count": null,
       "_view_module": "@jupyter-widgets/controls",
       "_view_module_version": "1.5.0",
       "_view_name": "HTMLView",
       "description": "",
       "description_tooltip": null,
       "layout": "IPY_MODEL_ca73112426ef49cb8f73c5cc51c8003a",
       "placeholder": "​",
       "style": "IPY_MODEL_6ae748e4080f47f696fc6ed3c0db2210",
       "value": " 1.36M/1.36M [00:00&lt;00:00, 17.2MB/s]"
      }
     },
     "c3e6b728a0da49af9619aa45048660d3": {
      "model_module": "@jupyter-widgets/base",
      "model_module_version": "1.2.0",
      "model_name": "LayoutModel",
      "state": {
       "_model_module": "@jupyter-widgets/base",
       "_model_module_version": "1.2.0",
       "_model_name": "LayoutModel",
       "_view_count": null,
       "_view_module": "@jupyter-widgets/base",
       "_view_module_version": "1.2.0",
       "_view_name": "LayoutView",
       "align_content": null,
       "align_items": null,
       "align_self": null,
       "border": null,
       "bottom": null,
       "display": null,
       "flex": null,
       "flex_flow": null,
       "grid_area": null,
       "grid_auto_columns": null,
       "grid_auto_flow": null,
       "grid_auto_rows": null,
       "grid_column": null,
       "grid_gap": null,
       "grid_row": null,
       "grid_template_areas": null,
       "grid_template_columns": null,
       "grid_template_rows": null,
       "height": null,
       "justify_content": null,
       "justify_items": null,
       "left": null,
       "margin": null,
       "max_height": null,
       "max_width": null,
       "min_height": null,
       "min_width": null,
       "object_fit": null,
       "object_position": null,
       "order": null,
       "overflow": null,
       "overflow_x": null,
       "overflow_y": null,
       "padding": null,
       "right": null,
       "top": null,
       "visibility": null,
       "width": null
      }
     },
     "c3eb854025524cf0bfb0e1a11af4fcf0": {
      "model_module": "@jupyter-widgets/controls",
      "model_module_version": "1.5.0",
      "model_name": "FloatProgressModel",
      "state": {
       "_dom_classes": [],
       "_model_module": "@jupyter-widgets/controls",
       "_model_module_version": "1.5.0",
       "_model_name": "FloatProgressModel",
       "_view_count": null,
       "_view_module": "@jupyter-widgets/controls",
       "_view_module_version": "1.5.0",
       "_view_name": "ProgressView",
       "bar_style": "success",
       "description": "",
       "description_tooltip": null,
       "layout": "IPY_MODEL_e2612a48f2564cc9ac450aa4fe77377c",
       "max": 497995232,
       "min": 0,
       "orientation": "horizontal",
       "style": "IPY_MODEL_3c226250d46749bfb23b685a2aaaa33a",
       "value": 497995232
      }
     },
     "ca73112426ef49cb8f73c5cc51c8003a": {
      "model_module": "@jupyter-widgets/base",
      "model_module_version": "1.2.0",
      "model_name": "LayoutModel",
      "state": {
       "_model_module": "@jupyter-widgets/base",
       "_model_module_version": "1.2.0",
       "_model_name": "LayoutModel",
       "_view_count": null,
       "_view_module": "@jupyter-widgets/base",
       "_view_module_version": "1.2.0",
       "_view_name": "LayoutView",
       "align_content": null,
       "align_items": null,
       "align_self": null,
       "border": null,
       "bottom": null,
       "display": null,
       "flex": null,
       "flex_flow": null,
       "grid_area": null,
       "grid_auto_columns": null,
       "grid_auto_flow": null,
       "grid_auto_rows": null,
       "grid_column": null,
       "grid_gap": null,
       "grid_row": null,
       "grid_template_areas": null,
       "grid_template_columns": null,
       "grid_template_rows": null,
       "height": null,
       "justify_content": null,
       "justify_items": null,
       "left": null,
       "margin": null,
       "max_height": null,
       "max_width": null,
       "min_height": null,
       "min_width": null,
       "object_fit": null,
       "object_position": null,
       "order": null,
       "overflow": null,
       "overflow_x": null,
       "overflow_y": null,
       "padding": null,
       "right": null,
       "top": null,
       "visibility": null,
       "width": null
      }
     },
     "caedc4bc6cdd483b8286572a86702692": {
      "model_module": "@jupyter-widgets/controls",
      "model_module_version": "1.5.0",
      "model_name": "HTMLModel",
      "state": {
       "_dom_classes": [],
       "_model_module": "@jupyter-widgets/controls",
       "_model_module_version": "1.5.0",
       "_model_name": "HTMLModel",
       "_view_count": null,
       "_view_module": "@jupyter-widgets/controls",
       "_view_module_version": "1.5.0",
       "_view_name": "HTMLView",
       "description": "",
       "description_tooltip": null,
       "layout": "IPY_MODEL_6e09a6bc85e349b9ad4a3acf0673c6b3",
       "placeholder": "​",
       "style": "IPY_MODEL_046e8c1e95ac439b9751c6fe4d125ce6",
       "value": "vocab.txt: 100%"
      }
     },
     "d4abd00957524d6389a5a6ee8528b9da": {
      "model_module": "@jupyter-widgets/base",
      "model_module_version": "1.2.0",
      "model_name": "LayoutModel",
      "state": {
       "_model_module": "@jupyter-widgets/base",
       "_model_module_version": "1.2.0",
       "_model_name": "LayoutModel",
       "_view_count": null,
       "_view_module": "@jupyter-widgets/base",
       "_view_module_version": "1.2.0",
       "_view_name": "LayoutView",
       "align_content": null,
       "align_items": null,
       "align_self": null,
       "border": null,
       "bottom": null,
       "display": null,
       "flex": null,
       "flex_flow": null,
       "grid_area": null,
       "grid_auto_columns": null,
       "grid_auto_flow": null,
       "grid_auto_rows": null,
       "grid_column": null,
       "grid_gap": null,
       "grid_row": null,
       "grid_template_areas": null,
       "grid_template_columns": null,
       "grid_template_rows": null,
       "height": null,
       "justify_content": null,
       "justify_items": null,
       "left": null,
       "margin": null,
       "max_height": null,
       "max_width": null,
       "min_height": null,
       "min_width": null,
       "object_fit": null,
       "object_position": null,
       "order": null,
       "overflow": null,
       "overflow_x": null,
       "overflow_y": null,
       "padding": null,
       "right": null,
       "top": null,
       "visibility": null,
       "width": null
      }
     },
     "db4c496511424a1bba58a2216b702f1e": {
      "model_module": "@jupyter-widgets/base",
      "model_module_version": "1.2.0",
      "model_name": "LayoutModel",
      "state": {
       "_model_module": "@jupyter-widgets/base",
       "_model_module_version": "1.2.0",
       "_model_name": "LayoutModel",
       "_view_count": null,
       "_view_module": "@jupyter-widgets/base",
       "_view_module_version": "1.2.0",
       "_view_name": "LayoutView",
       "align_content": null,
       "align_items": null,
       "align_self": null,
       "border": null,
       "bottom": null,
       "display": null,
       "flex": null,
       "flex_flow": null,
       "grid_area": null,
       "grid_auto_columns": null,
       "grid_auto_flow": null,
       "grid_auto_rows": null,
       "grid_column": null,
       "grid_gap": null,
       "grid_row": null,
       "grid_template_areas": null,
       "grid_template_columns": null,
       "grid_template_rows": null,
       "height": null,
       "justify_content": null,
       "justify_items": null,
       "left": null,
       "margin": null,
       "max_height": null,
       "max_width": null,
       "min_height": null,
       "min_width": null,
       "object_fit": null,
       "object_position": null,
       "order": null,
       "overflow": null,
       "overflow_x": null,
       "overflow_y": null,
       "padding": null,
       "right": null,
       "top": null,
       "visibility": null,
       "width": null
      }
     },
     "e0b97a18f31a409fb99644c5fdfdc2fe": {
      "model_module": "@jupyter-widgets/base",
      "model_module_version": "1.2.0",
      "model_name": "LayoutModel",
      "state": {
       "_model_module": "@jupyter-widgets/base",
       "_model_module_version": "1.2.0",
       "_model_name": "LayoutModel",
       "_view_count": null,
       "_view_module": "@jupyter-widgets/base",
       "_view_module_version": "1.2.0",
       "_view_name": "LayoutView",
       "align_content": null,
       "align_items": null,
       "align_self": null,
       "border": null,
       "bottom": null,
       "display": null,
       "flex": null,
       "flex_flow": null,
       "grid_area": null,
       "grid_auto_columns": null,
       "grid_auto_flow": null,
       "grid_auto_rows": null,
       "grid_column": null,
       "grid_gap": null,
       "grid_row": null,
       "grid_template_areas": null,
       "grid_template_columns": null,
       "grid_template_rows": null,
       "height": null,
       "justify_content": null,
       "justify_items": null,
       "left": null,
       "margin": null,
       "max_height": null,
       "max_width": null,
       "min_height": null,
       "min_width": null,
       "object_fit": null,
       "object_position": null,
       "order": null,
       "overflow": null,
       "overflow_x": null,
       "overflow_y": null,
       "padding": null,
       "right": null,
       "top": null,
       "visibility": null,
       "width": null
      }
     },
     "e2612a48f2564cc9ac450aa4fe77377c": {
      "model_module": "@jupyter-widgets/base",
      "model_module_version": "1.2.0",
      "model_name": "LayoutModel",
      "state": {
       "_model_module": "@jupyter-widgets/base",
       "_model_module_version": "1.2.0",
       "_model_name": "LayoutModel",
       "_view_count": null,
       "_view_module": "@jupyter-widgets/base",
       "_view_module_version": "1.2.0",
       "_view_name": "LayoutView",
       "align_content": null,
       "align_items": null,
       "align_self": null,
       "border": null,
       "bottom": null,
       "display": null,
       "flex": null,
       "flex_flow": null,
       "grid_area": null,
       "grid_auto_columns": null,
       "grid_auto_flow": null,
       "grid_auto_rows": null,
       "grid_column": null,
       "grid_gap": null,
       "grid_row": null,
       "grid_template_areas": null,
       "grid_template_columns": null,
       "grid_template_rows": null,
       "height": null,
       "justify_content": null,
       "justify_items": null,
       "left": null,
       "margin": null,
       "max_height": null,
       "max_width": null,
       "min_height": null,
       "min_width": null,
       "object_fit": null,
       "object_position": null,
       "order": null,
       "overflow": null,
       "overflow_x": null,
       "overflow_y": null,
       "padding": null,
       "right": null,
       "top": null,
       "visibility": null,
       "width": null
      }
     },
     "e3a4777940ba41289264c74b00349650": {
      "model_module": "@jupyter-widgets/controls",
      "model_module_version": "1.5.0",
      "model_name": "HTMLModel",
      "state": {
       "_dom_classes": [],
       "_model_module": "@jupyter-widgets/controls",
       "_model_module_version": "1.5.0",
       "_model_name": "HTMLModel",
       "_view_count": null,
       "_view_module": "@jupyter-widgets/controls",
       "_view_module_version": "1.5.0",
       "_view_name": "HTMLView",
       "description": "",
       "description_tooltip": null,
       "layout": "IPY_MODEL_e0b97a18f31a409fb99644c5fdfdc2fe",
       "placeholder": "​",
       "style": "IPY_MODEL_86fc91b969764f8ab5eb56a09651c2c4",
       "value": " 125/125 [00:00&lt;00:00, 11.3kB/s]"
      }
     },
     "ef5753cc232b419a88e4ffc83c6f76d8": {
      "model_module": "@jupyter-widgets/base",
      "model_module_version": "1.2.0",
      "model_name": "LayoutModel",
      "state": {
       "_model_module": "@jupyter-widgets/base",
       "_model_module_version": "1.2.0",
       "_model_name": "LayoutModel",
       "_view_count": null,
       "_view_module": "@jupyter-widgets/base",
       "_view_module_version": "1.2.0",
       "_view_name": "LayoutView",
       "align_content": null,
       "align_items": null,
       "align_self": null,
       "border": null,
       "bottom": null,
       "display": null,
       "flex": null,
       "flex_flow": null,
       "grid_area": null,
       "grid_auto_columns": null,
       "grid_auto_flow": null,
       "grid_auto_rows": null,
       "grid_column": null,
       "grid_gap": null,
       "grid_row": null,
       "grid_template_areas": null,
       "grid_template_columns": null,
       "grid_template_rows": null,
       "height": null,
       "justify_content": null,
       "justify_items": null,
       "left": null,
       "margin": null,
       "max_height": null,
       "max_width": null,
       "min_height": null,
       "min_width": null,
       "object_fit": null,
       "object_position": null,
       "order": null,
       "overflow": null,
       "overflow_x": null,
       "overflow_y": null,
       "padding": null,
       "right": null,
       "top": null,
       "visibility": null,
       "width": null
      }
     },
     "f0d50980d0a2447db6a94fcd7442d4a2": {
      "model_module": "@jupyter-widgets/base",
      "model_module_version": "1.2.0",
      "model_name": "LayoutModel",
      "state": {
       "_model_module": "@jupyter-widgets/base",
       "_model_module_version": "1.2.0",
       "_model_name": "LayoutModel",
       "_view_count": null,
       "_view_module": "@jupyter-widgets/base",
       "_view_module_version": "1.2.0",
       "_view_name": "LayoutView",
       "align_content": null,
       "align_items": null,
       "align_self": null,
       "border": null,
       "bottom": null,
       "display": null,
       "flex": null,
       "flex_flow": null,
       "grid_area": null,
       "grid_auto_columns": null,
       "grid_auto_flow": null,
       "grid_auto_rows": null,
       "grid_column": null,
       "grid_gap": null,
       "grid_row": null,
       "grid_template_areas": null,
       "grid_template_columns": null,
       "grid_template_rows": null,
       "height": null,
       "justify_content": null,
       "justify_items": null,
       "left": null,
       "margin": null,
       "max_height": null,
       "max_width": null,
       "min_height": null,
       "min_width": null,
       "object_fit": null,
       "object_position": null,
       "order": null,
       "overflow": null,
       "overflow_x": null,
       "overflow_y": null,
       "padding": null,
       "right": null,
       "top": null,
       "visibility": null,
       "width": null
      }
     },
     "f5259231898740519fe10212d2fd8aea": {
      "model_module": "@jupyter-widgets/base",
      "model_module_version": "1.2.0",
      "model_name": "LayoutModel",
      "state": {
       "_model_module": "@jupyter-widgets/base",
       "_model_module_version": "1.2.0",
       "_model_name": "LayoutModel",
       "_view_count": null,
       "_view_module": "@jupyter-widgets/base",
       "_view_module_version": "1.2.0",
       "_view_name": "LayoutView",
       "align_content": null,
       "align_items": null,
       "align_self": null,
       "border": null,
       "bottom": null,
       "display": null,
       "flex": null,
       "flex_flow": null,
       "grid_area": null,
       "grid_auto_columns": null,
       "grid_auto_flow": null,
       "grid_auto_rows": null,
       "grid_column": null,
       "grid_gap": null,
       "grid_row": null,
       "grid_template_areas": null,
       "grid_template_columns": null,
       "grid_template_rows": null,
       "height": null,
       "justify_content": null,
       "justify_items": null,
       "left": null,
       "margin": null,
       "max_height": null,
       "max_width": null,
       "min_height": null,
       "min_width": null,
       "object_fit": null,
       "object_position": null,
       "order": null,
       "overflow": null,
       "overflow_x": null,
       "overflow_y": null,
       "padding": null,
       "right": null,
       "top": null,
       "visibility": null,
       "width": null
      }
     },
     "f9574ab8eac44fa694a0a3f514916f2f": {
      "model_module": "@jupyter-widgets/controls",
      "model_module_version": "1.5.0",
      "model_name": "HTMLModel",
      "state": {
       "_dom_classes": [],
       "_model_module": "@jupyter-widgets/controls",
       "_model_module_version": "1.5.0",
       "_model_name": "HTMLModel",
       "_view_count": null,
       "_view_module": "@jupyter-widgets/controls",
       "_view_module_version": "1.5.0",
       "_view_name": "HTMLView",
       "description": "",
       "description_tooltip": null,
       "layout": "IPY_MODEL_38d6c9c179704559bd7f3972c214f327",
       "placeholder": "​",
       "style": "IPY_MODEL_8326b9e031c5473da2ec8d256dcf1208",
       "value": "tokenizer_config.json: 100%"
      }
     },
     "faeab1efd51d4a1e9e60ed2b627f0006": {
      "model_module": "@jupyter-widgets/controls",
      "model_module_version": "1.5.0",
      "model_name": "FloatProgressModel",
      "state": {
       "_dom_classes": [],
       "_model_module": "@jupyter-widgets/controls",
       "_model_module_version": "1.5.0",
       "_model_name": "FloatProgressModel",
       "_view_count": null,
       "_view_module": "@jupyter-widgets/controls",
       "_view_module_version": "1.5.0",
       "_view_name": "ProgressView",
       "bar_style": "success",
       "description": "",
       "description_tooltip": null,
       "layout": "IPY_MODEL_769ec62ca60a427e85841b5932a3f19b",
       "max": 552366,
       "min": 0,
       "orientation": "horizontal",
       "style": "IPY_MODEL_806a297b5a044da2b5586c36148ea762",
       "value": 552366
      }
     },
     "fe8693cce2724aa782a5a0e6b7164233": {
      "model_module": "@jupyter-widgets/base",
      "model_module_version": "1.2.0",
      "model_name": "LayoutModel",
      "state": {
       "_model_module": "@jupyter-widgets/base",
       "_model_module_version": "1.2.0",
       "_model_name": "LayoutModel",
       "_view_count": null,
       "_view_module": "@jupyter-widgets/base",
       "_view_module_version": "1.2.0",
       "_view_name": "LayoutView",
       "align_content": null,
       "align_items": null,
       "align_self": null,
       "border": null,
       "bottom": null,
       "display": null,
       "flex": null,
       "flex_flow": null,
       "grid_area": null,
       "grid_auto_columns": null,
       "grid_auto_flow": null,
       "grid_auto_rows": null,
       "grid_column": null,
       "grid_gap": null,
       "grid_row": null,
       "grid_template_areas": null,
       "grid_template_columns": null,
       "grid_template_rows": null,
       "height": null,
       "justify_content": null,
       "justify_items": null,
       "left": null,
       "margin": null,
       "max_height": null,
       "max_width": null,
       "min_height": null,
       "min_width": null,
       "object_fit": null,
       "object_position": null,
       "order": null,
       "overflow": null,
       "overflow_x": null,
       "overflow_y": null,
       "padding": null,
       "right": null,
       "top": null,
       "visibility": null,
       "width": null
      }
     }
    },
    "version_major": 2,
    "version_minor": 0
   }
  }
 },
 "nbformat": 4,
 "nbformat_minor": 5
}
