{
 "cells": [
  {
   "cell_type": "markdown",
   "metadata": {},
   "source": [
    "# Adaline"
   ]
  },
  {
   "cell_type": "markdown",
   "metadata": {},
   "source": [
    "In this notebook, we implement Adaline network for separation on wine dataset."
   ]
  },
  {
   "cell_type": "markdown",
   "metadata": {},
   "source": [
    "## Data\n",
    "\n",
    "### Importing:\n",
    "- load_wine: To load the Wine dataset.\n",
    "- pandas: So that we can work with DataFrames.\n",
    "- numpy: To use numpy arrays and functions."
   ]
  },
  {
   "cell_type": "code",
   "execution_count": 130,
   "metadata": {},
   "outputs": [],
   "source": [
    "# Import libraries\n",
    "from sklearn.datasets import load_wine\n",
    "import pandas as pd\n",
    "import numpy as np"
   ]
  },
  {
   "cell_type": "markdown",
   "metadata": {},
   "source": [
    "First of all, we load the Data using `load_wine()` function imported from `sklearn.datasets`. \n",
    "\n",
    "- As we can see, there are several informations contained in loaded data. Some of most important of them are:\n",
    "    1. The data itself.\n",
    "    2. Targets: The desired labels.\n",
    "    3. feature_names.\n",
    "\n",
    "- So as we can see there are 3 kind of wines in this dataset determined and classified using various features.\n",
    "- There are **178** samples in this dataset.\n",
    "- For each of these samples, there is 13 features such as:\n",
    "    1. alcohol\n",
    "    2. malic_acid\n",
    "    3. etc..."
   ]
  },
  {
   "cell_type": "code",
   "execution_count": 131,
   "metadata": {},
   "outputs": [
    {
     "name": "stdout",
     "output_type": "stream",
     "text": [
      "The information about the data set that it contains:\n",
      " ['data', 'target', 'frame', 'target_names', 'DESCR', 'feature_names']\n",
      "\n",
      "The classes of wines in data set:\n",
      " ['class_0' 'class_1' 'class_2']\n",
      "\n",
      "The features in data set:\n",
      " ['alcohol', 'malic_acid', 'ash', 'alcalinity_of_ash', 'magnesium', 'total_phenols', 'flavanoids', 'nonflavanoid_phenols', 'proanthocyanins', 'color_intensity', 'hue', 'od280/od315_of_diluted_wines', 'proline']\n",
      "\n",
      "These information also contained in:\n",
      ".. _wine_dataset:\n",
      "\n",
      "Wine recognition dataset\n",
      "------------------------\n",
      "\n",
      "**Data Set Characteristics:**\n",
      "\n",
      "    :Number of Instances: 178\n",
      "    :Number of Attributes: 13 numeric, predictive attributes and the class\n",
      "    :Attribute Information:\n",
      " \t\t- Alcohol\n",
      " \t\t- Malic acid\n",
      " \t\t- Ash\n",
      "\t\t- Alcalinity of ash  \n",
      " \t\t- Magnesium\n",
      "\t\t- Total phenols\n",
      " \t\t- Flavanoids\n",
      " \t\t- Nonflavanoid phenols\n",
      " \t\t- Proanthocyanins\n",
      "\t\t- Color intensity\n",
      " \t\t- Hue\n",
      " \t\t- OD280/OD315 of diluted wines\n",
      " \t\t- Proline\n",
      "\n",
      "    - class:\n",
      "            - class_0\n",
      "            - class_1\n",
      "            - class_2\n",
      "\t\t\n",
      "    :Summary Statistics:\n",
      "    \n",
      "    ============================= ==== ===== ======= =====\n",
      "                                   Min   Max   Mean     SD\n",
      "    ============================= ==== ===== ======= =====\n",
      "    Alcohol:                      11.0  14.8    13.0   0.8\n",
      "    Malic Acid:                   0.74  5.80    2.34  1.12\n",
      "    Ash:                          1.36  3.23    2.36  0.27\n",
      "    Alcalinity of Ash:            10.6  30.0    19.5   3.3\n",
      "    Magnesium:                    70.0 162.0    99.7  14.3\n",
      "    Total Phenols:                0.98  3.88    2.29  0.63\n",
      "    Flavanoids:                   0.34  5.08    2.03  1.00\n",
      "    Nonflavanoid Phenols:         0.13  0.66    0.36  0.12\n",
      "    Proanthocyanins:              0.41  3.58    1.59  0.57\n",
      "    Colour Intensity:              1.3  13.0     5.1   2.3\n",
      "    Hue:                          0.48  1.71    0.96  0.23\n",
      "    OD280/OD315 of diluted wines: 1.27  4.00    2.61  0.71\n",
      "    Proline:                       278  1680     746   315\n",
      "    ============================= ==== ===== ======= =====\n",
      "\n",
      "    :Missing Attribute Values: None\n",
      "    :Class Distribution: class_0 (59), class_1 (71), class_2 (48)\n",
      "    :Creator: R.A. Fisher\n",
      "    :Donor: Michael Marshall (MARSHALL%PLU@io.arc.nasa.gov)\n",
      "    :Date: July, 1988\n",
      "\n",
      "This is a copy of UCI ML Wine recognition datasets.\n",
      "https://archive.ics.uci.edu/ml/machine-learning-databases/wine/wine.data\n",
      "\n",
      "The data is the results of a chemical analysis of wines grown in the same\n",
      "region in Italy by three different cultivators. There are thirteen different\n",
      "measurements taken for different constituents found in the three types of\n",
      "wine.\n",
      "\n",
      "Original Owners: \n",
      "\n",
      "Forina, M. et al, PARVUS - \n",
      "An Extendible Package for Data Exploration, Classification and Correlation. \n",
      "Institute of Pharmaceutical and Food Analysis and Technologies,\n",
      "Via Brigata Salerno, 16147 Genoa, Italy.\n",
      "\n",
      "Citation:\n",
      "\n",
      "Lichman, M. (2013). UCI Machine Learning Repository\n",
      "[https://archive.ics.uci.edu/ml]. Irvine, CA: University of California,\n",
      "School of Information and Computer Science. \n",
      "\n",
      ".. topic:: References\n",
      "\n",
      "  (1) S. Aeberhard, D. Coomans and O. de Vel, \n",
      "  Comparison of Classifiers in High Dimensional Settings, \n",
      "  Tech. Rep. no. 92-02, (1992), Dept. of Computer Science and Dept. of  \n",
      "  Mathematics and Statistics, James Cook University of North Queensland. \n",
      "  (Also submitted to Technometrics). \n",
      "\n",
      "  The data was used with many others for comparing various \n",
      "  classifiers. The classes are separable, though only RDA \n",
      "  has achieved 100% correct classification. \n",
      "  (RDA : 100%, QDA 99.4%, LDA 98.9%, 1NN 96.1% (z-transformed data)) \n",
      "  (All results using the leave-one-out technique) \n",
      "\n",
      "  (2) S. Aeberhard, D. Coomans and O. de Vel, \n",
      "  \"THE CLASSIFICATION PERFORMANCE OF RDA\" \n",
      "  Tech. Rep. no. 92-01, (1992), Dept. of Computer Science and Dept. of \n",
      "  Mathematics and Statistics, James Cook University of North Queensland. \n",
      "  (Also submitted to Journal of Chemometrics).\n",
      "\n"
     ]
    }
   ],
   "source": [
    "# Load the Wine data\n",
    "data = load_wine()\n",
    "print(f\"The information about the data set that it contains:\\n {list(data.keys())}\\n\")\n",
    "print(f\"The classes of wines in data set:\\n {data['target_names']}\\n\")\n",
    "print(f\"The features in data set:\\n {data['feature_names']}\")\n",
    "print(f\"\\nThese information also contained in:\\n{data['DESCR']}\")"
   ]
  },
  {
   "cell_type": "markdown",
   "metadata": {},
   "source": [
    "So we construct a DataFrame to store the Wine dataset, using the provided data.\n",
    "- 178 samples in 13 features."
   ]
  },
  {
   "cell_type": "code",
   "execution_count": 132,
   "metadata": {},
   "outputs": [
    {
     "name": "stdout",
     "output_type": "stream",
     "text": [
      "So, in summary, number of the samples contained in Wine data set is: 178\n",
      "And the number of features is: 13\n",
      "---------------------------------------------------------------------------\n"
     ]
    },
    {
     "data": {
      "text/html": [
       "<div>\n",
       "<style scoped>\n",
       "    .dataframe tbody tr th:only-of-type {\n",
       "        vertical-align: middle;\n",
       "    }\n",
       "\n",
       "    .dataframe tbody tr th {\n",
       "        vertical-align: top;\n",
       "    }\n",
       "\n",
       "    .dataframe thead th {\n",
       "        text-align: right;\n",
       "    }\n",
       "</style>\n",
       "<table border=\"1\" class=\"dataframe\">\n",
       "  <thead>\n",
       "    <tr style=\"text-align: right;\">\n",
       "      <th></th>\n",
       "      <th>alcohol</th>\n",
       "      <th>malic_acid</th>\n",
       "      <th>ash</th>\n",
       "      <th>alcalinity_of_ash</th>\n",
       "      <th>magnesium</th>\n",
       "      <th>total_phenols</th>\n",
       "      <th>flavanoids</th>\n",
       "      <th>nonflavanoid_phenols</th>\n",
       "      <th>proanthocyanins</th>\n",
       "      <th>color_intensity</th>\n",
       "      <th>hue</th>\n",
       "      <th>od280/od315_of_diluted_wines</th>\n",
       "      <th>proline</th>\n",
       "      <th>target</th>\n",
       "    </tr>\n",
       "  </thead>\n",
       "  <tbody>\n",
       "    <tr>\n",
       "      <th>0</th>\n",
       "      <td>14.23</td>\n",
       "      <td>1.71</td>\n",
       "      <td>2.43</td>\n",
       "      <td>15.6</td>\n",
       "      <td>127.0</td>\n",
       "      <td>2.80</td>\n",
       "      <td>3.06</td>\n",
       "      <td>0.28</td>\n",
       "      <td>2.29</td>\n",
       "      <td>5.64</td>\n",
       "      <td>1.04</td>\n",
       "      <td>3.92</td>\n",
       "      <td>1065.0</td>\n",
       "      <td>0</td>\n",
       "    </tr>\n",
       "    <tr>\n",
       "      <th>1</th>\n",
       "      <td>13.20</td>\n",
       "      <td>1.78</td>\n",
       "      <td>2.14</td>\n",
       "      <td>11.2</td>\n",
       "      <td>100.0</td>\n",
       "      <td>2.65</td>\n",
       "      <td>2.76</td>\n",
       "      <td>0.26</td>\n",
       "      <td>1.28</td>\n",
       "      <td>4.38</td>\n",
       "      <td>1.05</td>\n",
       "      <td>3.40</td>\n",
       "      <td>1050.0</td>\n",
       "      <td>0</td>\n",
       "    </tr>\n",
       "    <tr>\n",
       "      <th>2</th>\n",
       "      <td>13.16</td>\n",
       "      <td>2.36</td>\n",
       "      <td>2.67</td>\n",
       "      <td>18.6</td>\n",
       "      <td>101.0</td>\n",
       "      <td>2.80</td>\n",
       "      <td>3.24</td>\n",
       "      <td>0.30</td>\n",
       "      <td>2.81</td>\n",
       "      <td>5.68</td>\n",
       "      <td>1.03</td>\n",
       "      <td>3.17</td>\n",
       "      <td>1185.0</td>\n",
       "      <td>0</td>\n",
       "    </tr>\n",
       "    <tr>\n",
       "      <th>3</th>\n",
       "      <td>14.37</td>\n",
       "      <td>1.95</td>\n",
       "      <td>2.50</td>\n",
       "      <td>16.8</td>\n",
       "      <td>113.0</td>\n",
       "      <td>3.85</td>\n",
       "      <td>3.49</td>\n",
       "      <td>0.24</td>\n",
       "      <td>2.18</td>\n",
       "      <td>7.80</td>\n",
       "      <td>0.86</td>\n",
       "      <td>3.45</td>\n",
       "      <td>1480.0</td>\n",
       "      <td>0</td>\n",
       "    </tr>\n",
       "    <tr>\n",
       "      <th>4</th>\n",
       "      <td>13.24</td>\n",
       "      <td>2.59</td>\n",
       "      <td>2.87</td>\n",
       "      <td>21.0</td>\n",
       "      <td>118.0</td>\n",
       "      <td>2.80</td>\n",
       "      <td>2.69</td>\n",
       "      <td>0.39</td>\n",
       "      <td>1.82</td>\n",
       "      <td>4.32</td>\n",
       "      <td>1.04</td>\n",
       "      <td>2.93</td>\n",
       "      <td>735.0</td>\n",
       "      <td>0</td>\n",
       "    </tr>\n",
       "  </tbody>\n",
       "</table>\n",
       "</div>"
      ],
      "text/plain": [
       "   alcohol  malic_acid   ash  alcalinity_of_ash  magnesium  total_phenols  \\\n",
       "0    14.23        1.71  2.43               15.6      127.0           2.80   \n",
       "1    13.20        1.78  2.14               11.2      100.0           2.65   \n",
       "2    13.16        2.36  2.67               18.6      101.0           2.80   \n",
       "3    14.37        1.95  2.50               16.8      113.0           3.85   \n",
       "4    13.24        2.59  2.87               21.0      118.0           2.80   \n",
       "\n",
       "   flavanoids  nonflavanoid_phenols  proanthocyanins  color_intensity   hue  \\\n",
       "0        3.06                  0.28             2.29             5.64  1.04   \n",
       "1        2.76                  0.26             1.28             4.38  1.05   \n",
       "2        3.24                  0.30             2.81             5.68  1.03   \n",
       "3        3.49                  0.24             2.18             7.80  0.86   \n",
       "4        2.69                  0.39             1.82             4.32  1.04   \n",
       "\n",
       "   od280/od315_of_diluted_wines  proline  target  \n",
       "0                          3.92   1065.0       0  \n",
       "1                          3.40   1050.0       0  \n",
       "2                          3.17   1185.0       0  \n",
       "3                          3.45   1480.0       0  \n",
       "4                          2.93    735.0       0  "
      ]
     },
     "execution_count": 132,
     "metadata": {},
     "output_type": "execute_result"
    }
   ],
   "source": [
    "# Construct a DataFrame of this data\n",
    "wine_df = pd.DataFrame(data = data['data'], columns=data['feature_names'])\n",
    "wine_df['target'] = data['target']\n",
    "\n",
    "print(f\"So, in summary, number of the samples contained in Wine data set is: {wine_df.shape[0]}\\nAnd the number of features is: {wine_df.shape[1]-1}\")\n",
    "print('-'*75, end='\\n')\n",
    "\n",
    "wine_df.head(5)"
   ]
  },
  {
   "cell_type": "markdown",
   "metadata": {},
   "source": [
    "## Normalization\n",
    "\n",
    "- To use this data and train an Adaline model, we need to normalize the data.\n",
    "- As we know, Adaline assumes that the provided data is 0 centered.\n",
    "- So we use `StandardScaler` to normalize the data with mean 0 and variance 1.\n",
    "- To do this:\n",
    "    1. First we set a scaler.\n",
    "    2. The using `fit_transform()`, normalize the data."
   ]
  },
  {
   "cell_type": "code",
   "execution_count": 133,
   "metadata": {},
   "outputs": [],
   "source": [
    "from sklearn.preprocessing import StandardScaler"
   ]
  },
  {
   "cell_type": "code",
   "execution_count": 134,
   "metadata": {},
   "outputs": [
    {
     "data": {
      "text/html": [
       "<div>\n",
       "<style scoped>\n",
       "    .dataframe tbody tr th:only-of-type {\n",
       "        vertical-align: middle;\n",
       "    }\n",
       "\n",
       "    .dataframe tbody tr th {\n",
       "        vertical-align: top;\n",
       "    }\n",
       "\n",
       "    .dataframe thead th {\n",
       "        text-align: right;\n",
       "    }\n",
       "</style>\n",
       "<table border=\"1\" class=\"dataframe\">\n",
       "  <thead>\n",
       "    <tr style=\"text-align: right;\">\n",
       "      <th></th>\n",
       "      <th>alcohol</th>\n",
       "      <th>malic_acid</th>\n",
       "      <th>ash</th>\n",
       "      <th>alcalinity_of_ash</th>\n",
       "      <th>magnesium</th>\n",
       "      <th>total_phenols</th>\n",
       "      <th>flavanoids</th>\n",
       "      <th>nonflavanoid_phenols</th>\n",
       "      <th>proanthocyanins</th>\n",
       "      <th>color_intensity</th>\n",
       "      <th>hue</th>\n",
       "      <th>od280/od315_of_diluted_wines</th>\n",
       "      <th>proline</th>\n",
       "      <th>target</th>\n",
       "    </tr>\n",
       "  </thead>\n",
       "  <tbody>\n",
       "    <tr>\n",
       "      <th>0</th>\n",
       "      <td>1.518613</td>\n",
       "      <td>-0.562250</td>\n",
       "      <td>0.232053</td>\n",
       "      <td>-1.169593</td>\n",
       "      <td>1.913905</td>\n",
       "      <td>0.808997</td>\n",
       "      <td>1.034819</td>\n",
       "      <td>-0.659563</td>\n",
       "      <td>1.224884</td>\n",
       "      <td>0.251717</td>\n",
       "      <td>0.362177</td>\n",
       "      <td>1.847920</td>\n",
       "      <td>1.013009</td>\n",
       "      <td>0</td>\n",
       "    </tr>\n",
       "    <tr>\n",
       "      <th>1</th>\n",
       "      <td>0.246290</td>\n",
       "      <td>-0.499413</td>\n",
       "      <td>-0.827996</td>\n",
       "      <td>-2.490847</td>\n",
       "      <td>0.018145</td>\n",
       "      <td>0.568648</td>\n",
       "      <td>0.733629</td>\n",
       "      <td>-0.820719</td>\n",
       "      <td>-0.544721</td>\n",
       "      <td>-0.293321</td>\n",
       "      <td>0.406051</td>\n",
       "      <td>1.113449</td>\n",
       "      <td>0.965242</td>\n",
       "      <td>0</td>\n",
       "    </tr>\n",
       "    <tr>\n",
       "      <th>2</th>\n",
       "      <td>0.196879</td>\n",
       "      <td>0.021231</td>\n",
       "      <td>1.109334</td>\n",
       "      <td>-0.268738</td>\n",
       "      <td>0.088358</td>\n",
       "      <td>0.808997</td>\n",
       "      <td>1.215533</td>\n",
       "      <td>-0.498407</td>\n",
       "      <td>2.135968</td>\n",
       "      <td>0.269020</td>\n",
       "      <td>0.318304</td>\n",
       "      <td>0.788587</td>\n",
       "      <td>1.395148</td>\n",
       "      <td>0</td>\n",
       "    </tr>\n",
       "    <tr>\n",
       "      <th>3</th>\n",
       "      <td>1.691550</td>\n",
       "      <td>-0.346811</td>\n",
       "      <td>0.487926</td>\n",
       "      <td>-0.809251</td>\n",
       "      <td>0.930918</td>\n",
       "      <td>2.491446</td>\n",
       "      <td>1.466525</td>\n",
       "      <td>-0.981875</td>\n",
       "      <td>1.032155</td>\n",
       "      <td>1.186068</td>\n",
       "      <td>-0.427544</td>\n",
       "      <td>1.184071</td>\n",
       "      <td>2.334574</td>\n",
       "      <td>0</td>\n",
       "    </tr>\n",
       "    <tr>\n",
       "      <th>4</th>\n",
       "      <td>0.295700</td>\n",
       "      <td>0.227694</td>\n",
       "      <td>1.840403</td>\n",
       "      <td>0.451946</td>\n",
       "      <td>1.281985</td>\n",
       "      <td>0.808997</td>\n",
       "      <td>0.663351</td>\n",
       "      <td>0.226796</td>\n",
       "      <td>0.401404</td>\n",
       "      <td>-0.319276</td>\n",
       "      <td>0.362177</td>\n",
       "      <td>0.449601</td>\n",
       "      <td>-0.037874</td>\n",
       "      <td>0</td>\n",
       "    </tr>\n",
       "  </tbody>\n",
       "</table>\n",
       "</div>"
      ],
      "text/plain": [
       "    alcohol  malic_acid       ash  alcalinity_of_ash  magnesium  \\\n",
       "0  1.518613   -0.562250  0.232053          -1.169593   1.913905   \n",
       "1  0.246290   -0.499413 -0.827996          -2.490847   0.018145   \n",
       "2  0.196879    0.021231  1.109334          -0.268738   0.088358   \n",
       "3  1.691550   -0.346811  0.487926          -0.809251   0.930918   \n",
       "4  0.295700    0.227694  1.840403           0.451946   1.281985   \n",
       "\n",
       "   total_phenols  flavanoids  nonflavanoid_phenols  proanthocyanins  \\\n",
       "0       0.808997    1.034819             -0.659563         1.224884   \n",
       "1       0.568648    0.733629             -0.820719        -0.544721   \n",
       "2       0.808997    1.215533             -0.498407         2.135968   \n",
       "3       2.491446    1.466525             -0.981875         1.032155   \n",
       "4       0.808997    0.663351              0.226796         0.401404   \n",
       "\n",
       "   color_intensity       hue  od280/od315_of_diluted_wines   proline  target  \n",
       "0         0.251717  0.362177                      1.847920  1.013009       0  \n",
       "1        -0.293321  0.406051                      1.113449  0.965242       0  \n",
       "2         0.269020  0.318304                      0.788587  1.395148       0  \n",
       "3         1.186068 -0.427544                      1.184071  2.334574       0  \n",
       "4        -0.319276  0.362177                      0.449601 -0.037874       0  "
      ]
     },
     "execution_count": 134,
     "metadata": {},
     "output_type": "execute_result"
    }
   ],
   "source": [
    "scaler = StandardScaler()\n",
    "# Nomalize the features in dataset\n",
    "wine_df.iloc[:, :-1] = scaler.fit_transform(wine_df.iloc[:, :-1])\n",
    "\n",
    "wine_df.head(5)"
   ]
  },
  {
   "cell_type": "markdown",
   "metadata": {},
   "source": [
    "## Scatter plot\n",
    "\n",
    "To display the scatter plot of the provided dataset, we use `matplotlib.pyplot` as `plt`."
   ]
  },
  {
   "cell_type": "code",
   "execution_count": 135,
   "metadata": {},
   "outputs": [],
   "source": [
    "import matplotlib.pyplot as plt"
   ]
  },
  {
   "cell_type": "markdown",
   "metadata": {},
   "source": [
    "There are two thing that this function do to display the scatter plot:\n",
    "1. Display the provided points in dataset (with respect to given features)\n",
    "2. If there is any separator provided, display that separator."
   ]
  },
  {
   "cell_type": "code",
   "execution_count": 136,
   "metadata": {},
   "outputs": [],
   "source": [
    "def display_scatter_separators(data, features, separators=[]):\n",
    "    plt.figure(figsize=(8, 6))\n",
    "    # The points in dataset with respect to given features for each label\n",
    "    for label in range(len(data['target'].unique())) :\n",
    "        plt.scatter(data[data['target'] == label][features[0]],\n",
    "                    data[data['target'] == label][features[1]],\n",
    "                    label=f\"class_{label}\")\n",
    "    \n",
    "    # In case there is a line provided\n",
    "    if separators != []:\n",
    "        i = 0\n",
    "        for separator in separators:\n",
    "            # Find the weights with respect to given features\n",
    "            w1 = separator[0]\n",
    "            w2 = separator[1]\n",
    "            b = separator[-1]\n",
    "            \n",
    "            # Find the line and draw it\n",
    "            x_min = min(data[data['target'] == i][features[0]])\n",
    "            x_max = max(data[data['target'] == i][features[0]])\n",
    "            \n",
    "            x_values = np.linspace(x_min, x_max, 2)\n",
    "            y_values = (-w1 / w2) * x_values - (b / w2)\n",
    "            plt.plot(x_values, y_values, label=f'Separating Line {i}')\n",
    "            i += 1\n",
    "        \n",
    "    plt.xlabel(features[0])\n",
    "    plt.ylabel(features[1])\n",
    "    plt.title(f\"Scatter plot of Wine dataset: {features[0]} vs. {features[1]} and the separators\", fontsize=10)\n",
    "    plt.legend()\n",
    "    plt.grid(True)\n",
    "    plt.show()"
   ]
  },
  {
   "cell_type": "markdown",
   "metadata": {},
   "source": [
    "So this is the scatter plot of the dataset with repect to features `'alcohol'` and `'malic_acid'`.\n",
    "- As we can see they are not well separatable."
   ]
  },
  {
   "cell_type": "code",
   "execution_count": 137,
   "metadata": {},
   "outputs": [
    {
     "data": {
      "image/png": "[encoded data removed]",
      "text/plain": [
       "<Figure size 800x600 with 1 Axes>"
      ]
     },
     "metadata": {},
     "output_type": "display_data"
    }
   ],
   "source": [
    "display_scatter_separators(wine_df, ['alcohol', 'malic_acid'])"
   ]
  },
  {
   "cell_type": "markdown",
   "metadata": {},
   "source": [
    "## Adaline"
   ]
  },
  {
   "cell_type": "markdown",
   "metadata": {},
   "source": [
    "This is the class emplementing Adaline model.\n",
    "- There are *n_input* number of neurons in input layer.\n",
    "- As Adaline is used and designed for two class classification, there is only one neuron in output.\n",
    "- An instance of the model consists of:\n",
    "    1. trained (random at first) weights connecting each input to output.\n",
    "    2. trained (random at first) bias.\n",
    "\n",
    "- This class containes of these functions:\n",
    "    1. activation: The activation function for output layer:\n",
    "        $$f(net) = \\begin{cases} +1 & net \\ge 0 \\\\ -1 & net < 0 \\end{cases}$$\n",
    "    2. calc_net: This function is used to apply the input and calculate the net for output neuron.\n",
    "        $$ net = \\sum_{i = 1}^{n\\_inputs} x_iw_i + b$$\n",
    "    3. predict: It uses calc_net and activation function to predict the label.\n",
    "        $$ predicted\\; label = f(net)$$\n",
    "    4. update_weights: It updates the weights with respect to this formula:\n",
    "        $$w_i^+ = w_i^- + \\alpha(target - net)x_i$$\n",
    "    5. update_bias: It updated the bias with respect to this formula for each input:\n",
    "        $$b^+ = b^- + \\alpha(target - net)$$\n",
    "    6. It calculated the error using this formula:\n",
    "        $$ error = \\frac{1}{2}(target - net)^2 $$\n",
    "    7. This function is used to train the network based on given train data, in specified number of epochs or achieve a certain treshold.\n",
    "    \n",
    "        7.1. while for each train data, the error is less than a treshold or certain number of epochs are passed:\n",
    "        \n",
    "        7.2. for each data, calculate the net.\n",
    "\n",
    "        7.3. update weights and bias.\n",
    "\n",
    "        7.4. The check the criterion for each data.\n",
    "    \n",
    "    The network is trained in this way."
   ]
  },
  {
   "cell_type": "code",
   "execution_count": 138,
   "metadata": {},
   "outputs": [],
   "source": [
    "class Adaline:\n",
    "    \n",
    "    def __init__(self, n_inputs):\n",
    "        self.n_inputs = n_inputs\n",
    "        # Random weights\n",
    "        self.weights = np.random.randn(n_inputs) * 0.5\n",
    "        # Random bias\n",
    "        self.bias = np.random.randn(1)\n",
    "    \n",
    "    # Activation function for output neuron\n",
    "    def activation(self, net):\n",
    "        return 1 if net >= 0 else -1\n",
    "    \n",
    "    # Calculate the net to output neuron\n",
    "    def calc_net(self, inputs):\n",
    "        return np.dot(inputs, self.weights) + self.bias\n",
    "    \n",
    "    # Predict the output after the model is trained\n",
    "    def predict(self, inputs):\n",
    "        net = self.calc_net(inputs)\n",
    "        return self.activation(net)\n",
    "    \n",
    "    # Update the weights with respect to the given formula\n",
    "    def update_weights(self, inputs, target, learning_rate, net):\n",
    "        diff = target - net\n",
    "        self.weights += learning_rate * diff * inputs\n",
    "        return\n",
    "    \n",
    "    # Update the bias with respect to the given formula\n",
    "    def update_bias(self, inputs, target, learning_rate, net):\n",
    "        diff = target - net\n",
    "        self.bias += learning_rate * diff\n",
    "        return\n",
    "    \n",
    "    # Calculate the loss\n",
    "    def calc_loss(self, target, net):\n",
    "        return (1/2)*(target - net)**2\n",
    "    \n",
    "    # train the model using given train data\n",
    "    def fit(self, X, y, learning_rate, treshold, n_epochs=10000):\n",
    "        mean_losses = []\n",
    "        not_trained_yet = 1\n",
    "        epoch = 1\n",
    "\n",
    "        while not_trained_yet and epoch <= n_epochs:\n",
    "            \n",
    "            # Update the model\n",
    "            for x, target in zip(X, y):\n",
    "                \n",
    "                net = self.calc_net(x)[0]\n",
    "                \n",
    "                self.update_weights(x, target, learning_rate, net)\n",
    "                self.update_bias(x, target, learning_rate, net)\n",
    "            \n",
    "            sum_loss = 0\n",
    "            not_trained_yet = 0\n",
    "            for x, target in zip(X, y):\n",
    "                \n",
    "                net = self.calc_net(x)[0]   \n",
    "                loss = self.calc_loss(target, net)\n",
    "                sum_loss += loss\n",
    "\n",
    "                # Check for the criterion\n",
    "                if loss >= treshold:\n",
    "                    not_trained_yet = 1\n",
    "                    \n",
    "            mean_losses.append(sum_loss/len(y))\n",
    "                    \n",
    "            print(f\"epoch: {epoch}, epoch's mean loss: {np.round(mean_losses[-1], 5)}\", end='\\r', flush=True)\n",
    "            epoch += 1\n",
    "            \n",
    "        return mean_losses"
   ]
  },
  {
   "cell_type": "markdown",
   "metadata": {},
   "source": [
    "## Train for first two features\n",
    "\n",
    "- `train_test_split` is used to partition the given data.\n",
    "- Set the seed to *42* so that the results won't be different while executing the code on different executions."
   ]
  },
  {
   "cell_type": "code",
   "execution_count": 139,
   "metadata": {},
   "outputs": [],
   "source": [
    "from sklearn.model_selection import train_test_split\n",
    "# Set seed to 42\n",
    "np.random.seed(42)"
   ]
  },
  {
   "cell_type": "markdown",
   "metadata": {},
   "source": [
    "### Class 0\n",
    "\n",
    "Change the dataset so that the target is +1 for class 0 and -1 for None class 0.\n",
    "$$target = \\begin{cases} +1 & target \\in class\\_0 \\\\ -1 & target \\in none\\_class\\_0 \\end{cases}$$\n",
    "Now it is ready to train an Adaline network to separate class 0 and none class 0 with two features `alcohol` and `malic_acid`."
   ]
  },
  {
   "cell_type": "code",
   "execution_count": 140,
   "metadata": {},
   "outputs": [
    {
     "data": {
      "text/plain": [
       "array([ 1,  1,  1,  1,  1,  1,  1,  1,  1,  1,  1,  1,  1,  1,  1,  1,  1,\n",
       "        1,  1,  1,  1,  1,  1,  1,  1,  1,  1,  1,  1,  1,  1,  1,  1,  1,\n",
       "        1,  1,  1,  1,  1,  1,  1,  1,  1,  1,  1,  1,  1,  1,  1,  1,  1,\n",
       "        1,  1,  1,  1,  1,  1,  1,  1, -1, -1, -1, -1, -1, -1, -1, -1, -1,\n",
       "       -1, -1, -1, -1, -1, -1, -1, -1, -1, -1, -1, -1, -1, -1, -1, -1, -1,\n",
       "       -1, -1, -1, -1, -1, -1, -1, -1, -1, -1, -1, -1, -1, -1, -1, -1, -1,\n",
       "       -1, -1, -1, -1, -1, -1, -1, -1, -1, -1, -1, -1, -1, -1, -1, -1, -1,\n",
       "       -1, -1, -1, -1, -1, -1, -1, -1, -1, -1, -1, -1, -1, -1, -1, -1, -1,\n",
       "       -1, -1, -1, -1, -1, -1, -1, -1, -1, -1, -1, -1, -1, -1, -1, -1, -1,\n",
       "       -1, -1, -1, -1, -1, -1, -1, -1, -1, -1, -1, -1, -1, -1, -1, -1, -1,\n",
       "       -1, -1, -1, -1, -1, -1, -1, -1])"
      ]
     },
     "execution_count": 140,
     "metadata": {},
     "output_type": "execute_result"
    }
   ],
   "source": [
    "# Get the input part of data\n",
    "X_0 = wine_df[['alcohol', 'malic_acid']].values\n",
    "\n",
    "# Get the output part of data\n",
    "y_0 = wine_df[['target']].values.reshape(-1)\n",
    "# Change the target of none class 0 to -1\n",
    "y_0[y_0 != 0] = -1\n",
    "# Change the target of class 0 to 1\n",
    "y_0[y_0 == 0] = 1\n",
    "\n",
    "y_0"
   ]
  },
  {
   "cell_type": "markdown",
   "metadata": {},
   "source": [
    "- First of all paritition the data to train and test sets.\n",
    "- The create an instance of Adaline network with 2 (two features) neurons as input neurons.\n",
    "- The fit the model with:\n",
    "    - learning rate = 0.001\n",
    "    - treshold = 0.01\n",
    "    - number of epochs = 100"
   ]
  },
  {
   "cell_type": "code",
   "execution_count": 141,
   "metadata": {},
   "outputs": [
    {
     "name": "stdout",
     "output_type": "stream",
     "text": [
      "epoch: 100, epoch's mean loss: 0.23307\r"
     ]
    }
   ],
   "source": [
    "# Split the data to train and test sets\n",
    "X_train_0, X_test_0, y_train_0, y_test_0 = train_test_split(X_0, y_0, test_size=0.2, random_state=42)\n",
    "# Create an instance of Adaline network\n",
    "adaline_0 = Adaline(2)\n",
    "# Fit the model using train set\n",
    "loss_history_0 = adaline_0.fit(X_train_0, y_train_0, 1e-3, 1e-2, 100)"
   ]
  },
  {
   "cell_type": "markdown",
   "metadata": {},
   "source": [
    "As we can see, the trained model predictes the test set with accuracy 97.75%."
   ]
  },
  {
   "cell_type": "code",
   "execution_count": 142,
   "metadata": {},
   "outputs": [
    {
     "name": "stdout",
     "output_type": "stream",
     "text": [
      "The final accuracy for test set is: 97.75%\n"
     ]
    }
   ],
   "source": [
    "false_predicted_0 = 0\n",
    "for sample, target in zip(X_test_0, y_test_0):\n",
    "    pred = adaline_0.predict(sample)\n",
    "    # If the prediction is not right\n",
    "    if pred != target: false_predicted_0 += 1\n",
    "    \n",
    "print(f\"The final accuracy for test set is: {np.round((1 - false_predicted_0/wine_df.shape[0])*100, 2)}%\")"
   ]
  },
  {
   "cell_type": "markdown",
   "metadata": {},
   "source": [
    "As we can see, the trained model predictes the train set with accuracy 87.64%."
   ]
  },
  {
   "cell_type": "code",
   "execution_count": 143,
   "metadata": {},
   "outputs": [
    {
     "name": "stdout",
     "output_type": "stream",
     "text": [
      "The final accuracy for train set is: 87.64%\n"
     ]
    }
   ],
   "source": [
    "false_predicted_0 = 0\n",
    "for sample, target in zip(X_train_0, y_train_0):\n",
    "    pred = adaline_0.predict(sample)\n",
    "    # If the prediction is not right\n",
    "    if pred != target: false_predicted_0 += 1\n",
    "    \n",
    "print(f\"The final accuracy for train set is: {np.round((1 - false_predicted_0/wine_df.shape[0])*100, 2)}%\")"
   ]
  },
  {
   "cell_type": "markdown",
   "metadata": {},
   "source": [
    "This is the plot representing the decreasing flow of mean losses when training the model."
   ]
  },
  {
   "cell_type": "code",
   "execution_count": 144,
   "metadata": {},
   "outputs": [
    {
     "data": {
      "image/png": "[encoded data removed]",
      "text/plain": [
       "<Figure size 640x480 with 1 Axes>"
      ]
     },
     "metadata": {},
     "output_type": "display_data"
    }
   ],
   "source": [
    "# Create a line plot\n",
    "plt.plot(range(len(loss_history_0)), loss_history_0)\n",
    "\n",
    "# Set labels and title\n",
    "plt.xlabel('Epoch')\n",
    "plt.ylabel('Mean loss')\n",
    "plt.title('loss changes separating class 0')\n",
    "\n",
    "# Show plot\n",
    "plt.show()"
   ]
  },
  {
   "cell_type": "markdown",
   "metadata": {},
   "source": [
    "### Class 1\n",
    "\n",
    "Change the dataset so that the target is +1 for class 1 and -1 for None class 1.\n",
    "$$target = \\begin{cases} +1 & target \\in class\\_1 \\\\ -1 & target \\in none\\_class\\_1 \\end{cases}$$\n",
    "Now it is ready to train an Adaline network to separate class 1 and none class 1 with features `alcohol` and `malic_acid`."
   ]
  },
  {
   "cell_type": "code",
   "execution_count": 145,
   "metadata": {},
   "outputs": [
    {
     "data": {
      "text/plain": [
       "array([-1, -1, -1, -1, -1, -1, -1, -1, -1, -1, -1, -1, -1, -1, -1, -1, -1,\n",
       "       -1, -1, -1, -1, -1, -1, -1, -1, -1, -1, -1, -1, -1, -1, -1, -1, -1,\n",
       "       -1, -1, -1, -1, -1, -1, -1, -1, -1, -1, -1, -1, -1, -1, -1, -1, -1,\n",
       "       -1, -1, -1, -1, -1, -1, -1, -1,  1,  1,  1,  1,  1,  1,  1,  1,  1,\n",
       "        1,  1,  1,  1,  1,  1,  1,  1,  1,  1,  1,  1,  1,  1,  1,  1,  1,\n",
       "        1,  1,  1,  1,  1,  1,  1,  1,  1,  1,  1,  1,  1,  1,  1,  1,  1,\n",
       "        1,  1,  1,  1,  1,  1,  1,  1,  1,  1,  1,  1,  1,  1,  1,  1,  1,\n",
       "        1,  1,  1,  1,  1,  1,  1,  1,  1,  1,  1, -1, -1, -1, -1, -1, -1,\n",
       "       -1, -1, -1, -1, -1, -1, -1, -1, -1, -1, -1, -1, -1, -1, -1, -1, -1,\n",
       "       -1, -1, -1, -1, -1, -1, -1, -1, -1, -1, -1, -1, -1, -1, -1, -1, -1,\n",
       "       -1, -1, -1, -1, -1, -1, -1, -1])"
      ]
     },
     "execution_count": 145,
     "metadata": {},
     "output_type": "execute_result"
    }
   ],
   "source": [
    "# Get the input part of data\n",
    "X_1 = wine_df[['alcohol', 'malic_acid']].values\n",
    "\n",
    "# Get the output part of data\n",
    "y_1 = wine_df[['target']].values.reshape(-1)\n",
    "# Change the target of none class 0 to -1\n",
    "y_1[y_1 != 1] = -1\n",
    "# Change the target of class 0 to 1\n",
    "y_1[y_1 == 1] = 1\n",
    "\n",
    "y_1"
   ]
  },
  {
   "cell_type": "markdown",
   "metadata": {},
   "source": [
    "- First of all paritition the data to train and test sets.\n",
    "- The create an instance of Adaline network with 2 (number of features) neurons as input neurons.\n",
    "- The fit the model with:\n",
    "    - learning rate = 0.001\n",
    "    - treshold = 0.01\n",
    "    - number of epochs = 100"
   ]
  },
  {
   "cell_type": "code",
   "execution_count": 146,
   "metadata": {},
   "outputs": [
    {
     "name": "stdout",
     "output_type": "stream",
     "text": [
      "epoch: 100, epoch's mean loss: 0.22232\r"
     ]
    }
   ],
   "source": [
    "# Split the data to train and test sets\n",
    "X_train_1, X_test_1, y_train_1, y_test_1 = train_test_split(X_1, y_1, test_size=0.2, random_state=42)\n",
    "# Create an instance of Adaline network\n",
    "adaline_1 = Adaline(2)\n",
    "# Fit the model using train set\n",
    "loss_history_1 = adaline_1.fit(X_train_1, y_train_1, 1e-3, 1e-2, 100)"
   ]
  },
  {
   "cell_type": "markdown",
   "metadata": {},
   "source": [
    "As we can see, the trained model predictes the test set with accuracy 98.88%."
   ]
  },
  {
   "cell_type": "code",
   "execution_count": 147,
   "metadata": {},
   "outputs": [
    {
     "name": "stdout",
     "output_type": "stream",
     "text": [
      "The final accuracy for test set is: 98.88%\n"
     ]
    }
   ],
   "source": [
    "false_predicted_1 = 0\n",
    "for sample, target in zip(X_test_1, y_test_1):\n",
    "    pred = adaline_1.predict(sample)\n",
    "    # If it is not predicted correctly\n",
    "    if pred != target: false_predicted_1 += 1\n",
    "    \n",
    "print(f\"The final accuracy for test set is: {np.round((1 - false_predicted_1/wine_df.shape[0])*100, 2)}%\")"
   ]
  },
  {
   "cell_type": "markdown",
   "metadata": {},
   "source": [
    "As we can see, the trained model predictes the train set with accuracy 89.89%.\n",
    "\n",
    "- So this model is separating the class 1 and none class 1 better than the first network separating class 0 and none class 0.\n",
    "- It might be because of that class 2 and class 0 are not well separable."
   ]
  },
  {
   "cell_type": "code",
   "execution_count": 148,
   "metadata": {},
   "outputs": [
    {
     "name": "stdout",
     "output_type": "stream",
     "text": [
      "The final accuracy for train set is: 89.89%\n"
     ]
    }
   ],
   "source": [
    "false_predicted_1 = 0\n",
    "for sample, target in zip(X_train_1, y_train_1):\n",
    "    pred = adaline_1.predict(sample)\n",
    "    # If it is not predicted correctly\n",
    "    if pred != target: false_predicted_1 += 1\n",
    "    \n",
    "print(f\"The final accuracy for train set is: {np.round((1 - false_predicted_1/wine_df.shape[0])*100, 2)}%\")"
   ]
  },
  {
   "cell_type": "markdown",
   "metadata": {},
   "source": [
    "This is the plot representing the decreasing flow of mean losses when training the model."
   ]
  },
  {
   "cell_type": "code",
   "execution_count": 149,
   "metadata": {},
   "outputs": [
    {
     "data": {
      "image/png": "[encoded data removed]",
      "text/plain": [
       "<Figure size 640x480 with 1 Axes>"
      ]
     },
     "metadata": {},
     "output_type": "display_data"
    }
   ],
   "source": [
    "# Create a line plot\n",
    "plt.plot(range(len(loss_history_1)), loss_history_1)\n",
    "\n",
    "# Set labels and title\n",
    "plt.xlabel('Epoch')\n",
    "plt.ylabel('Mean loss')\n",
    "plt.title('loss changes separating class 1')\n",
    "\n",
    "# Show plot\n",
    "plt.show()"
   ]
  },
  {
   "cell_type": "markdown",
   "metadata": {},
   "source": [
    "- This is the data and calculated the separating lines (in 2 dimensions with respect to the given features).\n",
    "- It is not showing the separation very well, cause there are still 11 more features to examine."
   ]
  },
  {
   "cell_type": "code",
   "execution_count": 150,
   "metadata": {},
   "outputs": [
    {
     "data": {
      "image/png": "[encoded data removed]",
      "text/plain": [
       "<Figure size 800x600 with 1 Axes>"
      ]
     },
     "metadata": {},
     "output_type": "display_data"
    }
   ],
   "source": [
    "display_scatter_separators(wine_df, ['alcohol', 'malic_acid'],\n",
    "                           [np.append(adaline_0.weights, adaline_0.bias), \n",
    "                            np.append(adaline_1.weights, adaline_1.bias)])"
   ]
  },
  {
   "cell_type": "markdown",
   "metadata": {},
   "source": [
    "## Train for all features"
   ]
  },
  {
   "cell_type": "markdown",
   "metadata": {},
   "source": [
    "Now we try training an Adaline model for all features."
   ]
  },
  {
   "cell_type": "code",
   "execution_count": 151,
   "metadata": {},
   "outputs": [],
   "source": [
    "# Get the input part of data\n",
    "X_all_0 = wine_df.iloc[:, :-1].values\n",
    "\n",
    "# Get the output part of data\n",
    "y_all_0 = wine_df[['target']].values.reshape(-1)\n",
    "# Change the target of none class 0 to -1\n",
    "y_all_0[y_all_0 != 0] = -1\n",
    "# Change the target of class 0 to 1\n",
    "y_all_0[y_all_0 == 0] = 1"
   ]
  },
  {
   "cell_type": "code",
   "execution_count": 152,
   "metadata": {},
   "outputs": [
    {
     "name": "stdout",
     "output_type": "stream",
     "text": [
      "epoch: 2500, epoch's mean loss: 0.05993\r"
     ]
    }
   ],
   "source": [
    "# Split the data to train and test sets\n",
    "X_train_all_0, X_test_all_0, y_train_all_0, y_test_all_0 = train_test_split(X_all_0, y_all_0, test_size=0.2, random_state=42)\n",
    "# Create an instance of Adaline network\n",
    "adaline_all_0 = Adaline(13)\n",
    "# Fit the model using train set\n",
    "loss_history_all_0 = adaline_all_0.fit(X_train_all_0, y_train_all_0, 5e-5, 1e-2, 2500)"
   ]
  },
  {
   "cell_type": "markdown",
   "metadata": {},
   "source": [
    "Accuracy 100 on test set"
   ]
  },
  {
   "cell_type": "code",
   "execution_count": 153,
   "metadata": {},
   "outputs": [
    {
     "name": "stdout",
     "output_type": "stream",
     "text": [
      "The final accuracy for test set is: 100.0%\n"
     ]
    }
   ],
   "source": [
    "false_predicted_all_0 = 0\n",
    "for sample, target in zip(X_test_all_0, y_test_all_0):\n",
    "    pred = adaline_all_0.predict(sample)\n",
    "    # If the prediction is not right\n",
    "    if pred != target: false_predicted_all_0 += 1\n",
    "    \n",
    "print(f\"The final accuracy for test set is: {np.round((1 - false_predicted_all_0/wine_df.shape[0])*100, 2)}%\")"
   ]
  },
  {
   "cell_type": "markdown",
   "metadata": {},
   "source": [
    "Accuracy 100 on train set"
   ]
  },
  {
   "cell_type": "code",
   "execution_count": 154,
   "metadata": {},
   "outputs": [
    {
     "name": "stdout",
     "output_type": "stream",
     "text": [
      "The final accuracy for train set is: 100.0%\n"
     ]
    }
   ],
   "source": [
    "false_predicted_all_0 = 0\n",
    "for sample, target in zip(X_train_all_0, y_train_all_0):\n",
    "    pred = adaline_all_0.predict(sample)\n",
    "    # If the prediction is not right\n",
    "    if pred != target: false_predicted_all_0 += 1\n",
    "    \n",
    "print(f\"The final accuracy for train set is: {np.round((1 - false_predicted_all_0/wine_df.shape[0])*100, 2)}%\")"
   ]
  },
  {
   "cell_type": "code",
   "execution_count": 155,
   "metadata": {},
   "outputs": [
    {
     "data": {
      "image/png": "[encoded data removed]",
      "text/plain": [
       "<Figure size 640x480 with 1 Axes>"
      ]
     },
     "metadata": {},
     "output_type": "display_data"
    }
   ],
   "source": [
    "# Create a line plot\n",
    "plt.plot(range(len(loss_history_all_0)), loss_history_all_0)\n",
    "\n",
    "# Set labels and title\n",
    "plt.xlabel('Epoch')\n",
    "plt.ylabel('Mean loss')\n",
    "plt.title('loss changes separating class 0')\n",
    "\n",
    "# Show plot\n",
    "plt.show()"
   ]
  }
 ],
 "metadata": {
  "kernelspec": {
   "display_name": "Python 3",
   "language": "python",
   "name": "python3"
  },
  "language_info": {
   "codemirror_mode": {
    "name": "ipython",
    "version": 3
   },
   "file_extension": ".py",
   "mimetype": "text/x-python",
   "name": "python",
   "nbconvert_exporter": "python",
   "pygments_lexer": "ipython3",
   "version": "3.8.6"
  }
 },
 "nbformat": 4,
 "nbformat_minor": 2
}
